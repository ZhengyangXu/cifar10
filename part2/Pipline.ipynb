{
 "cells": [
  {
   "cell_type": "code",
   "execution_count": 1,
   "metadata": {},
   "outputs": [],
   "source": [
    "%matplotlib inline\n",
    "import matplotlib.pyplot as plt\n",
    "import tensorflow as tf\n",
    "import numpy as np\n",
    "from sklearn.metrics import confusion_matrix\n",
    "import time\n",
    "from datetime import timedelta\n",
    "import math\n",
    "import os \n",
    "from datetime import datetime\n",
    "import seaborn as sn\n",
    "import pandas as pd\n",
    "\n",
    "# show all the output \n",
    "from IPython.core.interactiveshell import InteractiveShell\n",
    "InteractiveShell.ast_node_interactivity = \"all\""
   ]
  },
  {
   "cell_type": "markdown",
   "metadata": {},
   "source": [
    "## Step1: Define Help Functions:"
   ]
  },
  {
   "cell_type": "markdown",
   "metadata": {},
   "source": [
    "### 1. Help Fucntions for Downloading and Importing Data"
   ]
  },
  {
   "cell_type": "code",
   "execution_count": 2,
   "metadata": {},
   "outputs": [],
   "source": [
    "# %load ./cifar10.py\n",
    "########################################################################\n",
    "#\n",
    "# Functions for downloading the CIFAR-10 data-set from the internet\n",
    "# and loading it into memory.\n",
    "#\n",
    "# Implemented in Python 3.5\n",
    "#\n",
    "# Usage:\n",
    "# 1) Set the variable data_path with the desired storage path.\n",
    "# 2) Call maybe_download_and_extract() to download the data-set\n",
    "#    if it is not already located in the given data_path.\n",
    "# 3) Call load_class_names() to get an array of the class-names.\n",
    "# 4) Call load_training_data() and load_test_data() to get\n",
    "#    the images, class-numbers and one-hot encoded class-labels\n",
    "#    for the training-set and test-set.\n",
    "# 5) Use the returned data in your own program.\n",
    "#\n",
    "# Format:\n",
    "# The images for the training- and test-sets are returned as 4-dim numpy\n",
    "# arrays each with the shape: [image_number, height, width, channel]\n",
    "# where the individual pixels are floats between 0.0 and 1.0.\n",
    "#\n",
    "########################################################################\n",
    "#\n",
    "# This file is part of the TensorFlow Tutorials available at:\n",
    "#\n",
    "# https://github.com/Hvass-Labs/TensorFlow-Tutorials\n",
    "#\n",
    "# Published under the MIT License. See the file LICENSE for details.\n",
    "#\n",
    "# Copyright 2016 by Magnus Erik Hvass Pedersen\n",
    "#\n",
    "########################################################################\n",
    "\n",
    "import numpy as np\n",
    "import pickle\n",
    "import os\n",
    "import urllib.request\n",
    "import tarfile\n",
    "import zipfile\n",
    "\n",
    "########################################################################\n",
    "\n",
    "# Directory where you want to download and save the data-set.\n",
    "# Set this before you start calling any of the functions below.\n",
    "data_path = \"data/CIFAR-10/\"\n",
    "\n",
    "# URL for the data-set on the internet.\n",
    "data_url = \"https://www.cs.toronto.edu/~kriz/cifar-10-python.tar.gz\"\n",
    "\n",
    "########################################################################\n",
    "# Various constants for the size of the images.\n",
    "# Use these constants in your own program.\n",
    "\n",
    "# Width and height of each image.\n",
    "img_size = 32\n",
    "\n",
    "# Number of channels in each image, 3 channels: Red, Green, Blue.\n",
    "num_channels = 3\n",
    "\n",
    "# Length of an image when flattened to a 1-dim array.\n",
    "img_size_flat = img_size * img_size * num_channels\n",
    "\n",
    "# Number of classes.\n",
    "num_classes = 10\n",
    "\n",
    "########################################################################\n",
    "# Various constants used to allocate arrays of the correct size.\n",
    "\n",
    "# Number of files for the training-set.\n",
    "_num_files_train = 5\n",
    "\n",
    "# Number of images for each batch-file in the training-set.\n",
    "_images_per_file = 10000\n",
    "\n",
    "# Total number of images in the training-set.\n",
    "# This is used to pre-allocate arrays for efficiency.\n",
    "_num_images_train = _num_files_train * _images_per_file\n",
    "\n",
    "########################################################################\n",
    "# Private functions for downloading, unpacking and loading data-files.\n",
    "\n",
    "\n",
    "def _get_file_path(filename=\"\"):\n",
    "    \"\"\"\n",
    "    Return the full path of a data-file for the data-set.\n",
    "    If filename==\"\" then return the directory of the files.\n",
    "    \"\"\"\n",
    "\n",
    "    return os.path.join(data_path, \"cifar-10-batches-py/\", filename)\n",
    "\n",
    "\n",
    "def _unpickle(filename):\n",
    "    \"\"\"\n",
    "    Unpickle the given file and return the data.\n",
    "    Note that the appropriate dir-name is prepended the filename.\n",
    "    \"\"\"\n",
    "\n",
    "    # Create full path for the file.\n",
    "    file_path = _get_file_path(filename)\n",
    "\n",
    "    print(\"Loading data: \" + file_path)\n",
    "\n",
    "    with open(file_path, mode='rb') as file:\n",
    "        # In Python 3.X it is important to set the encoding,\n",
    "        # otherwise an exception is raised here.\n",
    "        data = pickle.load(file, encoding='bytes')\n",
    "\n",
    "    return data\n",
    "\n",
    "def ZCAtrans(raw):\n",
    "    xm = np.mean(raw, axis = 0)\n",
    "    raw= raw- xm\n",
    "    raw2 = raw.reshape((raw.shape[0], -1))\n",
    "    # raw is assumed to be zero-mean\n",
    "    C = np.dot( raw2.T, raw2 )/raw2.shape[0]\n",
    "    U, eva, V = np.linalg.svd(C)  # U[:, i] is the i-th eigenvector\n",
    "    sqeva = np.sqrt(eva + 0.001)\n",
    "    Uzca = np.dot(U/sqeva[np.newaxis, :], U.T)\n",
    "    X = np.dot(raw2, Uzca)\n",
    "    return X\n",
    "\n",
    "def _convert_images(raw):\n",
    "    \"\"\"\n",
    "    Convert images from the CIFAR-10 format and\n",
    "    return a 4-dim array with shape: [image_number, height, width, channel]\n",
    "    where the pixels are floats between 0.0 and 1.0.\n",
    "    \"\"\"\n",
    "\n",
    "    # Convert the raw images from the data-files to floating-points.\n",
    "    raw_float = np.array(raw, dtype=float) / 255.0\n",
    "    raw_float = ZCAtrans(raw_float)\n",
    "\n",
    "    # Reshape the array to 4-dimensions.\n",
    "    images = raw_float.reshape([-1, num_channels, img_size, img_size])\n",
    "\n",
    "    # Reorder the indices of the array.\n",
    "    images = images.transpose([0, 2, 3, 1])\n",
    "    \n",
    "    # normailze each image\n",
    "    for i in range(images.shape[0]):\n",
    "        m,M = images[i].min(), images[i].max()\n",
    "        images[i]=(images[i] - m) / (M - m)\n",
    "\n",
    "    return images\n",
    "\n",
    "\n",
    "def _load_data(filename):\n",
    "    \"\"\"\n",
    "    Load a pickled data-file from the CIFAR-10 data-set\n",
    "    and return the converted images (see above) and the class-number\n",
    "    for each image.\n",
    "    \"\"\"\n",
    "\n",
    "    # Load the pickled data-file.\n",
    "    data = _unpickle(filename)\n",
    "\n",
    "    # Get the raw images.\n",
    "    raw_images = data[b'data']\n",
    "\n",
    "    # Get the class-numbers for each image. Convert to numpy-array.\n",
    "    cls = np.array(data[b'labels'])\n",
    "\n",
    "    # Convert the images.\n",
    "    images = _convert_images(raw_images)\n",
    "\n",
    "    return images, cls\n",
    "\n",
    "\n",
    "########################################################################\n",
    "# Public functions that you may call to download the data-set from\n",
    "# the internet and load the data into memory.\n",
    "\n",
    "\n",
    "def maybe_download_and_extract(url, download_dir):\n",
    "    \"\"\"\n",
    "    Download and extract the data if it doesn't already exist.\n",
    "    Assumes the url is a tar-ball file.\n",
    "\n",
    "    :param url:\n",
    "        Internet URL for the tar-file to download.\n",
    "        Example: \"https://www.cs.toronto.edu/~kriz/cifar-10-python.tar.gz\"\n",
    "\n",
    "    :param download_dir:\n",
    "        Directory where the downloaded file is saved.\n",
    "        Example: \"data/CIFAR-10/\"\n",
    "\n",
    "    :return:\n",
    "        Nothing.\n",
    "    \"\"\"\n",
    "\n",
    "    # Filename for saving the file downloaded from the internet.\n",
    "    # Use the filename from the URL and add it to the download_dir.\n",
    "    filename = url.split('/')[-1]\n",
    "    file_path = os.path.join(download_dir, filename)\n",
    "\n",
    "    # Check if the file already exists.\n",
    "    # If it exists then we assume it has also been extracted,\n",
    "    # otherwise we need to download and extract it now.\n",
    "    if not os.path.exists(file_path):\n",
    "        # Check if the download directory exists, otherwise create it.\n",
    "        if not os.path.exists(download_dir):\n",
    "            os.makedirs(download_dir)\n",
    "\n",
    "        # Download the file from the internet.\n",
    "        file_path, _ = urllib.request.urlretrieve(url=url,\n",
    "                                                  filename=file_path,\n",
    "                                                  reporthook=_print_download_progress)\n",
    "\n",
    "        print()\n",
    "        print(\"Download finished. Extracting files.\")\n",
    "\n",
    "        if file_path.endswith(\".zip\"):\n",
    "            # Unpack the zip-file.\n",
    "            zipfile.ZipFile(file=file_path, mode=\"r\").extractall(download_dir)\n",
    "        elif file_path.endswith((\".tar.gz\", \".tgz\")):\n",
    "            # Unpack the tar-ball.\n",
    "            tarfile.open(name=file_path, mode=\"r:gz\").extractall(download_dir)\n",
    "\n",
    "        print(\"Done.\")\n",
    "    else:\n",
    "        print(\"Data has apparently already been downloaded and unpacked.\")\n",
    "\n",
    "\n",
    "\n",
    "def load_class_names():\n",
    "    \"\"\"\n",
    "    Load the names for the classes in the CIFAR-10 data-set.\n",
    "    Returns a list with the names. Example: names[3] is the name\n",
    "    associated with class-number 3.\n",
    "    \"\"\"\n",
    "\n",
    "    # Load the class-names from the pickled file.\n",
    "    raw = _unpickle(filename=\"batches.meta\")[b'label_names']\n",
    "\n",
    "    # Convert from binary strings.\n",
    "    names = [x.decode('utf-8') for x in raw]\n",
    "\n",
    "    return names\n",
    "\n",
    "def one_hot_encoded(class_numbers, num_classes=None):\n",
    "    \"\"\"\n",
    "    Generate the One-Hot encoded class-labels from an array of integers.\n",
    "    For example, if class_number=2 and num_classes=4 then\n",
    "    the one-hot encoded label is the float array: [0. 0. 1. 0.]\n",
    "    :param class_numbers:\n",
    "        Array of integers with class-numbers.\n",
    "        Assume the integers are from zero to num_classes-1 inclusive.\n",
    "    :param num_classes:\n",
    "        Number of classes. If None then use max(class_numbers)+1.\n",
    "    :return:\n",
    "        2-dim array of shape: [len(class_numbers), num_classes]\n",
    "    \"\"\"\n",
    "\n",
    "    # Find the number of classes if None is provided.\n",
    "    # Assumes the lowest class-number is zero.\n",
    "    if num_classes is None:\n",
    "        num_classes = np.max(class_numbers) + 1\n",
    "\n",
    "    return np.eye(num_classes, dtype=float)[class_numbers]\n",
    "\n",
    "def load_training_data():\n",
    "    \"\"\"\n",
    "    Load all the training-data for the CIFAR-10 data-set.\n",
    "    The data-set is split into 5 data-files which are merged here.\n",
    "    Returns the images, class-numbers and one-hot encoded class-labels.\n",
    "    \"\"\"\n",
    "\n",
    "    # Pre-allocate the arrays for the images and class-numbers for efficiency.\n",
    "    images = np.zeros(shape=[_num_images_train, img_size, img_size, num_channels], dtype=float)\n",
    "    cls = np.zeros(shape=[_num_images_train], dtype=int)\n",
    "\n",
    "    # Begin-index for the current batch.\n",
    "    begin = 0\n",
    "\n",
    "    # For each data-file.\n",
    "    for i in range(_num_files_train):\n",
    "        # Load the images and class-numbers from the data-file.\n",
    "        images_batch, cls_batch = _load_data(filename=\"data_batch_\" + str(i + 1))\n",
    "\n",
    "        # Number of images in this batch.\n",
    "        num_images = len(images_batch)\n",
    "\n",
    "        # End-index for the current batch.\n",
    "        end = begin + num_images\n",
    "\n",
    "        # Store the images into the array.\n",
    "        images[begin:end, :] = images_batch\n",
    "\n",
    "        # Store the class-numbers into the array.\n",
    "        cls[begin:end] = cls_batch\n",
    "\n",
    "        # The begin-index for the next batch is the current end-index.\n",
    "        begin = end\n",
    "\n",
    "    return images, cls, one_hot_encoded(class_numbers=cls, num_classes=num_classes)\n",
    "\n",
    "\n",
    "def load_test_data():\n",
    "    \"\"\"\n",
    "    Load all the test-data for the CIFAR-10 data-set.\n",
    "    Returns the images, class-numbers and one-hot encoded class-labels.\n",
    "    \"\"\"\n",
    "\n",
    "    images, cls = _load_data(filename=\"test_batch\")\n",
    "\n",
    "    return images, cls, one_hot_encoded(class_numbers=cls, num_classes=num_classes)\n",
    "\n",
    "########################################################################\n",
    "## The following is for loading testing data to show the original images\n",
    "#######################################################################\n",
    "\n",
    "def _convert_images_for_print(raw):\n",
    "    \"\"\"\n",
    "    Convert images from the CIFAR-10 format and\n",
    "    return a 4-dim array with shape: [image_number, height, width, channel]\n",
    "    where the pixels are floats between 0.0 and 1.0.\n",
    "    \"\"\"\n",
    "\n",
    "    # Convert the raw images from the data-files to floating-points.\n",
    "    raw_float = np.array(raw, dtype=float) / 255.0\n",
    "\n",
    "    # Reshape the array to 4-dimensions.\n",
    "    images = raw_float.reshape([-1, num_channels, img_size, img_size])\n",
    "\n",
    "    # Reorder the indices of the array.\n",
    "    images = images.transpose([0, 2, 3, 1])\n",
    "\n",
    "    return images\n",
    "\n",
    "\n",
    "def _load_data_for_print(filename):\n",
    "    \"\"\"\n",
    "    Load a pickled data-file from the CIFAR-10 data-set\n",
    "    and return the converted images (see above) and the class-number\n",
    "    for each image.\n",
    "    \"\"\"\n",
    "\n",
    "    # Load the pickled data-file.\n",
    "    data = _unpickle(filename)\n",
    "\n",
    "    # Get the raw images.\n",
    "    raw_images = data[b'data']\n",
    "\n",
    "    # Get the class-numbers for each image. Convert to numpy-array.\n",
    "    cls = np.array(data[b'labels'])\n",
    "\n",
    "    # Convert the images.\n",
    "    images = _convert_images_for_print(raw_images)\n",
    "\n",
    "    return images, cls\n",
    "\n",
    "def load_test_data_for_print():\n",
    "    \"\"\"\n",
    "    Load all the test-data for the CIFAR-10 data-set.\n",
    "\n",
    "    Returns the images, class-numbers and one-hot encoded class-labels.\n",
    "    \"\"\"\n",
    "\n",
    "    images, cls = _load_data_for_print(filename=\"test_batch\")\n",
    "\n",
    "    return images, cls, one_hot_encoded(class_numbers=cls, num_classes=num_classes)\n"
   ]
  },
  {
   "cell_type": "markdown",
   "metadata": {},
   "source": [
    "### 2. Help Fucntions for Data Augmentation"
   ]
  },
  {
   "cell_type": "code",
   "execution_count": 3,
   "metadata": {},
   "outputs": [],
   "source": [
    "# %load ./Augmentation.py\n",
    "########################################################################\n",
    "## The function is for data Augmentation:\n",
    "########################################################################\n",
    "def pre_process_image(image, training):\n",
    "    # This function takes a single image as input,\n",
    "    # and a boolean whether to build the training or testing graph.\n",
    "    \n",
    "    if training:\n",
    "        # For training, add the following to the TensorFlow graph.\n",
    "\n",
    "        # Randomly crop the input image.\n",
    "        image = tf.random_crop(image, size=[img_size_cropped, img_size_cropped, num_channels])\n",
    "\n",
    "        # Randomly flip the image horizontally.\n",
    "        image = tf.image.random_flip_left_right(image)\n",
    "        \n",
    "        # Randomly adjust hue, contrast and saturation.\n",
    "        image = tf.image.random_hue(image, max_delta=0.05)\n",
    "        image = tf.image.random_contrast(image, lower=0.3, upper=1.0)\n",
    "        image = tf.image.random_brightness(image, max_delta=0.2)\n",
    "        image = tf.image.random_saturation(image, lower=0.0, upper=2.0)\n",
    "\n",
    "        # Some of these functions may overflow and result in pixel\n",
    "        # values beyond the [0, 1] range. It is unclear from the\n",
    "        # documentation of TensorFlow 0.10.0rc0 whether this is\n",
    "        # intended. A simple solution is to limit the range.\n",
    "\n",
    "        # Limit the image pixels between [0, 1] in case of overflow.\n",
    "        image = tf.minimum(image, 1.0)\n",
    "        image = tf.maximum(image, 0.0)\n",
    "    else:\n",
    "        # For training, add the following to the TensorFlow graph.\n",
    "\n",
    "        # Crop the input image around the centre so it is the same\n",
    "        # size as images that are randomly cropped during training.\n",
    "        image = tf.image.resize_image_with_crop_or_pad(image,\n",
    "                                                       target_height=img_size_cropped,\n",
    "                                                       target_width=img_size_cropped)\n",
    "\n",
    "    return image\n",
    "\n",
    "##########################################################\n",
    "## The function is for apply preprocessiong for all images:\n",
    "##########################################################\n",
    "def pre_process(images, training):\n",
    "    # Use TensorFlow to loop over all the input images and call\n",
    "    # the function above which takes a single image as input.\n",
    "    images = tf.map_fn(lambda image: pre_process_image(image, training), images)\n",
    "\n",
    "    return images"
   ]
  },
  {
   "cell_type": "markdown",
   "metadata": {},
   "source": [
    "### 3. Help Function for Bulding CNN"
   ]
  },
  {
   "cell_type": "code",
   "execution_count": 4,
   "metadata": {},
   "outputs": [],
   "source": [
    "# %load ./CNN.py\n",
    "#######################################################\n",
    "# The function is for compute the cross entropy\n",
    "#######################################################\n",
    "def compute_cross_entropy(logits, y):\n",
    "    sm_ce = tf.nn.softmax_cross_entropy_with_logits(labels=y,logits=logits, name='cross_ent_terms')\n",
    "    cross_ent = tf.reduce_mean(sm_ce, name='cross_ent')\n",
    "    return cross_ent\n",
    "\n",
    "\n",
    "#######################################################\n",
    "# The function is for compute the cross entropy\n",
    "#######################################################\n",
    "def compute_accuracy(logits, y):\n",
    "    prediction = tf.argmax(logits, 1, name='pred_class')\n",
    "    true_label = tf.argmax(y, 1, name='true_class')\n",
    "    accuracy = tf.reduce_mean(tf.cast(tf.equal(prediction, true_label), tf.float32))\n",
    "    return  prediction, accuracy\n",
    "\n",
    "#######################################################\n",
    "# The function is for geting random batch for training the network\n",
    "#######################################################\n",
    "def random_batch():\n",
    "    # Number of images in the training-set.\n",
    "    num_images = len(images_train)\n",
    "    \n",
    "    # Create a random index.\n",
    "    idx = np.random.choice(num_images,\n",
    "                           size=batch_size,\n",
    "                           replace=False)\n",
    "\n",
    "    # Use the random index to select random images and labels.\n",
    "    x_batch = images_train[idx,:,:,:]\n",
    "    y_batch = labels_train[idx, :]\n",
    "\n",
    "    return x_batch, y_batch\n",
    "\n",
    "######################################################\n",
    "# The Function for defineing the CNN Network\n",
    "######################################################\n",
    "# Inference\n",
    "\n",
    "def _variable_with_weight_decay(name, shape, stddev, wd):\n",
    "    \"\"\"\n",
    "    Helper to create an initialized Variable with weight decay\n",
    "\n",
    "    Args:\n",
    "        name: name of the variable\n",
    "        shape: list of ints\n",
    "        stddev: standard deviation of a truncated Gaussian\n",
    "        wd: add L2Loss weight decay multiplied by this float. If None, weight\n",
    "            decay is not added for this Variable.\n",
    "\n",
    "    Returns:\n",
    "        Variable Tensor\n",
    "    \"\"\"\n",
    "    var = _variable_on_cpu(\n",
    "        name,\n",
    "        shape,\n",
    "        tf.truncated_normal_initializer(stddev=stddev, dtype=tf.float32))\n",
    "    if wd is not None:\n",
    "        weight_decay = tf.multiply(tf.nn.l2_loss(var), wd, name='weight_loss')\n",
    "        tf.add_to_collection('losses', weight_decay)\n",
    "    return var\n",
    "\n",
    "\n",
    "def _variable_on_cpu(name, shape, initializer):\n",
    "    \"\"\"\n",
    "    Helper to create a Variable stored on CPU memory\n",
    "\n",
    "    Args:\n",
    "        name: name of the variable\n",
    "        shape: list of ints\n",
    "        initializer: initializer for Variable\n",
    "\n",
    "    Returns:\n",
    "        Variable Tensor\n",
    "\n",
    "    \"\"\"\n",
    "    with tf.device('/cpu:0'):\n",
    "        var = tf.get_variable(name, shape, initializer=initializer, dtype=tf.float32)\n",
    "    return var\n",
    "\n",
    "def compute_logits_cnn(x):\n",
    "    \n",
    "    phase_train = tf.placeholder(tf.bool, name='phase_train')\n",
    "\n",
    "    x = tf.reshape(x, [-1, img_size_cropped, img_size_cropped, 3])\n",
    "\n",
    "    # layer_conv1\n",
    "    with tf.variable_scope('conv1') as scope:\n",
    "        kernel = _variable_with_weight_decay('weights',\n",
    "                                             shape=[5, 5, 3, 64],\n",
    "                                             stddev=5e-2,\n",
    "                                             wd=0.0)\n",
    "        conv = tf.nn.conv2d(images, kernel, [1, 1, 1, 1], padding='SAME')\n",
    "        biases = _variable_on_cpu('biases', [64], tf.constant_initializer(0.0))\n",
    "        pre_activation = tf.nn.bias_add(conv, biases)\n",
    "        conv1 = tf.nn.relu(pre_activation, name=scope.name)\n",
    "\n",
    "    # max_pool\n",
    "    pool1 = tf.nn.max_pool(conv1, ksize=[1, 2, 2, 1], strides=[1, 2, 2, 1],\n",
    "                         padding='SAME', name='pool1')\n",
    "\n",
    "    # layer_conv2\n",
    "    with tf.variable_scope('conv2') as scope:\n",
    "        kernel = _variable_with_weight_decay('weights',\n",
    "                                             shape=[5, 5, 64, 64],\n",
    "                                             stddev=5e-2,\n",
    "                                             wd=0.0)\n",
    "        conv = tf.nn.conv2d(pool1, kernel, [1, 1, 1, 1], padding='SAME')\n",
    "        biases = _variable_on_cpu('biases', [64], tf.constant_initializer(0.0))\n",
    "        pre_activation = tf.nn.bias_add(conv, biases)\n",
    "        conv2 = tf.nn.relu(pre_activation, name=scope.name) \n",
    "\n",
    "    # max_pool\n",
    "    pool2 = tf.nn.max_pool(conv2, ksize=[1, 2, 2, 1], strides=[1, 2, 2, 1],\n",
    "                         padding='SAME', name='pool1')\n",
    "    \n",
    "    # layer_fc1\n",
    "    with tf.variable_scope('fc1') as scope:\n",
    "        # flatten\n",
    "        reshape = tf.reshape(pool2, [-1, 6*6*64])\n",
    "        dim = reshape.get_shape()[1].value\n",
    "        weights = _variable_with_weight_decay('weights', shape=[dim, 256],\n",
    "                                              stddev=0.04, wd=0.0)\n",
    "        biases = _variable_on_cpu('biases', [256], tf.constant_initializer(0.0))\n",
    "        fc1 = tf.nn.relu(tf.matmul(reshape, weights) + biases, name=scope.name)\n",
    "\n",
    "    # layer_fc2\n",
    "    with tf.variable_scope('fc2') as scope:\n",
    "        weights = _variable_with_weight_decay('weights', shape=[256, 128],\n",
    "                                              stddev=0.04, wd=0.0)\n",
    "        biases = _variable_on_cpu('biases', [128], tf.constant_initializer(0.0))\n",
    "        fc2 = tf.nn.relu(tf.matmul(fc1, weights) + biases, name=scope.name)\n",
    "\n",
    "    # softmax_classifier\n",
    "    with tf.variable_scope('softmax_linear') as scope:\n",
    "        weights = _variable_with_weight_decay('weights', [128, num_classes],\n",
    "                                          stddev=1/128.0, wd=0.0)\n",
    "        biases = _variable_on_cpu('biases', [num_classes],\n",
    "                              tf.constant_initializer(0.0))\n",
    "        softmax_linear = tf.add(tf.matmul(fc2, weights), biases, name=scope.name)   \n",
    "\n",
    "    return softmax_linear, pool1 , pool2"
   ]
  },
  {
   "cell_type": "markdown",
   "metadata": {},
   "source": [
    "### 4. Help Function for Building Network in Network"
   ]
  },
  {
   "cell_type": "code",
   "execution_count": 5,
   "metadata": {},
   "outputs": [],
   "source": [
    "# %load ./NIN.py\n",
    "#######################################################\n",
    "# The funciton is for building Network in Network.\n",
    "#######################################################\n",
    "def conv(x, W):\n",
    "    \"\"\"simple wrapper for tf.nn.conv2d\"\"\"\n",
    "    return tf.nn.conv2d(x, W, strides=[1, 1, 1, 1], padding='SAME')\n",
    "\n",
    "def maxpool(x):\n",
    "    \"\"\"simple wrapper for tf.nn.max_pool with kernel size 3, stride size 2\"\"\"\n",
    "    return tf.nn.max_pool(x, ksize=[1, 3, 3, 1], strides=[1, 2, 2, 1], padding='SAME')\n",
    "\n",
    "def avgpool(x, k = 3, s = 2, p = 'SAME'):\n",
    "    \"\"\"simple wrapper for tf.nn.max_pool with kernel size 3, stride size 2\"\"\"\n",
    "    return tf.nn.avg_pool(x, ksize=[1, k, k, 1], strides=[1, s, s, 1], padding= p)\n",
    "\n",
    "def dropout(x):\n",
    "    \"\"\"simple wrapper for tf.nn.dropout with dropout ratio 0.5\"\"\"\n",
    "    return tf.nn.dropout(x, 0.5)\n",
    "\n",
    "## Define the Network\n",
    "def compute_logits_NIN(x):\n",
    "    x_image = tf.reshape(x, [-1, img_size_cropped, img_size_cropped, 3])\n",
    "    # conv1 / relu1\n",
    "    W_conv1 = tf.get_variable('W_conv1', shape = [5, 5, 3, 192])\n",
    "    b_conv1 = tf.get_variable('b_conv1', shape = [192],)\n",
    "    h_conv1 = tf.nn.relu(tf.add(conv(x_image, W_conv1), b_conv1))\n",
    "    \n",
    "    # cccp1 / relu_cccp1\n",
    "    W_cccp1 = tf.get_variable('W_cccp1', shape = [1, 1, 192, 160])\n",
    "    b_cccp1 = tf.get_variable('b_cccp1', shape = [160])\n",
    "    h_cccp1 = tf.nn.relu(tf.add(conv(h_conv1, W_cccp1), b_cccp1))\n",
    "    \n",
    "    # cccp2 / relu_cccp2\n",
    "    W_cccp2 = tf.get_variable('W_cccp2', shape = [1, 1, 160, 96])\n",
    "    b_cccp2 = tf.get_variable('b_cccp2', shape = [96])\n",
    "    h_cccp2 = tf.nn.relu(tf.add(conv(h_cccp1, W_cccp2), b_cccp2))\n",
    "    \n",
    "    #print(h_cccp2)\n",
    "    h_pool1 = maxpool(h_cccp2)\n",
    "    # drop3\n",
    "    h_drop3 = dropout(h_pool1)\n",
    "    # conv2 / relu2\n",
    "    W_conv2 = tf.get_variable('W_conv2', shape = [5, 5, 96, 192])\n",
    "    b_conv2 = tf.get_variable('b_conv2',shape = [192])\n",
    "    h_conv2 = tf.nn.relu(tf.add(conv(h_drop3, W_conv2), b_conv2))\n",
    "    \n",
    "    # cccp3 / relu_cccp3\n",
    "    W_cccp3 = tf.get_variable('W_cccp3', shape = [1, 1, 192, 192])\n",
    "    b_cccp3 = tf.get_variable('b_cccp3', shape = [192])\n",
    "    h_cccp3 = tf.nn.relu(tf.add(conv(h_conv2, W_cccp3), b_cccp3))\n",
    "    \n",
    "    # cccp4 / relu_cccp4\n",
    "    W_cccp4 = tf.get_variable('W_cccp4', shape = [1, 1, 192, 192])\n",
    "    b_cccp4 = tf.get_variable('b_cccp4',shape = [192])\n",
    "    h_cccp4 = tf.nn.relu(tf.add(conv(h_cccp3, W_cccp4), b_cccp4))\n",
    "    # poo2\n",
    "    h_pool2 = avgpool(h_cccp4)\n",
    "    # drop6\n",
    "    h_drop6 = dropout(h_pool2)\n",
    "    \n",
    "    # conv3 / relu3\n",
    "    W_conv3 = tf.get_variable('W_conv3', shape = [3, 3, 192, 192])\n",
    "    b_conv3 = tf.get_variable('b_conv3',shape = [192],)\n",
    "    h_conv3 = tf.nn.relu(tf.add(conv(h_drop6, W_conv3), b_conv3))\n",
    "    \n",
    "    # cccp5 / relu_cccp5\n",
    "    W_cccp5 = tf.get_variable('W_cccp5', shape = [1, 1, 192, 192])\n",
    "    b_cccp5 = tf.get_variable('b_cccp5', shape = [192])\n",
    "    h_cccp5 = tf.nn.relu(tf.add(conv(h_conv3, W_cccp5), b_cccp5))\n",
    "    \n",
    "    # cccp6 / relu_cccp6\n",
    "    W_cccp6 = tf.get_variable('W_cccp6', shape = [1, 1, 192, 10])\n",
    "    b_cccp6 = tf.get_variable('b_cccp6',shape = [10])\n",
    "    h_cccp6 = tf.nn.relu(tf.nn.bias_add(conv(h_cccp5, W_cccp6), b_cccp6))\n",
    "    \n",
    "    # pool3\n",
    "    h_pool3 = avgpool(h_cccp6, 6, 1, 'VALID')\n",
    "    output_reshaped = tf.reshape(h_pool3, [-1,10])\n",
    "\n",
    "    return output_reshaped,h_conv1,h_cccp1,h_cccp2,h_pool1,h_conv2,h_pool2,h_cccp3,h_cccp4,h_conv3,h_cccp5,h_cccp6,h_pool3\n",
    "\n",
    "###########################################################\n",
    "#############################################################"
   ]
  },
  {
   "cell_type": "markdown",
   "metadata": {},
   "source": [
    "### 5. Help Function for Network Visulization and Model Evaluation"
   ]
  },
  {
   "cell_type": "code",
   "execution_count": 6,
   "metadata": {},
   "outputs": [],
   "source": [
    "# %load ./Visulization.py\n",
    "########################################################################\n",
    "# The functions are for showing the original images\n",
    "########################################################################\n",
    "def plot_images(images, cls_true, cls_pred=None, smooth=True):\n",
    "\n",
    "    assert len(images) == len(cls_true) == 9\n",
    "    fig, axes = plt.subplots(3, 3)\n",
    "\n",
    "    # Adjust vertical spacing if we need to print ensemble and best-net.\n",
    "    if cls_pred is None:\n",
    "        hspace = 0.3\n",
    "    else:\n",
    "        hspace = 0.6\n",
    "    fig.subplots_adjust(hspace=hspace, wspace=0.3)\n",
    "\n",
    "    for i, ax in enumerate(axes.flat):\n",
    "        # Interpolation type.\n",
    "        if smooth:\n",
    "            interpolation = 'spline16'\n",
    "        else:\n",
    "            interpolation = 'nearest'\n",
    "\n",
    "        # Plot image.\n",
    "        ax.imshow(images[i, :, :, :],\n",
    "                  interpolation=interpolation)\n",
    "            \n",
    "        # Name of the true class.\n",
    "        cls_true_name = class_names[cls_true[i]]\n",
    "\n",
    "        # Show true and predicted classes.\n",
    "        if cls_pred is None:\n",
    "            xlabel = \"True: {0}\".format(cls_true_name)\n",
    "        else:\n",
    "            # Name of the predicted class.\n",
    "            cls_pred_name = class_names[cls_pred[i]]\n",
    "\n",
    "            xlabel = \"True: {0}\\nPred: {1}\".format(cls_true_name, cls_pred_name)\n",
    "\n",
    "        # Show the classes as the label on the x-axis.\n",
    "        ax.set_xlabel(xlabel)\n",
    "        \n",
    "        # Remove ticks from the plot.\n",
    "        ax.set_xticks([])\n",
    "        ax.set_yticks([])\n",
    "\n",
    "    plt.show()\n",
    "\n",
    "\n",
    "########################################################################\n",
    "# The functions are for showing different layer for the networks\n",
    "########################################################################\n",
    "def getActivations(sess,layer_name,image_name):\n",
    "    units = sess.run(layer_name,feed_dict={x:image_name})\n",
    "    plotNNFilter(units)\n",
    "    \n",
    "    \n",
    "def plotNNFilter(units):\n",
    "    filters = units.shape[3]\n",
    "    plt.figure(1, figsize=(20,20))\n",
    "    n_columns = 6\n",
    "    n_rows = math.ceil(filters / n_columns) + 1\n",
    "    for i in range(filters):\n",
    "        plt.subplot(n_rows, n_columns, i+1)\n",
    "        plt.title('Filter ' + str(i))\n",
    "        plt.imshow(units[0,:,:,i], interpolation=\"nearest\", cmap=\"gray\")\n",
    "\n",
    "#######################################################\n",
    "# The function is for obtaining hard assignment for the images and show the confusion matrix\n",
    "#######################################################\n",
    "def Test_Anlaysis(sess, images, labels, cls_true):\n",
    "    \n",
    "    num_images = len(images)\n",
    "    # Initialize the predictions\n",
    "    cls_pred = np.zeros(shape=num_images, dtype=np.int)\n",
    "    \n",
    "    i = 0\n",
    "    while i < num_images:\n",
    "        # The ending index for the next batch is denoted j.\n",
    "        j = min(i + batch_size, num_images)\n",
    "        # Calculate the predicted class using TensorFlow.\n",
    "        cls_pred[i:j] = sess.run(prediction, feed_dict={x: images[i:j, :],y_true: labels[i:j, :]})\n",
    "\n",
    "        # end-index of the current batch.\n",
    "        i = j\n",
    "    \n",
    "    co_ma = confusion_matrix(y_true=cls_true, y_pred=cls_pred) \n",
    "    \n",
    "    # Print the confusion matrix as text.\n",
    "    print(\"Confusion Matrix as numbers:\")  \n",
    "    for i in range(num_classes):\n",
    "        # Append the class-name to each line.\n",
    "        class_name = \"({}) {}\".format(i, class_names[i])\n",
    "        print(co_ma[i, :], class_name)\n",
    "    \n",
    "    # Print the consusion matrix as graph\n",
    "    print(\"Plot Confusion Matrix:\")  \n",
    "    df_cm = pd.DataFrame(co_ma, index = [i for i in class_names],\n",
    "                  columns = [i for i in class_names])\n",
    "    plt.figure(figsize = (10,7))\n",
    "    sn.heatmap(df_cm, annot=True)\n"
   ]
  },
  {
   "cell_type": "markdown",
   "metadata": {},
   "source": [
    "## 2. Download and Import Data"
   ]
  },
  {
   "cell_type": "code",
   "execution_count": 7,
   "metadata": {},
   "outputs": [
    {
     "name": "stdout",
     "output_type": "stream",
     "text": [
      "Data has apparently already been downloaded and unpacked.\n"
     ]
    }
   ],
   "source": [
    "maybe_download_and_extract(url=data_url, download_dir=data_path)"
   ]
  },
  {
   "cell_type": "code",
   "execution_count": 8,
   "metadata": {},
   "outputs": [
    {
     "name": "stdout",
     "output_type": "stream",
     "text": [
      "Loading data: data/CIFAR-10/cifar-10-batches-py/batches.meta\n"
     ]
    },
    {
     "data": {
      "text/plain": [
       "['airplane',\n",
       " 'automobile',\n",
       " 'bird',\n",
       " 'cat',\n",
       " 'deer',\n",
       " 'dog',\n",
       " 'frog',\n",
       " 'horse',\n",
       " 'ship',\n",
       " 'truck']"
      ]
     },
     "execution_count": 8,
     "metadata": {},
     "output_type": "execute_result"
    },
    {
     "data": {
      "text/plain": [
       "32"
      ]
     },
     "execution_count": 8,
     "metadata": {},
     "output_type": "execute_result"
    },
    {
     "data": {
      "text/plain": [
       "3"
      ]
     },
     "execution_count": 8,
     "metadata": {},
     "output_type": "execute_result"
    },
    {
     "data": {
      "text/plain": [
       "10"
      ]
     },
     "execution_count": 8,
     "metadata": {},
     "output_type": "execute_result"
    }
   ],
   "source": [
    "# show the labels\n",
    "class_names = load_class_names()\n",
    "class_names\n",
    "# show bisic property of the dta set\n",
    "img_size\n",
    "num_channels\n",
    "num_classes"
   ]
  },
  {
   "cell_type": "code",
   "execution_count": 9,
   "metadata": {},
   "outputs": [
    {
     "name": "stdout",
     "output_type": "stream",
     "text": [
      "Loading data: data/CIFAR-10/cifar-10-batches-py/test_batch\n"
     ]
    }
   ],
   "source": [
    "# Load Data to see the original images\n",
    "images_test_for_print, cls_test_for_print, labels_test_for_print = load_test_data_for_print()"
   ]
  },
  {
   "cell_type": "markdown",
   "metadata": {},
   "source": [
    "**Show the original image**"
   ]
  },
  {
   "cell_type": "code",
   "execution_count": 10,
   "metadata": {},
   "outputs": [
    {
     "data": {
      "image/png": "[encoded data removed]",
      "text/plain": [
       "<matplotlib.figure.Figure at 0x24680410828>"
      ]
     },
     "metadata": {},
     "output_type": "display_data"
    }
   ],
   "source": [
    "plot_images(images_test_for_print[1:10,:,:,:],cls_test_for_print[1:10], cls_pred=None, smooth=False)"
   ]
  },
  {
   "cell_type": "code",
   "execution_count": 11,
   "metadata": {},
   "outputs": [
    {
     "name": "stdout",
     "output_type": "stream",
     "text": [
      "Loading data: data/CIFAR-10/cifar-10-batches-py/data_batch_1\n",
      "Loading data: data/CIFAR-10/cifar-10-batches-py/data_batch_2\n",
      "Loading data: data/CIFAR-10/cifar-10-batches-py/data_batch_3\n",
      "Loading data: data/CIFAR-10/cifar-10-batches-py/data_batch_4\n",
      "Loading data: data/CIFAR-10/cifar-10-batches-py/data_batch_5\n",
      "Loading data: data/CIFAR-10/cifar-10-batches-py/test_batch\n"
     ]
    }
   ],
   "source": [
    "images_train, cls_train, labels_train = load_training_data()\n",
    "images_test, cls_test, labels_test = load_test_data()"
   ]
  },
  {
   "cell_type": "code",
   "execution_count": 12,
   "metadata": {},
   "outputs": [],
   "source": [
    "images_train2 = images_train\n",
    "images_test2 = images_test\n",
    "labels_train2 = labels_train\n",
    "labels_test2 = labels_test"
   ]
  },
  {
   "cell_type": "code",
   "execution_count": 13,
   "metadata": {},
   "outputs": [],
   "source": [
    "images_train = images_train[0:100,:,:,:]\n",
    "images_test = images_test[0:100,:,:,:]\n",
    "labels_train = labels_train[0:100,:]\n",
    "labels_test = labels_test[0:100,:]"
   ]
  },
  {
   "cell_type": "code",
   "execution_count": 14,
   "metadata": {},
   "outputs": [
    {
     "data": {
      "text/plain": [
       "(100, 32, 32, 3)"
      ]
     },
     "execution_count": 14,
     "metadata": {},
     "output_type": "execute_result"
    },
    {
     "data": {
      "text/plain": [
       "(100, 32, 32, 3)"
      ]
     },
     "execution_count": 14,
     "metadata": {},
     "output_type": "execute_result"
    },
    {
     "data": {
      "text/plain": [
       "(100, 10)"
      ]
     },
     "execution_count": 14,
     "metadata": {},
     "output_type": "execute_result"
    },
    {
     "data": {
      "text/plain": [
       "(100, 10)"
      ]
     },
     "execution_count": 14,
     "metadata": {},
     "output_type": "execute_result"
    }
   ],
   "source": [
    "# Check the data shape \n",
    "images_train.shape\n",
    "images_test.shape\n",
    "labels_train.shape   ##label_train and test_train is the one-hot coded label \n",
    "labels_test.shape"
   ]
  },
  {
   "cell_type": "markdown",
   "metadata": {},
   "source": [
    "**Show the images after preprocessing**"
   ]
  },
  {
   "cell_type": "code",
   "execution_count": 15,
   "metadata": {},
   "outputs": [
    {
     "data": {
      "image/png": "[encoded data removed]",
      "text/plain": [
       "<matplotlib.figure.Figure at 0x24680bf9ba8>"
      ]
     },
     "metadata": {},
     "output_type": "display_data"
    }
   ],
   "source": [
    "plot_images(images_train[1:10,:,:,:], cls_train[1:10], cls_pred=None, smooth=False)"
   ]
  },
  {
   "cell_type": "markdown",
   "metadata": {},
   "source": [
    "## 3. Train the CNN Garph"
   ]
  },
  {
   "cell_type": "code",
   "execution_count": 19,
   "metadata": {},
   "outputs": [],
   "source": [
    "# TRAIN\n",
    "now = datetime.now()\n",
    "dir_name = './CNN/log_{0}_{1}'.format(now.month,now.day)\n",
    "export_dir = './CNN/savedmodel_{0}_{1}_{2}_{3}'.format(now.month,now.day,now.hour,now.second)\n",
    "img_size_cropped = 24\n",
    "\n",
    "batch_size = 10\n",
    "num_iterations = 100\n",
    "opt_method = 'adam'\n",
    "print_unit = 100\n",
    "learning_rate = 1e-4"
   ]
  },
  {
   "cell_type": "code",
   "execution_count": 20,
   "metadata": {},
   "outputs": [
    {
     "data": {
      "text/plain": [
       "<tf.Tensor 'summaries/loss:0' shape=() dtype=string>"
      ]
     },
     "execution_count": 20,
     "metadata": {},
     "output_type": "execute_result"
    },
    {
     "data": {
      "text/plain": [
       "<tf.Tensor 'summaries/accuracy:0' shape=() dtype=string>"
      ]
     },
     "execution_count": 20,
     "metadata": {},
     "output_type": "execute_result"
    },
    {
     "data": {
      "text/plain": [
       "<tf.Tensor 'summaries/logit:0' shape=() dtype=string>"
      ]
     },
     "execution_count": 20,
     "metadata": {},
     "output_type": "execute_result"
    },
    {
     "data": {
      "text/plain": [
       "<tf.Tensor 'summaries/input:0' shape=() dtype=string>"
      ]
     },
     "execution_count": 20,
     "metadata": {},
     "output_type": "execute_result"
    },
    {
     "name": "stdout",
     "output_type": "stream",
     "text": [
      "Trying to restore last checkpoint ...\n",
      "Failed to restore checkpoint. Initializing variables instead.\n",
      "Step   0: training accuracy 0.2000\n",
      "Step   0: training loss 2.3011\n",
      "Step   0: val accuracy 0.1100\n",
      "Step   0: val loss 2.3025\n"
     ]
    },
    {
     "data": {
      "text/plain": [
       "'./CNN/model/model_iter-0'"
      ]
     },
     "execution_count": 20,
     "metadata": {},
     "output_type": "execute_result"
    },
    {
     "name": "stdout",
     "output_type": "stream",
     "text": [
      "Step   1: training accuracy 0.0000\n",
      "Step   1: training loss 2.3026\n",
      "Step   1: val accuracy 0.1100\n",
      "Step   1: val loss 2.3024\n"
     ]
    },
    {
     "data": {
      "text/plain": [
       "'./CNN/model/model_iter-1'"
      ]
     },
     "execution_count": 20,
     "metadata": {},
     "output_type": "execute_result"
    },
    {
     "name": "stdout",
     "output_type": "stream",
     "text": [
      "Step   2: training accuracy 0.1000\n",
      "Step   2: training loss 2.3002\n",
      "Step   2: val accuracy 0.1100\n",
      "Step   2: val loss 2.3026\n"
     ]
    },
    {
     "data": {
      "text/plain": [
       "'./CNN/model/model_iter-2'"
      ]
     },
     "execution_count": 20,
     "metadata": {},
     "output_type": "execute_result"
    },
    {
     "name": "stdout",
     "output_type": "stream",
     "text": [
      "Step   3: training accuracy 0.1000\n",
      "Step   3: training loss 2.3005\n",
      "Step   3: val accuracy 0.0900\n",
      "Step   3: val loss 2.3036\n"
     ]
    },
    {
     "data": {
      "text/plain": [
       "'./CNN/model/model_iter-3'"
      ]
     },
     "execution_count": 20,
     "metadata": {},
     "output_type": "execute_result"
    },
    {
     "name": "stdout",
     "output_type": "stream",
     "text": [
      "Step   4: training accuracy 0.0000\n",
      "Step   4: training loss 2.2989\n",
      "Step   4: val accuracy 0.1200\n",
      "Step   4: val loss 2.3036\n"
     ]
    },
    {
     "data": {
      "text/plain": [
       "'./CNN/model/model_iter-4'"
      ]
     },
     "execution_count": 20,
     "metadata": {},
     "output_type": "execute_result"
    },
    {
     "name": "stdout",
     "output_type": "stream",
     "text": [
      "Step   5: training accuracy 0.3000\n",
      "Step   5: training loss 2.2953\n",
      "Step   5: val accuracy 0.0500\n",
      "Step   5: val loss 2.3039\n"
     ]
    },
    {
     "data": {
      "text/plain": [
       "'./CNN/model/model_iter-5'"
      ]
     },
     "execution_count": 20,
     "metadata": {},
     "output_type": "execute_result"
    },
    {
     "name": "stdout",
     "output_type": "stream",
     "text": [
      "Step   6: training accuracy 0.2000\n",
      "Step   6: training loss 2.2963\n",
      "Step   6: val accuracy 0.1000\n",
      "Step   6: val loss 2.3041\n"
     ]
    },
    {
     "data": {
      "text/plain": [
       "'./CNN/model/model_iter-6'"
      ]
     },
     "execution_count": 20,
     "metadata": {},
     "output_type": "execute_result"
    },
    {
     "name": "stdout",
     "output_type": "stream",
     "text": [
      "Step   7: training accuracy 0.2000\n",
      "Step   7: training loss 2.2992\n",
      "Step   7: val accuracy 0.1000\n",
      "Step   7: val loss 2.3045\n"
     ]
    },
    {
     "data": {
      "text/plain": [
       "'./CNN/model/model_iter-7'"
      ]
     },
     "execution_count": 20,
     "metadata": {},
     "output_type": "execute_result"
    },
    {
     "name": "stdout",
     "output_type": "stream",
     "text": [
      "Step   8: training accuracy 0.1000\n",
      "Step   8: training loss 2.2933\n",
      "Step   8: val accuracy 0.1100\n",
      "Step   8: val loss 2.3039\n"
     ]
    },
    {
     "data": {
      "text/plain": [
       "'./CNN/model/model_iter-8'"
      ]
     },
     "execution_count": 20,
     "metadata": {},
     "output_type": "execute_result"
    },
    {
     "name": "stdout",
     "output_type": "stream",
     "text": [
      "Step   9: training accuracy 0.2000\n",
      "Step   9: training loss 2.2988\n",
      "Step   9: val accuracy 0.1100\n",
      "Step   9: val loss 2.3052\n"
     ]
    },
    {
     "data": {
      "text/plain": [
       "'./CNN/model/model_iter-9'"
      ]
     },
     "execution_count": 20,
     "metadata": {},
     "output_type": "execute_result"
    },
    {
     "name": "stdout",
     "output_type": "stream",
     "text": [
      "Step  10: training accuracy 0.2000\n",
      "Step  10: training loss 2.2928\n",
      "Step  10: val accuracy 0.1100\n",
      "Step  10: val loss 2.3051\n"
     ]
    },
    {
     "data": {
      "text/plain": [
       "'./CNN/model/model_iter-10'"
      ]
     },
     "execution_count": 20,
     "metadata": {},
     "output_type": "execute_result"
    },
    {
     "name": "stdout",
     "output_type": "stream",
     "text": [
      "Step  11: training accuracy 0.2000\n",
      "Step  11: training loss 2.2925\n",
      "Step  11: val accuracy 0.1100\n",
      "Step  11: val loss 2.3057\n"
     ]
    },
    {
     "data": {
      "text/plain": [
       "'./CNN/model/model_iter-11'"
      ]
     },
     "execution_count": 20,
     "metadata": {},
     "output_type": "execute_result"
    },
    {
     "name": "stdout",
     "output_type": "stream",
     "text": [
      "Step  12: training accuracy 0.1000\n",
      "Step  12: training loss 2.2865\n",
      "Step  12: val accuracy 0.1100\n",
      "Step  12: val loss 2.3046\n"
     ]
    },
    {
     "data": {
      "text/plain": [
       "'./CNN/model/model_iter-12'"
      ]
     },
     "execution_count": 20,
     "metadata": {},
     "output_type": "execute_result"
    },
    {
     "name": "stdout",
     "output_type": "stream",
     "text": [
      "Step  13: training accuracy 0.1000\n",
      "Step  13: training loss 2.3023\n",
      "Step  13: val accuracy 0.1100\n",
      "Step  13: val loss 2.3074\n"
     ]
    },
    {
     "data": {
      "text/plain": [
       "'./CNN/model/model_iter-13'"
      ]
     },
     "execution_count": 20,
     "metadata": {},
     "output_type": "execute_result"
    },
    {
     "name": "stdout",
     "output_type": "stream",
     "text": [
      "Step  14: training accuracy 0.1000\n",
      "Step  14: training loss 2.3042\n",
      "Step  14: val accuracy 0.1100\n",
      "Step  14: val loss 2.3056\n"
     ]
    },
    {
     "data": {
      "text/plain": [
       "'./CNN/model/model_iter-14'"
      ]
     },
     "execution_count": 20,
     "metadata": {},
     "output_type": "execute_result"
    },
    {
     "name": "stdout",
     "output_type": "stream",
     "text": [
      "Step  15: training accuracy 0.1000\n",
      "Step  15: training loss 2.2979\n",
      "Step  15: val accuracy 0.1100\n",
      "Step  15: val loss 2.3067\n"
     ]
    },
    {
     "data": {
      "text/plain": [
       "'./CNN/model/model_iter-15'"
      ]
     },
     "execution_count": 20,
     "metadata": {},
     "output_type": "execute_result"
    },
    {
     "name": "stdout",
     "output_type": "stream",
     "text": [
      "Step  16: training accuracy 0.2000\n",
      "Step  16: training loss 2.2758\n",
      "Step  16: val accuracy 0.1100\n",
      "Step  16: val loss 2.3054\n"
     ]
    },
    {
     "data": {
      "text/plain": [
       "'./CNN/model/model_iter-16'"
      ]
     },
     "execution_count": 20,
     "metadata": {},
     "output_type": "execute_result"
    },
    {
     "name": "stdout",
     "output_type": "stream",
     "text": [
      "Step  17: training accuracy 0.1000\n",
      "Step  17: training loss 2.2881\n",
      "Step  17: val accuracy 0.1000\n",
      "Step  17: val loss 2.3072\n"
     ]
    },
    {
     "data": {
      "text/plain": [
       "'./CNN/model/model_iter-17'"
      ]
     },
     "execution_count": 20,
     "metadata": {},
     "output_type": "execute_result"
    },
    {
     "name": "stdout",
     "output_type": "stream",
     "text": [
      "Step  18: training accuracy 0.1000\n",
      "Step  18: training loss 2.2834\n",
      "Step  18: val accuracy 0.1200\n",
      "Step  18: val loss 2.3076\n"
     ]
    },
    {
     "data": {
      "text/plain": [
       "'./CNN/model/model_iter-18'"
      ]
     },
     "execution_count": 20,
     "metadata": {},
     "output_type": "execute_result"
    },
    {
     "name": "stdout",
     "output_type": "stream",
     "text": [
      "Step  19: training accuracy 0.0000\n",
      "Step  19: training loss 2.3054\n",
      "Step  19: val accuracy 0.0900\n",
      "Step  19: val loss 2.3070\n"
     ]
    },
    {
     "data": {
      "text/plain": [
       "'./CNN/model/model_iter-19'"
      ]
     },
     "execution_count": 20,
     "metadata": {},
     "output_type": "execute_result"
    },
    {
     "name": "stdout",
     "output_type": "stream",
     "text": [
      "Step  20: training accuracy 0.0000\n",
      "Step  20: training loss 2.2945\n",
      "Step  20: val accuracy 0.1100\n",
      "Step  20: val loss 2.3075\n"
     ]
    },
    {
     "data": {
      "text/plain": [
       "'./CNN/model/model_iter-20'"
      ]
     },
     "execution_count": 20,
     "metadata": {},
     "output_type": "execute_result"
    },
    {
     "name": "stdout",
     "output_type": "stream",
     "text": [
      "Step  21: training accuracy 0.1000\n",
      "Step  21: training loss 2.2788\n",
      "Step  21: val accuracy 0.0400\n",
      "Step  21: val loss 2.3109\n"
     ]
    },
    {
     "data": {
      "text/plain": [
       "'./CNN/model/model_iter-21'"
      ]
     },
     "execution_count": 20,
     "metadata": {},
     "output_type": "execute_result"
    },
    {
     "name": "stdout",
     "output_type": "stream",
     "text": [
      "Step  22: training accuracy 0.4000\n",
      "Step  22: training loss 2.2776\n",
      "Step  22: val accuracy 0.0800\n",
      "Step  22: val loss 2.3093\n"
     ]
    },
    {
     "data": {
      "text/plain": [
       "'./CNN/model/model_iter-22'"
      ]
     },
     "execution_count": 20,
     "metadata": {},
     "output_type": "execute_result"
    },
    {
     "name": "stdout",
     "output_type": "stream",
     "text": [
      "Step  23: training accuracy 0.2000\n",
      "Step  23: training loss 2.2775\n",
      "Step  23: val accuracy 0.0800\n",
      "Step  23: val loss 2.3118\n"
     ]
    },
    {
     "data": {
      "text/plain": [
       "'./CNN/model/model_iter-23'"
      ]
     },
     "execution_count": 20,
     "metadata": {},
     "output_type": "execute_result"
    },
    {
     "name": "stdout",
     "output_type": "stream",
     "text": [
      "Step  24: training accuracy 0.2000\n",
      "Step  24: training loss 2.2792\n",
      "Step  24: val accuracy 0.0800\n",
      "Step  24: val loss 2.3131\n"
     ]
    },
    {
     "data": {
      "text/plain": [
       "'./CNN/model/model_iter-24'"
      ]
     },
     "execution_count": 20,
     "metadata": {},
     "output_type": "execute_result"
    },
    {
     "name": "stdout",
     "output_type": "stream",
     "text": [
      "Step  25: training accuracy 0.0000\n",
      "Step  25: training loss 2.3030\n",
      "Step  25: val accuracy 0.0800\n",
      "Step  25: val loss 2.3130\n"
     ]
    },
    {
     "data": {
      "text/plain": [
       "'./CNN/model/model_iter-25'"
      ]
     },
     "execution_count": 20,
     "metadata": {},
     "output_type": "execute_result"
    },
    {
     "name": "stdout",
     "output_type": "stream",
     "text": [
      "Step  26: training accuracy 0.2000\n",
      "Step  26: training loss 2.3012\n",
      "Step  26: val accuracy 0.0800\n",
      "Step  26: val loss 2.3116\n"
     ]
    },
    {
     "data": {
      "text/plain": [
       "'./CNN/model/model_iter-26'"
      ]
     },
     "execution_count": 20,
     "metadata": {},
     "output_type": "execute_result"
    },
    {
     "name": "stdout",
     "output_type": "stream",
     "text": [
      "Step  27: training accuracy 0.3000\n",
      "Step  27: training loss 2.2940\n",
      "Step  27: val accuracy 0.0800\n",
      "Step  27: val loss 2.3123\n"
     ]
    },
    {
     "data": {
      "text/plain": [
       "'./CNN/model/model_iter-27'"
      ]
     },
     "execution_count": 20,
     "metadata": {},
     "output_type": "execute_result"
    },
    {
     "name": "stdout",
     "output_type": "stream",
     "text": [
      "Step  28: training accuracy 0.0000\n",
      "Step  28: training loss 2.2782\n",
      "Step  28: val accuracy 0.0800\n",
      "Step  28: val loss 2.3165\n"
     ]
    },
    {
     "data": {
      "text/plain": [
       "'./CNN/model/model_iter-28'"
      ]
     },
     "execution_count": 20,
     "metadata": {},
     "output_type": "execute_result"
    },
    {
     "name": "stdout",
     "output_type": "stream",
     "text": [
      "Step  29: training accuracy 0.2000\n",
      "Step  29: training loss 2.2509\n",
      "Step  29: val accuracy 0.0800\n",
      "Step  29: val loss 2.3187\n"
     ]
    },
    {
     "data": {
      "text/plain": [
       "'./CNN/model/model_iter-29'"
      ]
     },
     "execution_count": 20,
     "metadata": {},
     "output_type": "execute_result"
    },
    {
     "name": "stdout",
     "output_type": "stream",
     "text": [
      "Step  30: training accuracy 0.0000\n",
      "Step  30: training loss 2.2531\n",
      "Step  30: val accuracy 0.0800\n",
      "Step  30: val loss 2.3154\n"
     ]
    },
    {
     "data": {
      "text/plain": [
       "'./CNN/model/model_iter-30'"
      ]
     },
     "execution_count": 20,
     "metadata": {},
     "output_type": "execute_result"
    },
    {
     "name": "stdout",
     "output_type": "stream",
     "text": [
      "Step  31: training accuracy 0.5000\n",
      "Step  31: training loss 2.2279\n",
      "Step  31: val accuracy 0.0800\n",
      "Step  31: val loss 2.3194\n"
     ]
    },
    {
     "data": {
      "text/plain": [
       "'./CNN/model/model_iter-31'"
      ]
     },
     "execution_count": 20,
     "metadata": {},
     "output_type": "execute_result"
    },
    {
     "name": "stdout",
     "output_type": "stream",
     "text": [
      "Step  32: training accuracy 0.1000\n",
      "Step  32: training loss 2.2774\n",
      "Step  32: val accuracy 0.0800\n",
      "Step  32: val loss 2.3191\n"
     ]
    },
    {
     "data": {
      "text/plain": [
       "'./CNN/model/model_iter-32'"
      ]
     },
     "execution_count": 20,
     "metadata": {},
     "output_type": "execute_result"
    },
    {
     "name": "stdout",
     "output_type": "stream",
     "text": [
      "Step  33: training accuracy 0.0000\n",
      "Step  33: training loss 2.2640\n",
      "Step  33: val accuracy 0.0800\n",
      "Step  33: val loss 2.3209\n"
     ]
    },
    {
     "data": {
      "text/plain": [
       "'./CNN/model/model_iter-33'"
      ]
     },
     "execution_count": 20,
     "metadata": {},
     "output_type": "execute_result"
    },
    {
     "name": "stdout",
     "output_type": "stream",
     "text": [
      "Step  34: training accuracy 0.0000\n",
      "Step  34: training loss 2.2865\n",
      "Step  34: val accuracy 0.0800\n",
      "Step  34: val loss 2.3213\n"
     ]
    },
    {
     "data": {
      "text/plain": [
       "'./CNN/model/model_iter-34'"
      ]
     },
     "execution_count": 20,
     "metadata": {},
     "output_type": "execute_result"
    },
    {
     "name": "stdout",
     "output_type": "stream",
     "text": [
      "Step  35: training accuracy 0.3000\n",
      "Step  35: training loss 2.2513\n",
      "Step  35: val accuracy 0.0800\n",
      "Step  35: val loss 2.3256\n"
     ]
    },
    {
     "data": {
      "text/plain": [
       "'./CNN/model/model_iter-35'"
      ]
     },
     "execution_count": 20,
     "metadata": {},
     "output_type": "execute_result"
    },
    {
     "name": "stdout",
     "output_type": "stream",
     "text": [
      "Step  36: training accuracy 0.2000\n",
      "Step  36: training loss 2.2730\n",
      "Step  36: val accuracy 0.0800\n",
      "Step  36: val loss 2.3233\n"
     ]
    },
    {
     "data": {
      "text/plain": [
       "'./CNN/model/model_iter-36'"
      ]
     },
     "execution_count": 20,
     "metadata": {},
     "output_type": "execute_result"
    },
    {
     "name": "stdout",
     "output_type": "stream",
     "text": [
      "Step  37: training accuracy 0.3000\n",
      "Step  37: training loss 2.2569\n",
      "Step  37: val accuracy 0.0800\n",
      "Step  37: val loss 2.3349\n"
     ]
    },
    {
     "data": {
      "text/plain": [
       "'./CNN/model/model_iter-37'"
      ]
     },
     "execution_count": 20,
     "metadata": {},
     "output_type": "execute_result"
    },
    {
     "name": "stdout",
     "output_type": "stream",
     "text": [
      "Step  38: training accuracy 0.2000\n",
      "Step  38: training loss 2.2433\n",
      "Step  38: val accuracy 0.0800\n",
      "Step  38: val loss 2.3392\n"
     ]
    },
    {
     "data": {
      "text/plain": [
       "'./CNN/model/model_iter-38'"
      ]
     },
     "execution_count": 20,
     "metadata": {},
     "output_type": "execute_result"
    },
    {
     "name": "stdout",
     "output_type": "stream",
     "text": [
      "Step  39: training accuracy 0.0000\n",
      "Step  39: training loss 2.2482\n",
      "Step  39: val accuracy 0.0800\n",
      "Step  39: val loss 2.3377\n"
     ]
    },
    {
     "data": {
      "text/plain": [
       "'./CNN/model/model_iter-39'"
      ]
     },
     "execution_count": 20,
     "metadata": {},
     "output_type": "execute_result"
    },
    {
     "name": "stdout",
     "output_type": "stream",
     "text": [
      "Step  40: training accuracy 0.1000\n",
      "Step  40: training loss 2.2610\n",
      "Step  40: val accuracy 0.0800\n",
      "Step  40: val loss 2.3388\n"
     ]
    },
    {
     "data": {
      "text/plain": [
       "'./CNN/model/model_iter-40'"
      ]
     },
     "execution_count": 20,
     "metadata": {},
     "output_type": "execute_result"
    },
    {
     "name": "stdout",
     "output_type": "stream",
     "text": [
      "Step  41: training accuracy 0.0000\n",
      "Step  41: training loss 2.3301\n",
      "Step  41: val accuracy 0.0800\n",
      "Step  41: val loss 2.3448\n"
     ]
    },
    {
     "data": {
      "text/plain": [
       "'./CNN/model/model_iter-41'"
      ]
     },
     "execution_count": 20,
     "metadata": {},
     "output_type": "execute_result"
    },
    {
     "name": "stdout",
     "output_type": "stream",
     "text": [
      "Step  42: training accuracy 0.2000\n",
      "Step  42: training loss 2.2876\n",
      "Step  42: val accuracy 0.0800\n",
      "Step  42: val loss 2.3481\n"
     ]
    },
    {
     "data": {
      "text/plain": [
       "'./CNN/model/model_iter-42'"
      ]
     },
     "execution_count": 20,
     "metadata": {},
     "output_type": "execute_result"
    },
    {
     "name": "stdout",
     "output_type": "stream",
     "text": [
      "Step  43: training accuracy 0.2000\n",
      "Step  43: training loss 2.2587\n",
      "Step  43: val accuracy 0.0800\n",
      "Step  43: val loss 2.3558\n"
     ]
    },
    {
     "data": {
      "text/plain": [
       "'./CNN/model/model_iter-43'"
      ]
     },
     "execution_count": 20,
     "metadata": {},
     "output_type": "execute_result"
    },
    {
     "name": "stdout",
     "output_type": "stream",
     "text": [
      "Step  44: training accuracy 0.3000\n",
      "Step  44: training loss 2.2518\n",
      "Step  44: val accuracy 0.0800\n",
      "Step  44: val loss 2.3481\n"
     ]
    },
    {
     "data": {
      "text/plain": [
       "'./CNN/model/model_iter-44'"
      ]
     },
     "execution_count": 20,
     "metadata": {},
     "output_type": "execute_result"
    },
    {
     "name": "stdout",
     "output_type": "stream",
     "text": [
      "Step  45: training accuracy 0.1000\n",
      "Step  45: training loss 2.2651\n",
      "Step  45: val accuracy 0.0900\n",
      "Step  45: val loss 2.3574\n"
     ]
    },
    {
     "data": {
      "text/plain": [
       "'./CNN/model/model_iter-45'"
      ]
     },
     "execution_count": 20,
     "metadata": {},
     "output_type": "execute_result"
    },
    {
     "name": "stdout",
     "output_type": "stream",
     "text": [
      "Step  46: training accuracy 0.2000\n",
      "Step  46: training loss 2.2402\n",
      "Step  46: val accuracy 0.0600\n",
      "Step  46: val loss 2.3623\n"
     ]
    },
    {
     "data": {
      "text/plain": [
       "'./CNN/model/model_iter-46'"
      ]
     },
     "execution_count": 20,
     "metadata": {},
     "output_type": "execute_result"
    },
    {
     "name": "stdout",
     "output_type": "stream",
     "text": [
      "Step  47: training accuracy 0.2000\n",
      "Step  47: training loss 2.2874\n",
      "Step  47: val accuracy 0.0600\n",
      "Step  47: val loss 2.3595\n"
     ]
    },
    {
     "data": {
      "text/plain": [
       "'./CNN/model/model_iter-47'"
      ]
     },
     "execution_count": 20,
     "metadata": {},
     "output_type": "execute_result"
    },
    {
     "name": "stdout",
     "output_type": "stream",
     "text": [
      "Step  48: training accuracy 0.3000\n",
      "Step  48: training loss 2.2307\n",
      "Step  48: val accuracy 0.0600\n",
      "Step  48: val loss 2.3695\n"
     ]
    },
    {
     "data": {
      "text/plain": [
       "'./CNN/model/model_iter-48'"
      ]
     },
     "execution_count": 20,
     "metadata": {},
     "output_type": "execute_result"
    },
    {
     "name": "stdout",
     "output_type": "stream",
     "text": [
      "Step  49: training accuracy 0.2000\n",
      "Step  49: training loss 2.1445\n",
      "Step  49: val accuracy 0.0600\n",
      "Step  49: val loss 2.3692\n"
     ]
    },
    {
     "data": {
      "text/plain": [
       "'./CNN/model/model_iter-49'"
      ]
     },
     "execution_count": 20,
     "metadata": {},
     "output_type": "execute_result"
    },
    {
     "name": "stdout",
     "output_type": "stream",
     "text": [
      "Step  50: training accuracy 0.1000\n",
      "Step  50: training loss 2.1684\n",
      "Step  50: val accuracy 0.0600\n",
      "Step  50: val loss 2.3719\n"
     ]
    },
    {
     "data": {
      "text/plain": [
       "'./CNN/model/model_iter-50'"
      ]
     },
     "execution_count": 20,
     "metadata": {},
     "output_type": "execute_result"
    },
    {
     "name": "stdout",
     "output_type": "stream",
     "text": [
      "Step  51: training accuracy 0.1000\n",
      "Step  51: training loss 2.2255\n",
      "Step  51: val accuracy 0.0600\n",
      "Step  51: val loss 2.3828\n"
     ]
    },
    {
     "data": {
      "text/plain": [
       "'./CNN/model/model_iter-51'"
      ]
     },
     "execution_count": 20,
     "metadata": {},
     "output_type": "execute_result"
    },
    {
     "name": "stdout",
     "output_type": "stream",
     "text": [
      "Step  52: training accuracy 0.1000\n",
      "Step  52: training loss 2.2341\n",
      "Step  52: val accuracy 0.0600\n",
      "Step  52: val loss 2.4009\n"
     ]
    },
    {
     "data": {
      "text/plain": [
       "'./CNN/model/model_iter-52'"
      ]
     },
     "execution_count": 20,
     "metadata": {},
     "output_type": "execute_result"
    },
    {
     "name": "stdout",
     "output_type": "stream",
     "text": [
      "Step  53: training accuracy 0.2000\n",
      "Step  53: training loss 2.0893\n",
      "Step  53: val accuracy 0.0600\n",
      "Step  53: val loss 2.3997\n"
     ]
    },
    {
     "data": {
      "text/plain": [
       "'./CNN/model/model_iter-53'"
      ]
     },
     "execution_count": 20,
     "metadata": {},
     "output_type": "execute_result"
    },
    {
     "name": "stdout",
     "output_type": "stream",
     "text": [
      "Step  54: training accuracy 0.0000\n",
      "Step  54: training loss 2.2797\n",
      "Step  54: val accuracy 0.0600\n",
      "Step  54: val loss 2.4302\n"
     ]
    },
    {
     "data": {
      "text/plain": [
       "'./CNN/model/model_iter-54'"
      ]
     },
     "execution_count": 20,
     "metadata": {},
     "output_type": "execute_result"
    },
    {
     "name": "stdout",
     "output_type": "stream",
     "text": [
      "Step  55: training accuracy 0.3000\n",
      "Step  55: training loss 2.0581\n",
      "Step  55: val accuracy 0.0600\n",
      "Step  55: val loss 2.4460\n"
     ]
    },
    {
     "data": {
      "text/plain": [
       "'./CNN/model/model_iter-55'"
      ]
     },
     "execution_count": 20,
     "metadata": {},
     "output_type": "execute_result"
    },
    {
     "name": "stdout",
     "output_type": "stream",
     "text": [
      "Step  56: training accuracy 0.2000\n",
      "Step  56: training loss 2.0858\n",
      "Step  56: val accuracy 0.0600\n",
      "Step  56: val loss 2.4325\n"
     ]
    },
    {
     "data": {
      "text/plain": [
       "'./CNN/model/model_iter-56'"
      ]
     },
     "execution_count": 20,
     "metadata": {},
     "output_type": "execute_result"
    },
    {
     "name": "stdout",
     "output_type": "stream",
     "text": [
      "Step  57: training accuracy 0.2000\n",
      "Step  57: training loss 2.1422\n",
      "Step  57: val accuracy 0.0600\n",
      "Step  57: val loss 2.4839\n"
     ]
    },
    {
     "data": {
      "text/plain": [
       "'./CNN/model/model_iter-57'"
      ]
     },
     "execution_count": 20,
     "metadata": {},
     "output_type": "execute_result"
    },
    {
     "name": "stdout",
     "output_type": "stream",
     "text": [
      "Step  58: training accuracy 0.2000\n",
      "Step  58: training loss 2.3074\n",
      "Step  58: val accuracy 0.0600\n",
      "Step  58: val loss 2.4677\n"
     ]
    },
    {
     "data": {
      "text/plain": [
       "'./CNN/model/model_iter-58'"
      ]
     },
     "execution_count": 20,
     "metadata": {},
     "output_type": "execute_result"
    },
    {
     "name": "stdout",
     "output_type": "stream",
     "text": [
      "Step  59: training accuracy 0.1000\n",
      "Step  59: training loss 2.3645\n",
      "Step  59: val accuracy 0.0600\n",
      "Step  59: val loss 2.5260\n"
     ]
    },
    {
     "data": {
      "text/plain": [
       "'./CNN/model/model_iter-59'"
      ]
     },
     "execution_count": 20,
     "metadata": {},
     "output_type": "execute_result"
    },
    {
     "name": "stdout",
     "output_type": "stream",
     "text": [
      "Step  60: training accuracy 0.1000\n",
      "Step  60: training loss 2.2184\n",
      "Step  60: val accuracy 0.0600\n",
      "Step  60: val loss 2.4977\n"
     ]
    },
    {
     "data": {
      "text/plain": [
       "'./CNN/model/model_iter-60'"
      ]
     },
     "execution_count": 20,
     "metadata": {},
     "output_type": "execute_result"
    },
    {
     "name": "stdout",
     "output_type": "stream",
     "text": [
      "Step  61: training accuracy 0.2000\n",
      "Step  61: training loss 2.2395\n",
      "Step  61: val accuracy 0.0600\n",
      "Step  61: val loss 2.5329\n"
     ]
    },
    {
     "data": {
      "text/plain": [
       "'./CNN/model/model_iter-61'"
      ]
     },
     "execution_count": 20,
     "metadata": {},
     "output_type": "execute_result"
    },
    {
     "name": "stdout",
     "output_type": "stream",
     "text": [
      "Step  62: training accuracy 0.1000\n",
      "Step  62: training loss 2.5367\n",
      "Step  62: val accuracy 0.0600\n",
      "Step  62: val loss 2.5197\n"
     ]
    },
    {
     "data": {
      "text/plain": [
       "'./CNN/model/model_iter-62'"
      ]
     },
     "execution_count": 20,
     "metadata": {},
     "output_type": "execute_result"
    },
    {
     "name": "stdout",
     "output_type": "stream",
     "text": [
      "Step  63: training accuracy 0.5000\n",
      "Step  63: training loss 2.1344\n",
      "Step  63: val accuracy 0.0600\n",
      "Step  63: val loss 2.5061\n"
     ]
    },
    {
     "data": {
      "text/plain": [
       "'./CNN/model/model_iter-63'"
      ]
     },
     "execution_count": 20,
     "metadata": {},
     "output_type": "execute_result"
    },
    {
     "name": "stdout",
     "output_type": "stream",
     "text": [
      "Step  64: training accuracy 0.1000\n",
      "Step  64: training loss 2.3175\n",
      "Step  64: val accuracy 0.0600\n",
      "Step  64: val loss 2.5229\n"
     ]
    },
    {
     "data": {
      "text/plain": [
       "'./CNN/model/model_iter-64'"
      ]
     },
     "execution_count": 20,
     "metadata": {},
     "output_type": "execute_result"
    },
    {
     "name": "stdout",
     "output_type": "stream",
     "text": [
      "Step  65: training accuracy 0.2000\n",
      "Step  65: training loss 2.2128\n",
      "Step  65: val accuracy 0.0600\n",
      "Step  65: val loss 2.5288\n"
     ]
    },
    {
     "data": {
      "text/plain": [
       "'./CNN/model/model_iter-65'"
      ]
     },
     "execution_count": 20,
     "metadata": {},
     "output_type": "execute_result"
    },
    {
     "name": "stdout",
     "output_type": "stream",
     "text": [
      "Step  66: training accuracy 0.0000\n",
      "Step  66: training loss 2.0399\n",
      "Step  66: val accuracy 0.0600\n",
      "Step  66: val loss 2.5147\n"
     ]
    },
    {
     "data": {
      "text/plain": [
       "'./CNN/model/model_iter-66'"
      ]
     },
     "execution_count": 20,
     "metadata": {},
     "output_type": "execute_result"
    },
    {
     "name": "stdout",
     "output_type": "stream",
     "text": [
      "Step  67: training accuracy 0.2000\n",
      "Step  67: training loss 2.3002\n",
      "Step  67: val accuracy 0.0600\n",
      "Step  67: val loss 2.5018\n"
     ]
    },
    {
     "data": {
      "text/plain": [
       "'./CNN/model/model_iter-67'"
      ]
     },
     "execution_count": 20,
     "metadata": {},
     "output_type": "execute_result"
    },
    {
     "name": "stdout",
     "output_type": "stream",
     "text": [
      "Step  68: training accuracy 0.2000\n",
      "Step  68: training loss 2.2694\n",
      "Step  68: val accuracy 0.0600\n",
      "Step  68: val loss 2.4837\n"
     ]
    },
    {
     "data": {
      "text/plain": [
       "'./CNN/model/model_iter-68'"
      ]
     },
     "execution_count": 20,
     "metadata": {},
     "output_type": "execute_result"
    },
    {
     "name": "stdout",
     "output_type": "stream",
     "text": [
      "Step  69: training accuracy 0.3000\n",
      "Step  69: training loss 2.1578\n",
      "Step  69: val accuracy 0.0600\n",
      "Step  69: val loss 2.5029\n"
     ]
    },
    {
     "data": {
      "text/plain": [
       "'./CNN/model/model_iter-69'"
      ]
     },
     "execution_count": 20,
     "metadata": {},
     "output_type": "execute_result"
    },
    {
     "name": "stdout",
     "output_type": "stream",
     "text": [
      "Step  70: training accuracy 0.0000\n",
      "Step  70: training loss 2.5772\n",
      "Step  70: val accuracy 0.0600\n",
      "Step  70: val loss 2.5012\n"
     ]
    },
    {
     "data": {
      "text/plain": [
       "'./CNN/model/model_iter-70'"
      ]
     },
     "execution_count": 20,
     "metadata": {},
     "output_type": "execute_result"
    },
    {
     "name": "stdout",
     "output_type": "stream",
     "text": [
      "Step  71: training accuracy 0.1000\n",
      "Step  71: training loss 2.3283\n",
      "Step  71: val accuracy 0.0600\n",
      "Step  71: val loss 2.4671\n"
     ]
    },
    {
     "data": {
      "text/plain": [
       "'./CNN/model/model_iter-71'"
      ]
     },
     "execution_count": 20,
     "metadata": {},
     "output_type": "execute_result"
    },
    {
     "name": "stdout",
     "output_type": "stream",
     "text": [
      "Step  72: training accuracy 0.0000\n",
      "Step  72: training loss 2.2943\n",
      "Step  72: val accuracy 0.0600\n",
      "Step  72: val loss 2.4726\n"
     ]
    },
    {
     "data": {
      "text/plain": [
       "'./CNN/model/model_iter-72'"
      ]
     },
     "execution_count": 20,
     "metadata": {},
     "output_type": "execute_result"
    },
    {
     "name": "stdout",
     "output_type": "stream",
     "text": [
      "Step  73: training accuracy 0.2000\n",
      "Step  73: training loss 2.1287\n",
      "Step  73: val accuracy 0.0600\n",
      "Step  73: val loss 2.4540\n"
     ]
    },
    {
     "data": {
      "text/plain": [
       "'./CNN/model/model_iter-73'"
      ]
     },
     "execution_count": 20,
     "metadata": {},
     "output_type": "execute_result"
    },
    {
     "name": "stdout",
     "output_type": "stream",
     "text": [
      "Step  74: training accuracy 0.2000\n",
      "Step  74: training loss 2.3284\n",
      "Step  74: val accuracy 0.0600\n",
      "Step  74: val loss 2.4484\n"
     ]
    },
    {
     "data": {
      "text/plain": [
       "'./CNN/model/model_iter-74'"
      ]
     },
     "execution_count": 20,
     "metadata": {},
     "output_type": "execute_result"
    },
    {
     "name": "stdout",
     "output_type": "stream",
     "text": [
      "Step  75: training accuracy 0.2000\n",
      "Step  75: training loss 2.1029\n",
      "Step  75: val accuracy 0.0600\n",
      "Step  75: val loss 2.4273\n"
     ]
    },
    {
     "data": {
      "text/plain": [
       "'./CNN/model/model_iter-75'"
      ]
     },
     "execution_count": 20,
     "metadata": {},
     "output_type": "execute_result"
    },
    {
     "name": "stdout",
     "output_type": "stream",
     "text": [
      "Step  76: training accuracy 0.1000\n",
      "Step  76: training loss 2.3993\n",
      "Step  76: val accuracy 0.0600\n",
      "Step  76: val loss 2.4315\n"
     ]
    },
    {
     "data": {
      "text/plain": [
       "'./CNN/model/model_iter-76'"
      ]
     },
     "execution_count": 20,
     "metadata": {},
     "output_type": "execute_result"
    },
    {
     "name": "stdout",
     "output_type": "stream",
     "text": [
      "Step  77: training accuracy 0.1000\n",
      "Step  77: training loss 2.2689\n",
      "Step  77: val accuracy 0.0600\n",
      "Step  77: val loss 2.4476\n"
     ]
    },
    {
     "data": {
      "text/plain": [
       "'./CNN/model/model_iter-77'"
      ]
     },
     "execution_count": 20,
     "metadata": {},
     "output_type": "execute_result"
    },
    {
     "name": "stdout",
     "output_type": "stream",
     "text": [
      "Step  78: training accuracy 0.0000\n",
      "Step  78: training loss 2.4672\n",
      "Step  78: val accuracy 0.0600\n",
      "Step  78: val loss 2.4109\n"
     ]
    },
    {
     "data": {
      "text/plain": [
       "'./CNN/model/model_iter-78'"
      ]
     },
     "execution_count": 20,
     "metadata": {},
     "output_type": "execute_result"
    },
    {
     "name": "stdout",
     "output_type": "stream",
     "text": [
      "Step  79: training accuracy 0.4000\n",
      "Step  79: training loss 2.1970\n",
      "Step  79: val accuracy 0.0600\n",
      "Step  79: val loss 2.4017\n"
     ]
    },
    {
     "data": {
      "text/plain": [
       "'./CNN/model/model_iter-79'"
      ]
     },
     "execution_count": 20,
     "metadata": {},
     "output_type": "execute_result"
    },
    {
     "name": "stdout",
     "output_type": "stream",
     "text": [
      "Step  80: training accuracy 0.0000\n",
      "Step  80: training loss 2.3283\n",
      "Step  80: val accuracy 0.0600\n",
      "Step  80: val loss 2.3930\n"
     ]
    },
    {
     "data": {
      "text/plain": [
       "'./CNN/model/model_iter-80'"
      ]
     },
     "execution_count": 20,
     "metadata": {},
     "output_type": "execute_result"
    },
    {
     "name": "stdout",
     "output_type": "stream",
     "text": [
      "Step  81: training accuracy 0.3000\n",
      "Step  81: training loss 2.2263\n",
      "Step  81: val accuracy 0.0600\n",
      "Step  81: val loss 2.4003\n"
     ]
    },
    {
     "data": {
      "text/plain": [
       "'./CNN/model/model_iter-81'"
      ]
     },
     "execution_count": 20,
     "metadata": {},
     "output_type": "execute_result"
    },
    {
     "name": "stdout",
     "output_type": "stream",
     "text": [
      "Step  82: training accuracy 0.0000\n",
      "Step  82: training loss 2.3502\n",
      "Step  82: val accuracy 0.0600\n",
      "Step  82: val loss 2.3902\n"
     ]
    },
    {
     "data": {
      "text/plain": [
       "'./CNN/model/model_iter-82'"
      ]
     },
     "execution_count": 20,
     "metadata": {},
     "output_type": "execute_result"
    },
    {
     "name": "stdout",
     "output_type": "stream",
     "text": [
      "Step  83: training accuracy 0.0000\n",
      "Step  83: training loss 2.3833\n",
      "Step  83: val accuracy 0.0600\n",
      "Step  83: val loss 2.3786\n"
     ]
    },
    {
     "data": {
      "text/plain": [
       "'./CNN/model/model_iter-83'"
      ]
     },
     "execution_count": 20,
     "metadata": {},
     "output_type": "execute_result"
    },
    {
     "name": "stdout",
     "output_type": "stream",
     "text": [
      "Step  84: training accuracy 0.2000\n",
      "Step  84: training loss 2.2605\n",
      "Step  84: val accuracy 0.0600\n",
      "Step  84: val loss 2.3812\n"
     ]
    },
    {
     "data": {
      "text/plain": [
       "'./CNN/model/model_iter-84'"
      ]
     },
     "execution_count": 20,
     "metadata": {},
     "output_type": "execute_result"
    },
    {
     "name": "stdout",
     "output_type": "stream",
     "text": [
      "Step  85: training accuracy 0.1000\n",
      "Step  85: training loss 2.3412\n",
      "Step  85: val accuracy 0.0600\n",
      "Step  85: val loss 2.3904\n"
     ]
    },
    {
     "data": {
      "text/plain": [
       "'./CNN/model/model_iter-85'"
      ]
     },
     "execution_count": 20,
     "metadata": {},
     "output_type": "execute_result"
    },
    {
     "name": "stdout",
     "output_type": "stream",
     "text": [
      "Step  86: training accuracy 0.1000\n",
      "Step  86: training loss 2.2762\n",
      "Step  86: val accuracy 0.0600\n",
      "Step  86: val loss 2.3709\n"
     ]
    },
    {
     "data": {
      "text/plain": [
       "'./CNN/model/model_iter-86'"
      ]
     },
     "execution_count": 20,
     "metadata": {},
     "output_type": "execute_result"
    },
    {
     "name": "stdout",
     "output_type": "stream",
     "text": [
      "Step  87: training accuracy 0.1000\n",
      "Step  87: training loss 2.2932\n",
      "Step  87: val accuracy 0.0600\n",
      "Step  87: val loss 2.3727\n"
     ]
    },
    {
     "data": {
      "text/plain": [
       "'./CNN/model/model_iter-87'"
      ]
     },
     "execution_count": 20,
     "metadata": {},
     "output_type": "execute_result"
    },
    {
     "name": "stdout",
     "output_type": "stream",
     "text": [
      "Step  88: training accuracy 0.0000\n",
      "Step  88: training loss 2.2951\n",
      "Step  88: val accuracy 0.0600\n",
      "Step  88: val loss 2.3635\n"
     ]
    },
    {
     "data": {
      "text/plain": [
       "'./CNN/model/model_iter-88'"
      ]
     },
     "execution_count": 20,
     "metadata": {},
     "output_type": "execute_result"
    },
    {
     "name": "stdout",
     "output_type": "stream",
     "text": [
      "Step  89: training accuracy 0.1000\n",
      "Step  89: training loss 2.1957\n",
      "Step  89: val accuracy 0.0600\n",
      "Step  89: val loss 2.3718\n"
     ]
    },
    {
     "data": {
      "text/plain": [
       "'./CNN/model/model_iter-89'"
      ]
     },
     "execution_count": 20,
     "metadata": {},
     "output_type": "execute_result"
    },
    {
     "name": "stdout",
     "output_type": "stream",
     "text": [
      "Step  90: training accuracy 0.1000\n",
      "Step  90: training loss 2.2534\n",
      "Step  90: val accuracy 0.0600\n",
      "Step  90: val loss 2.3686\n"
     ]
    },
    {
     "data": {
      "text/plain": [
       "'./CNN/model/model_iter-90'"
      ]
     },
     "execution_count": 20,
     "metadata": {},
     "output_type": "execute_result"
    },
    {
     "name": "stdout",
     "output_type": "stream",
     "text": [
      "Step  91: training accuracy 0.1000\n",
      "Step  91: training loss 2.2821\n",
      "Step  91: val accuracy 0.0600\n",
      "Step  91: val loss 2.3675\n"
     ]
    },
    {
     "data": {
      "text/plain": [
       "'./CNN/model/model_iter-91'"
      ]
     },
     "execution_count": 20,
     "metadata": {},
     "output_type": "execute_result"
    },
    {
     "name": "stdout",
     "output_type": "stream",
     "text": [
      "Step  92: training accuracy 0.0000\n",
      "Step  92: training loss 2.2654\n",
      "Step  92: val accuracy 0.0600\n",
      "Step  92: val loss 2.3716\n"
     ]
    },
    {
     "data": {
      "text/plain": [
       "'./CNN/model/model_iter-92'"
      ]
     },
     "execution_count": 20,
     "metadata": {},
     "output_type": "execute_result"
    },
    {
     "name": "stdout",
     "output_type": "stream",
     "text": [
      "Step  93: training accuracy 0.3000\n",
      "Step  93: training loss 2.2253\n",
      "Step  93: val accuracy 0.0600\n",
      "Step  93: val loss 2.3572\n"
     ]
    },
    {
     "data": {
      "text/plain": [
       "'./CNN/model/model_iter-93'"
      ]
     },
     "execution_count": 20,
     "metadata": {},
     "output_type": "execute_result"
    },
    {
     "name": "stdout",
     "output_type": "stream",
     "text": [
      "Step  94: training accuracy 0.2000\n",
      "Step  94: training loss 2.3201\n",
      "Step  94: val accuracy 0.0600\n",
      "Step  94: val loss 2.3690\n"
     ]
    },
    {
     "data": {
      "text/plain": [
       "'./CNN/model/model_iter-94'"
      ]
     },
     "execution_count": 20,
     "metadata": {},
     "output_type": "execute_result"
    },
    {
     "name": "stdout",
     "output_type": "stream",
     "text": [
      "Step  95: training accuracy 0.1000\n",
      "Step  95: training loss 2.2372\n",
      "Step  95: val accuracy 0.0600\n",
      "Step  95: val loss 2.3617\n"
     ]
    },
    {
     "data": {
      "text/plain": [
       "'./CNN/model/model_iter-95'"
      ]
     },
     "execution_count": 20,
     "metadata": {},
     "output_type": "execute_result"
    },
    {
     "name": "stdout",
     "output_type": "stream",
     "text": [
      "Step  96: training accuracy 0.1000\n",
      "Step  96: training loss 2.2255\n",
      "Step  96: val accuracy 0.0600\n",
      "Step  96: val loss 2.3580\n"
     ]
    },
    {
     "data": {
      "text/plain": [
       "'./CNN/model/model_iter-96'"
      ]
     },
     "execution_count": 20,
     "metadata": {},
     "output_type": "execute_result"
    },
    {
     "name": "stdout",
     "output_type": "stream",
     "text": [
      "Step  97: training accuracy 0.0000\n",
      "Step  97: training loss 2.3660\n",
      "Step  97: val accuracy 0.0600\n",
      "Step  97: val loss 2.3580\n"
     ]
    },
    {
     "data": {
      "text/plain": [
       "'./CNN/model/model_iter-97'"
      ]
     },
     "execution_count": 20,
     "metadata": {},
     "output_type": "execute_result"
    },
    {
     "name": "stdout",
     "output_type": "stream",
     "text": [
      "Step  98: training accuracy 0.2000\n",
      "Step  98: training loss 2.1739\n",
      "Step  98: val accuracy 0.0600\n",
      "Step  98: val loss 2.3609\n"
     ]
    },
    {
     "data": {
      "text/plain": [
       "'./CNN/model/model_iter-98'"
      ]
     },
     "execution_count": 20,
     "metadata": {},
     "output_type": "execute_result"
    },
    {
     "name": "stdout",
     "output_type": "stream",
     "text": [
      "Step  99: training accuracy 0.2000\n",
      "Step  99: training loss 2.2034\n",
      "Step  99: val accuracy 0.0600\n",
      "Step  99: val loss 2.3568\n"
     ]
    },
    {
     "data": {
      "text/plain": [
       "'./CNN/model/model_iter-99'"
      ]
     },
     "execution_count": 20,
     "metadata": {},
     "output_type": "execute_result"
    },
    {
     "name": "stdout",
     "output_type": "stream",
     "text": [
      "Step 100: training accuracy 0.4000\n",
      "Step 100: training loss 2.2589\n",
      "Step 100: val accuracy 0.0600\n",
      "Step 100: val loss 2.3634\n"
     ]
    },
    {
     "data": {
      "text/plain": [
       "'./CNN/model/model_iter-100'"
      ]
     },
     "execution_count": 20,
     "metadata": {},
     "output_type": "execute_result"
    },
    {
     "name": "stdout",
     "output_type": "stream",
     "text": [
      "Step 101: training accuracy 0.0000\n",
      "Step 101: training loss 2.2755\n",
      "Step 101: val accuracy 0.0600\n",
      "Step 101: val loss 2.3600\n"
     ]
    },
    {
     "data": {
      "text/plain": [
       "'./CNN/model/model_iter-101'"
      ]
     },
     "execution_count": 20,
     "metadata": {},
     "output_type": "execute_result"
    },
    {
     "name": "stdout",
     "output_type": "stream",
     "text": [
      "Step 102: training accuracy 0.0000\n",
      "Step 102: training loss 2.3419\n",
      "Step 102: val accuracy 0.0600\n",
      "Step 102: val loss 2.3658\n"
     ]
    },
    {
     "data": {
      "text/plain": [
       "'./CNN/model/model_iter-102'"
      ]
     },
     "execution_count": 20,
     "metadata": {},
     "output_type": "execute_result"
    },
    {
     "name": "stdout",
     "output_type": "stream",
     "text": [
      "Step 103: training accuracy 0.3000\n",
      "Step 103: training loss 2.1506\n",
      "Step 103: val accuracy 0.0600\n",
      "Step 103: val loss 2.3674\n"
     ]
    },
    {
     "data": {
      "text/plain": [
       "'./CNN/model/model_iter-103'"
      ]
     },
     "execution_count": 20,
     "metadata": {},
     "output_type": "execute_result"
    },
    {
     "name": "stdout",
     "output_type": "stream",
     "text": [
      "Step 104: training accuracy 0.0000\n",
      "Step 104: training loss 2.2683\n",
      "Step 104: val accuracy 0.0600\n",
      "Step 104: val loss 2.3736\n"
     ]
    },
    {
     "data": {
      "text/plain": [
       "'./CNN/model/model_iter-104'"
      ]
     },
     "execution_count": 20,
     "metadata": {},
     "output_type": "execute_result"
    },
    {
     "name": "stdout",
     "output_type": "stream",
     "text": [
      "Step 105: training accuracy 0.2000\n",
      "Step 105: training loss 2.2500\n",
      "Step 105: val accuracy 0.0600\n",
      "Step 105: val loss 2.3696\n"
     ]
    },
    {
     "data": {
      "text/plain": [
       "'./CNN/model/model_iter-105'"
      ]
     },
     "execution_count": 20,
     "metadata": {},
     "output_type": "execute_result"
    },
    {
     "name": "stdout",
     "output_type": "stream",
     "text": [
      "Step 106: training accuracy 0.0000\n",
      "Step 106: training loss 2.2439\n",
      "Step 106: val accuracy 0.0600\n",
      "Step 106: val loss 2.3749\n"
     ]
    },
    {
     "data": {
      "text/plain": [
       "'./CNN/model/model_iter-106'"
      ]
     },
     "execution_count": 20,
     "metadata": {},
     "output_type": "execute_result"
    },
    {
     "name": "stdout",
     "output_type": "stream",
     "text": [
      "Step 107: training accuracy 0.1000\n",
      "Step 107: training loss 2.2738\n",
      "Step 107: val accuracy 0.0600\n",
      "Step 107: val loss 2.3677\n"
     ]
    },
    {
     "data": {
      "text/plain": [
       "'./CNN/model/model_iter-107'"
      ]
     },
     "execution_count": 20,
     "metadata": {},
     "output_type": "execute_result"
    },
    {
     "name": "stdout",
     "output_type": "stream",
     "text": [
      "Step 108: training accuracy 0.3000\n",
      "Step 108: training loss 2.2389\n",
      "Step 108: val accuracy 0.0600\n",
      "Step 108: val loss 2.3634\n"
     ]
    },
    {
     "data": {
      "text/plain": [
       "'./CNN/model/model_iter-108'"
      ]
     },
     "execution_count": 20,
     "metadata": {},
     "output_type": "execute_result"
    },
    {
     "name": "stdout",
     "output_type": "stream",
     "text": [
      "Step 109: training accuracy 0.1000\n",
      "Step 109: training loss 2.2627\n",
      "Step 109: val accuracy 0.0600\n",
      "Step 109: val loss 2.3650\n"
     ]
    },
    {
     "data": {
      "text/plain": [
       "'./CNN/model/model_iter-109'"
      ]
     },
     "execution_count": 20,
     "metadata": {},
     "output_type": "execute_result"
    },
    {
     "name": "stdout",
     "output_type": "stream",
     "text": [
      "Step 110: training accuracy 0.3000\n",
      "Step 110: training loss 2.2788\n",
      "Step 110: val accuracy 0.0600\n",
      "Step 110: val loss 2.3715\n"
     ]
    },
    {
     "data": {
      "text/plain": [
       "'./CNN/model/model_iter-110'"
      ]
     },
     "execution_count": 20,
     "metadata": {},
     "output_type": "execute_result"
    },
    {
     "name": "stdout",
     "output_type": "stream",
     "text": [
      "Step 111: training accuracy 0.1000\n",
      "Step 111: training loss 2.3331\n",
      "Step 111: val accuracy 0.0600\n",
      "Step 111: val loss 2.3672\n"
     ]
    },
    {
     "data": {
      "text/plain": [
       "'./CNN/model/model_iter-111'"
      ]
     },
     "execution_count": 20,
     "metadata": {},
     "output_type": "execute_result"
    },
    {
     "name": "stdout",
     "output_type": "stream",
     "text": [
      "Step 112: training accuracy 0.0000\n",
      "Step 112: training loss 2.2170\n",
      "Step 112: val accuracy 0.0600\n",
      "Step 112: val loss 2.3738\n"
     ]
    },
    {
     "data": {
      "text/plain": [
       "'./CNN/model/model_iter-112'"
      ]
     },
     "execution_count": 20,
     "metadata": {},
     "output_type": "execute_result"
    },
    {
     "name": "stdout",
     "output_type": "stream",
     "text": [
      "Step 113: training accuracy 0.1000\n",
      "Step 113: training loss 2.3164\n",
      "Step 113: val accuracy 0.0600\n",
      "Step 113: val loss 2.3704\n"
     ]
    },
    {
     "data": {
      "text/plain": [
       "'./CNN/model/model_iter-113'"
      ]
     },
     "execution_count": 20,
     "metadata": {},
     "output_type": "execute_result"
    },
    {
     "name": "stdout",
     "output_type": "stream",
     "text": [
      "Step 114: training accuracy 0.1000\n",
      "Step 114: training loss 2.3710\n",
      "Step 114: val accuracy 0.0600\n",
      "Step 114: val loss 2.3638\n"
     ]
    },
    {
     "data": {
      "text/plain": [
       "'./CNN/model/model_iter-114'"
      ]
     },
     "execution_count": 20,
     "metadata": {},
     "output_type": "execute_result"
    },
    {
     "name": "stdout",
     "output_type": "stream",
     "text": [
      "Step 115: training accuracy 0.0000\n",
      "Step 115: training loss 2.3273\n",
      "Step 115: val accuracy 0.0600\n",
      "Step 115: val loss 2.3699\n"
     ]
    },
    {
     "data": {
      "text/plain": [
       "'./CNN/model/model_iter-115'"
      ]
     },
     "execution_count": 20,
     "metadata": {},
     "output_type": "execute_result"
    },
    {
     "name": "stdout",
     "output_type": "stream",
     "text": [
      "Step 116: training accuracy 0.1000\n",
      "Step 116: training loss 2.1478\n",
      "Step 116: val accuracy 0.0600\n",
      "Step 116: val loss 2.3702\n"
     ]
    },
    {
     "data": {
      "text/plain": [
       "'./CNN/model/model_iter-116'"
      ]
     },
     "execution_count": 20,
     "metadata": {},
     "output_type": "execute_result"
    },
    {
     "name": "stdout",
     "output_type": "stream",
     "text": [
      "Step 117: training accuracy 0.2000\n",
      "Step 117: training loss 2.3611\n",
      "Step 117: val accuracy 0.0600\n",
      "Step 117: val loss 2.3673\n"
     ]
    },
    {
     "data": {
      "text/plain": [
       "'./CNN/model/model_iter-117'"
      ]
     },
     "execution_count": 20,
     "metadata": {},
     "output_type": "execute_result"
    },
    {
     "name": "stdout",
     "output_type": "stream",
     "text": [
      "Step 118: training accuracy 0.3000\n",
      "Step 118: training loss 2.1517\n",
      "Step 118: val accuracy 0.0600\n",
      "Step 118: val loss 2.3658\n"
     ]
    },
    {
     "data": {
      "text/plain": [
       "'./CNN/model/model_iter-118'"
      ]
     },
     "execution_count": 20,
     "metadata": {},
     "output_type": "execute_result"
    },
    {
     "name": "stdout",
     "output_type": "stream",
     "text": [
      "Step 119: training accuracy 0.1000\n",
      "Step 119: training loss 2.2805\n",
      "Step 119: val accuracy 0.0600\n",
      "Step 119: val loss 2.3734\n"
     ]
    },
    {
     "data": {
      "text/plain": [
       "'./CNN/model/model_iter-119'"
      ]
     },
     "execution_count": 20,
     "metadata": {},
     "output_type": "execute_result"
    },
    {
     "name": "stdout",
     "output_type": "stream",
     "text": [
      "Step 120: training accuracy 0.2000\n",
      "Step 120: training loss 2.3121\n",
      "Step 120: val accuracy 0.0600\n",
      "Step 120: val loss 2.3723\n"
     ]
    },
    {
     "data": {
      "text/plain": [
       "'./CNN/model/model_iter-120'"
      ]
     },
     "execution_count": 20,
     "metadata": {},
     "output_type": "execute_result"
    },
    {
     "name": "stdout",
     "output_type": "stream",
     "text": [
      "Step 121: training accuracy 0.4000\n",
      "Step 121: training loss 2.2204\n",
      "Step 121: val accuracy 0.0600\n",
      "Step 121: val loss 2.3735\n"
     ]
    },
    {
     "data": {
      "text/plain": [
       "'./CNN/model/model_iter-121'"
      ]
     },
     "execution_count": 20,
     "metadata": {},
     "output_type": "execute_result"
    },
    {
     "name": "stdout",
     "output_type": "stream",
     "text": [
      "Step 122: training accuracy 0.2000\n",
      "Step 122: training loss 2.1680\n",
      "Step 122: val accuracy 0.0600\n",
      "Step 122: val loss 2.3735\n"
     ]
    },
    {
     "data": {
      "text/plain": [
       "'./CNN/model/model_iter-122'"
      ]
     },
     "execution_count": 20,
     "metadata": {},
     "output_type": "execute_result"
    },
    {
     "name": "stdout",
     "output_type": "stream",
     "text": [
      "Step 123: training accuracy 0.3000\n",
      "Step 123: training loss 2.2159\n",
      "Step 123: val accuracy 0.0600\n",
      "Step 123: val loss 2.3765\n"
     ]
    },
    {
     "data": {
      "text/plain": [
       "'./CNN/model/model_iter-123'"
      ]
     },
     "execution_count": 20,
     "metadata": {},
     "output_type": "execute_result"
    },
    {
     "name": "stdout",
     "output_type": "stream",
     "text": [
      "Step 124: training accuracy 0.1000\n",
      "Step 124: training loss 2.2456\n",
      "Step 124: val accuracy 0.0600\n",
      "Step 124: val loss 2.3824\n"
     ]
    },
    {
     "data": {
      "text/plain": [
       "'./CNN/model/model_iter-124'"
      ]
     },
     "execution_count": 20,
     "metadata": {},
     "output_type": "execute_result"
    },
    {
     "name": "stdout",
     "output_type": "stream",
     "text": [
      "Step 125: training accuracy 0.1000\n",
      "Step 125: training loss 2.2667\n",
      "Step 125: val accuracy 0.0600\n",
      "Step 125: val loss 2.3823\n"
     ]
    },
    {
     "data": {
      "text/plain": [
       "'./CNN/model/model_iter-125'"
      ]
     },
     "execution_count": 20,
     "metadata": {},
     "output_type": "execute_result"
    },
    {
     "name": "stdout",
     "output_type": "stream",
     "text": [
      "Step 126: training accuracy 0.3000\n",
      "Step 126: training loss 2.3122\n",
      "Step 126: val accuracy 0.0600\n",
      "Step 126: val loss 2.3896\n"
     ]
    },
    {
     "data": {
      "text/plain": [
       "'./CNN/model/model_iter-126'"
      ]
     },
     "execution_count": 20,
     "metadata": {},
     "output_type": "execute_result"
    },
    {
     "name": "stdout",
     "output_type": "stream",
     "text": [
      "Step 127: training accuracy 0.2000\n",
      "Step 127: training loss 2.2011\n",
      "Step 127: val accuracy 0.0600\n",
      "Step 127: val loss 2.3913\n"
     ]
    },
    {
     "data": {
      "text/plain": [
       "'./CNN/model/model_iter-127'"
      ]
     },
     "execution_count": 20,
     "metadata": {},
     "output_type": "execute_result"
    },
    {
     "name": "stdout",
     "output_type": "stream",
     "text": [
      "Step 128: training accuracy 0.1000\n",
      "Step 128: training loss 2.3021\n",
      "Step 128: val accuracy 0.0600\n",
      "Step 128: val loss 2.3875\n"
     ]
    },
    {
     "data": {
      "text/plain": [
       "'./CNN/model/model_iter-128'"
      ]
     },
     "execution_count": 20,
     "metadata": {},
     "output_type": "execute_result"
    },
    {
     "name": "stdout",
     "output_type": "stream",
     "text": [
      "Step 129: training accuracy 0.1000\n",
      "Step 129: training loss 2.1641\n",
      "Step 129: val accuracy 0.0600\n",
      "Step 129: val loss 2.4003\n"
     ]
    },
    {
     "data": {
      "text/plain": [
       "'./CNN/model/model_iter-129'"
      ]
     },
     "execution_count": 20,
     "metadata": {},
     "output_type": "execute_result"
    },
    {
     "name": "stdout",
     "output_type": "stream",
     "text": [
      "Step 130: training accuracy 0.1000\n",
      "Step 130: training loss 2.2921\n",
      "Step 130: val accuracy 0.0600\n",
      "Step 130: val loss 2.3905\n"
     ]
    },
    {
     "data": {
      "text/plain": [
       "'./CNN/model/model_iter-130'"
      ]
     },
     "execution_count": 20,
     "metadata": {},
     "output_type": "execute_result"
    },
    {
     "name": "stdout",
     "output_type": "stream",
     "text": [
      "Step 131: training accuracy 0.3000\n",
      "Step 131: training loss 2.2225\n",
      "Step 131: val accuracy 0.0600\n",
      "Step 131: val loss 2.3992\n"
     ]
    },
    {
     "data": {
      "text/plain": [
       "'./CNN/model/model_iter-131'"
      ]
     },
     "execution_count": 20,
     "metadata": {},
     "output_type": "execute_result"
    },
    {
     "name": "stdout",
     "output_type": "stream",
     "text": [
      "Step 132: training accuracy 0.0000\n",
      "Step 132: training loss 2.2730\n",
      "Step 132: val accuracy 0.0600\n",
      "Step 132: val loss 2.4024\n"
     ]
    },
    {
     "data": {
      "text/plain": [
       "'./CNN/model/model_iter-132'"
      ]
     },
     "execution_count": 20,
     "metadata": {},
     "output_type": "execute_result"
    },
    {
     "name": "stdout",
     "output_type": "stream",
     "text": [
      "Step 133: training accuracy 0.3000\n",
      "Step 133: training loss 2.2017\n",
      "Step 133: val accuracy 0.0600\n",
      "Step 133: val loss 2.4024\n"
     ]
    },
    {
     "data": {
      "text/plain": [
       "'./CNN/model/model_iter-133'"
      ]
     },
     "execution_count": 20,
     "metadata": {},
     "output_type": "execute_result"
    },
    {
     "name": "stdout",
     "output_type": "stream",
     "text": [
      "Step 134: training accuracy 0.3000\n",
      "Step 134: training loss 2.2381\n",
      "Step 134: val accuracy 0.0600\n",
      "Step 134: val loss 2.3980\n"
     ]
    },
    {
     "data": {
      "text/plain": [
       "'./CNN/model/model_iter-134'"
      ]
     },
     "execution_count": 20,
     "metadata": {},
     "output_type": "execute_result"
    },
    {
     "name": "stdout",
     "output_type": "stream",
     "text": [
      "Step 135: training accuracy 0.1000\n",
      "Step 135: training loss 2.2620\n",
      "Step 135: val accuracy 0.0600\n",
      "Step 135: val loss 2.3938\n"
     ]
    },
    {
     "data": {
      "text/plain": [
       "'./CNN/model/model_iter-135'"
      ]
     },
     "execution_count": 20,
     "metadata": {},
     "output_type": "execute_result"
    },
    {
     "name": "stdout",
     "output_type": "stream",
     "text": [
      "Step 136: training accuracy 0.2000\n",
      "Step 136: training loss 2.1952\n",
      "Step 136: val accuracy 0.0600\n",
      "Step 136: val loss 2.4047\n"
     ]
    },
    {
     "data": {
      "text/plain": [
       "'./CNN/model/model_iter-136'"
      ]
     },
     "execution_count": 20,
     "metadata": {},
     "output_type": "execute_result"
    },
    {
     "name": "stdout",
     "output_type": "stream",
     "text": [
      "Step 137: training accuracy 0.2000\n",
      "Step 137: training loss 2.1058\n",
      "Step 137: val accuracy 0.0600\n",
      "Step 137: val loss 2.4163\n"
     ]
    },
    {
     "data": {
      "text/plain": [
       "'./CNN/model/model_iter-137'"
      ]
     },
     "execution_count": 20,
     "metadata": {},
     "output_type": "execute_result"
    },
    {
     "name": "stdout",
     "output_type": "stream",
     "text": [
      "Step 138: training accuracy 0.3000\n",
      "Step 138: training loss 2.1320\n",
      "Step 138: val accuracy 0.0600\n",
      "Step 138: val loss 2.4254\n"
     ]
    },
    {
     "data": {
      "text/plain": [
       "'./CNN/model/model_iter-138'"
      ]
     },
     "execution_count": 20,
     "metadata": {},
     "output_type": "execute_result"
    },
    {
     "name": "stdout",
     "output_type": "stream",
     "text": [
      "Step 139: training accuracy 0.2000\n",
      "Step 139: training loss 2.0664\n",
      "Step 139: val accuracy 0.0600\n",
      "Step 139: val loss 2.4236\n"
     ]
    },
    {
     "data": {
      "text/plain": [
       "'./CNN/model/model_iter-139'"
      ]
     },
     "execution_count": 20,
     "metadata": {},
     "output_type": "execute_result"
    },
    {
     "name": "stdout",
     "output_type": "stream",
     "text": [
      "Step 140: training accuracy 0.2000\n",
      "Step 140: training loss 2.2045\n",
      "Step 140: val accuracy 0.0600\n",
      "Step 140: val loss 2.4369\n"
     ]
    },
    {
     "data": {
      "text/plain": [
       "'./CNN/model/model_iter-140'"
      ]
     },
     "execution_count": 20,
     "metadata": {},
     "output_type": "execute_result"
    },
    {
     "name": "stdout",
     "output_type": "stream",
     "text": [
      "Step 141: training accuracy 0.2000\n",
      "Step 141: training loss 2.2538\n",
      "Step 141: val accuracy 0.0600\n",
      "Step 141: val loss 2.4468\n"
     ]
    },
    {
     "data": {
      "text/plain": [
       "'./CNN/model/model_iter-141'"
      ]
     },
     "execution_count": 20,
     "metadata": {},
     "output_type": "execute_result"
    },
    {
     "name": "stdout",
     "output_type": "stream",
     "text": [
      "Step 142: training accuracy 0.1000\n",
      "Step 142: training loss 2.2043\n",
      "Step 142: val accuracy 0.0600\n",
      "Step 142: val loss 2.4493\n"
     ]
    },
    {
     "data": {
      "text/plain": [
       "'./CNN/model/model_iter-142'"
      ]
     },
     "execution_count": 20,
     "metadata": {},
     "output_type": "execute_result"
    },
    {
     "name": "stdout",
     "output_type": "stream",
     "text": [
      "Step 143: training accuracy 0.2000\n",
      "Step 143: training loss 2.2754\n",
      "Step 143: val accuracy 0.0600\n",
      "Step 143: val loss 2.4298\n"
     ]
    },
    {
     "data": {
      "text/plain": [
       "'./CNN/model/model_iter-143'"
      ]
     },
     "execution_count": 20,
     "metadata": {},
     "output_type": "execute_result"
    },
    {
     "name": "stdout",
     "output_type": "stream",
     "text": [
      "Step 144: training accuracy 0.2000\n",
      "Step 144: training loss 2.2663\n",
      "Step 144: val accuracy 0.0600\n",
      "Step 144: val loss 2.4559\n"
     ]
    },
    {
     "data": {
      "text/plain": [
       "'./CNN/model/model_iter-144'"
      ]
     },
     "execution_count": 20,
     "metadata": {},
     "output_type": "execute_result"
    },
    {
     "name": "stdout",
     "output_type": "stream",
     "text": [
      "Step 145: training accuracy 0.1000\n",
      "Step 145: training loss 2.0866\n",
      "Step 145: val accuracy 0.0600\n",
      "Step 145: val loss 2.4314\n"
     ]
    },
    {
     "data": {
      "text/plain": [
       "'./CNN/model/model_iter-145'"
      ]
     },
     "execution_count": 20,
     "metadata": {},
     "output_type": "execute_result"
    },
    {
     "name": "stdout",
     "output_type": "stream",
     "text": [
      "Step 146: training accuracy 0.1000\n",
      "Step 146: training loss 2.1571\n",
      "Step 146: val accuracy 0.0600\n",
      "Step 146: val loss 2.4589\n"
     ]
    },
    {
     "data": {
      "text/plain": [
       "'./CNN/model/model_iter-146'"
      ]
     },
     "execution_count": 20,
     "metadata": {},
     "output_type": "execute_result"
    },
    {
     "name": "stdout",
     "output_type": "stream",
     "text": [
      "Step 147: training accuracy 0.1000\n",
      "Step 147: training loss 2.3314\n",
      "Step 147: val accuracy 0.0600\n",
      "Step 147: val loss 2.4766\n"
     ]
    },
    {
     "data": {
      "text/plain": [
       "'./CNN/model/model_iter-147'"
      ]
     },
     "execution_count": 20,
     "metadata": {},
     "output_type": "execute_result"
    },
    {
     "name": "stdout",
     "output_type": "stream",
     "text": [
      "Step 148: training accuracy 0.0000\n",
      "Step 148: training loss 2.2588\n",
      "Step 148: val accuracy 0.0600\n",
      "Step 148: val loss 2.4666\n"
     ]
    },
    {
     "data": {
      "text/plain": [
       "'./CNN/model/model_iter-148'"
      ]
     },
     "execution_count": 20,
     "metadata": {},
     "output_type": "execute_result"
    },
    {
     "name": "stdout",
     "output_type": "stream",
     "text": [
      "Step 149: training accuracy 0.1000\n",
      "Step 149: training loss 2.3065\n",
      "Step 149: val accuracy 0.0600\n",
      "Step 149: val loss 2.4679\n"
     ]
    },
    {
     "data": {
      "text/plain": [
       "'./CNN/model/model_iter-149'"
      ]
     },
     "execution_count": 20,
     "metadata": {},
     "output_type": "execute_result"
    },
    {
     "name": "stdout",
     "output_type": "stream",
     "text": [
      "Step 150: training accuracy 0.3000\n",
      "Step 150: training loss 2.1267\n",
      "Step 150: val accuracy 0.0600\n",
      "Step 150: val loss 2.4819\n"
     ]
    },
    {
     "data": {
      "text/plain": [
       "'./CNN/model/model_iter-150'"
      ]
     },
     "execution_count": 20,
     "metadata": {},
     "output_type": "execute_result"
    },
    {
     "name": "stdout",
     "output_type": "stream",
     "text": [
      "Step 151: training accuracy 0.4000\n",
      "Step 151: training loss 2.0469\n",
      "Step 151: val accuracy 0.0600\n",
      "Step 151: val loss 2.5105\n"
     ]
    },
    {
     "data": {
      "text/plain": [
       "'./CNN/model/model_iter-151'"
      ]
     },
     "execution_count": 20,
     "metadata": {},
     "output_type": "execute_result"
    },
    {
     "name": "stdout",
     "output_type": "stream",
     "text": [
      "Step 152: training accuracy 0.2000\n",
      "Step 152: training loss 2.2483\n",
      "Step 152: val accuracy 0.0600\n",
      "Step 152: val loss 2.4942\n"
     ]
    },
    {
     "data": {
      "text/plain": [
       "'./CNN/model/model_iter-152'"
      ]
     },
     "execution_count": 20,
     "metadata": {},
     "output_type": "execute_result"
    },
    {
     "name": "stdout",
     "output_type": "stream",
     "text": [
      "Step 153: training accuracy 0.4000\n",
      "Step 153: training loss 2.0105\n",
      "Step 153: val accuracy 0.0600\n",
      "Step 153: val loss 2.5058\n"
     ]
    },
    {
     "data": {
      "text/plain": [
       "'./CNN/model/model_iter-153'"
      ]
     },
     "execution_count": 20,
     "metadata": {},
     "output_type": "execute_result"
    },
    {
     "name": "stdout",
     "output_type": "stream",
     "text": [
      "Step 154: training accuracy 0.1000\n",
      "Step 154: training loss 2.1588\n",
      "Step 154: val accuracy 0.0600\n",
      "Step 154: val loss 2.5082\n"
     ]
    },
    {
     "data": {
      "text/plain": [
       "'./CNN/model/model_iter-154'"
      ]
     },
     "execution_count": 20,
     "metadata": {},
     "output_type": "execute_result"
    },
    {
     "name": "stdout",
     "output_type": "stream",
     "text": [
      "Step 155: training accuracy 0.2000\n",
      "Step 155: training loss 2.2401\n",
      "Step 155: val accuracy 0.0600\n",
      "Step 155: val loss 2.5192\n"
     ]
    },
    {
     "data": {
      "text/plain": [
       "'./CNN/model/model_iter-155'"
      ]
     },
     "execution_count": 20,
     "metadata": {},
     "output_type": "execute_result"
    },
    {
     "name": "stdout",
     "output_type": "stream",
     "text": [
      "Step 156: training accuracy 0.2000\n",
      "Step 156: training loss 2.3540\n",
      "Step 156: val accuracy 0.0600\n",
      "Step 156: val loss 2.4971\n"
     ]
    },
    {
     "data": {
      "text/plain": [
       "'./CNN/model/model_iter-156'"
      ]
     },
     "execution_count": 20,
     "metadata": {},
     "output_type": "execute_result"
    },
    {
     "name": "stdout",
     "output_type": "stream",
     "text": [
      "Step 157: training accuracy 0.5000\n",
      "Step 157: training loss 1.8164\n",
      "Step 157: val accuracy 0.0600\n",
      "Step 157: val loss 2.5130\n"
     ]
    },
    {
     "data": {
      "text/plain": [
       "'./CNN/model/model_iter-157'"
      ]
     },
     "execution_count": 20,
     "metadata": {},
     "output_type": "execute_result"
    },
    {
     "name": "stdout",
     "output_type": "stream",
     "text": [
      "Step 158: training accuracy 0.0000\n",
      "Step 158: training loss 2.2689\n",
      "Step 158: val accuracy 0.0600\n",
      "Step 158: val loss 2.5327\n"
     ]
    },
    {
     "data": {
      "text/plain": [
       "'./CNN/model/model_iter-158'"
      ]
     },
     "execution_count": 20,
     "metadata": {},
     "output_type": "execute_result"
    },
    {
     "name": "stdout",
     "output_type": "stream",
     "text": [
      "Step 159: training accuracy 0.2000\n",
      "Step 159: training loss 2.3672\n",
      "Step 159: val accuracy 0.0600\n",
      "Step 159: val loss 2.5374\n"
     ]
    },
    {
     "data": {
      "text/plain": [
       "'./CNN/model/model_iter-159'"
      ]
     },
     "execution_count": 20,
     "metadata": {},
     "output_type": "execute_result"
    },
    {
     "name": "stdout",
     "output_type": "stream",
     "text": [
      "Step 160: training accuracy 0.3000\n",
      "Step 160: training loss 2.2705\n",
      "Step 160: val accuracy 0.0600\n",
      "Step 160: val loss 2.5237\n"
     ]
    },
    {
     "data": {
      "text/plain": [
       "'./CNN/model/model_iter-160'"
      ]
     },
     "execution_count": 20,
     "metadata": {},
     "output_type": "execute_result"
    },
    {
     "name": "stdout",
     "output_type": "stream",
     "text": [
      "Step 161: training accuracy 0.0000\n",
      "Step 161: training loss 2.4166\n",
      "Step 161: val accuracy 0.0600\n",
      "Step 161: val loss 2.4948\n"
     ]
    },
    {
     "data": {
      "text/plain": [
       "'./CNN/model/model_iter-161'"
      ]
     },
     "execution_count": 20,
     "metadata": {},
     "output_type": "execute_result"
    },
    {
     "name": "stdout",
     "output_type": "stream",
     "text": [
      "Step 162: training accuracy 0.1000\n",
      "Step 162: training loss 2.2658\n",
      "Step 162: val accuracy 0.0600\n",
      "Step 162: val loss 2.5102\n"
     ]
    },
    {
     "data": {
      "text/plain": [
       "'./CNN/model/model_iter-162'"
      ]
     },
     "execution_count": 20,
     "metadata": {},
     "output_type": "execute_result"
    },
    {
     "name": "stdout",
     "output_type": "stream",
     "text": [
      "Step 163: training accuracy 0.0000\n",
      "Step 163: training loss 2.4326\n",
      "Step 163: val accuracy 0.0600\n",
      "Step 163: val loss 2.5031\n"
     ]
    },
    {
     "data": {
      "text/plain": [
       "'./CNN/model/model_iter-163'"
      ]
     },
     "execution_count": 20,
     "metadata": {},
     "output_type": "execute_result"
    },
    {
     "name": "stdout",
     "output_type": "stream",
     "text": [
      "Step 164: training accuracy 0.1000\n",
      "Step 164: training loss 2.2409\n",
      "Step 164: val accuracy 0.0600\n",
      "Step 164: val loss 2.4971\n"
     ]
    },
    {
     "data": {
      "text/plain": [
       "'./CNN/model/model_iter-164'"
      ]
     },
     "execution_count": 20,
     "metadata": {},
     "output_type": "execute_result"
    },
    {
     "name": "stdout",
     "output_type": "stream",
     "text": [
      "Step 165: training accuracy 0.1000\n",
      "Step 165: training loss 2.3101\n",
      "Step 165: val accuracy 0.0600\n",
      "Step 165: val loss 2.4949\n"
     ]
    },
    {
     "data": {
      "text/plain": [
       "'./CNN/model/model_iter-165'"
      ]
     },
     "execution_count": 20,
     "metadata": {},
     "output_type": "execute_result"
    },
    {
     "name": "stdout",
     "output_type": "stream",
     "text": [
      "Step 166: training accuracy 0.3000\n",
      "Step 166: training loss 1.9649\n",
      "Step 166: val accuracy 0.0600\n",
      "Step 166: val loss 2.4635\n"
     ]
    },
    {
     "data": {
      "text/plain": [
       "'./CNN/model/model_iter-166'"
      ]
     },
     "execution_count": 20,
     "metadata": {},
     "output_type": "execute_result"
    },
    {
     "name": "stdout",
     "output_type": "stream",
     "text": [
      "Step 167: training accuracy 0.1000\n",
      "Step 167: training loss 2.3118\n",
      "Step 167: val accuracy 0.0600\n",
      "Step 167: val loss 2.4796\n"
     ]
    },
    {
     "data": {
      "text/plain": [
       "'./CNN/model/model_iter-167'"
      ]
     },
     "execution_count": 20,
     "metadata": {},
     "output_type": "execute_result"
    },
    {
     "name": "stdout",
     "output_type": "stream",
     "text": [
      "Step 168: training accuracy 0.1000\n",
      "Step 168: training loss 2.3737\n",
      "Step 168: val accuracy 0.0600\n",
      "Step 168: val loss 2.4553\n"
     ]
    },
    {
     "data": {
      "text/plain": [
       "'./CNN/model/model_iter-168'"
      ]
     },
     "execution_count": 20,
     "metadata": {},
     "output_type": "execute_result"
    },
    {
     "name": "stdout",
     "output_type": "stream",
     "text": [
      "Step 169: training accuracy 0.2000\n",
      "Step 169: training loss 2.2676\n",
      "Step 169: val accuracy 0.0600\n",
      "Step 169: val loss 2.4499\n"
     ]
    },
    {
     "data": {
      "text/plain": [
       "'./CNN/model/model_iter-169'"
      ]
     },
     "execution_count": 20,
     "metadata": {},
     "output_type": "execute_result"
    },
    {
     "name": "stdout",
     "output_type": "stream",
     "text": [
      "Step 170: training accuracy 0.1000\n",
      "Step 170: training loss 2.1704\n",
      "Step 170: val accuracy 0.0600\n",
      "Step 170: val loss 2.4297\n"
     ]
    },
    {
     "data": {
      "text/plain": [
       "'./CNN/model/model_iter-170'"
      ]
     },
     "execution_count": 20,
     "metadata": {},
     "output_type": "execute_result"
    },
    {
     "name": "stdout",
     "output_type": "stream",
     "text": [
      "Step 171: training accuracy 0.1000\n",
      "Step 171: training loss 2.2593\n",
      "Step 171: val accuracy 0.0600\n",
      "Step 171: val loss 2.4185\n"
     ]
    },
    {
     "data": {
      "text/plain": [
       "'./CNN/model/model_iter-171'"
      ]
     },
     "execution_count": 20,
     "metadata": {},
     "output_type": "execute_result"
    },
    {
     "name": "stdout",
     "output_type": "stream",
     "text": [
      "Step 172: training accuracy 0.2000\n",
      "Step 172: training loss 2.3314\n",
      "Step 172: val accuracy 0.0600\n",
      "Step 172: val loss 2.4332\n"
     ]
    },
    {
     "data": {
      "text/plain": [
       "'./CNN/model/model_iter-172'"
      ]
     },
     "execution_count": 20,
     "metadata": {},
     "output_type": "execute_result"
    },
    {
     "name": "stdout",
     "output_type": "stream",
     "text": [
      "Step 173: training accuracy 0.2000\n",
      "Step 173: training loss 2.1585\n",
      "Step 173: val accuracy 0.0600\n",
      "Step 173: val loss 2.4317\n"
     ]
    },
    {
     "data": {
      "text/plain": [
       "'./CNN/model/model_iter-173'"
      ]
     },
     "execution_count": 20,
     "metadata": {},
     "output_type": "execute_result"
    },
    {
     "name": "stdout",
     "output_type": "stream",
     "text": [
      "Step 174: training accuracy 0.2000\n",
      "Step 174: training loss 2.2037\n",
      "Step 174: val accuracy 0.0600\n",
      "Step 174: val loss 2.4133\n"
     ]
    },
    {
     "data": {
      "text/plain": [
       "'./CNN/model/model_iter-174'"
      ]
     },
     "execution_count": 20,
     "metadata": {},
     "output_type": "execute_result"
    },
    {
     "name": "stdout",
     "output_type": "stream",
     "text": [
      "Step 175: training accuracy 0.3000\n",
      "Step 175: training loss 2.1191\n",
      "Step 175: val accuracy 0.0600\n",
      "Step 175: val loss 2.4251\n"
     ]
    },
    {
     "data": {
      "text/plain": [
       "'./CNN/model/model_iter-175'"
      ]
     },
     "execution_count": 20,
     "metadata": {},
     "output_type": "execute_result"
    },
    {
     "name": "stdout",
     "output_type": "stream",
     "text": [
      "Step 176: training accuracy 0.1000\n",
      "Step 176: training loss 2.3080\n",
      "Step 176: val accuracy 0.0600\n",
      "Step 176: val loss 2.4187\n"
     ]
    },
    {
     "data": {
      "text/plain": [
       "'./CNN/model/model_iter-176'"
      ]
     },
     "execution_count": 20,
     "metadata": {},
     "output_type": "execute_result"
    },
    {
     "name": "stdout",
     "output_type": "stream",
     "text": [
      "Step 177: training accuracy 0.1000\n",
      "Step 177: training loss 2.3048\n",
      "Step 177: val accuracy 0.0600\n",
      "Step 177: val loss 2.3994\n"
     ]
    },
    {
     "data": {
      "text/plain": [
       "'./CNN/model/model_iter-177'"
      ]
     },
     "execution_count": 20,
     "metadata": {},
     "output_type": "execute_result"
    },
    {
     "name": "stdout",
     "output_type": "stream",
     "text": [
      "Step 178: training accuracy 0.2000\n",
      "Step 178: training loss 2.1665\n",
      "Step 178: val accuracy 0.0600\n",
      "Step 178: val loss 2.4073\n"
     ]
    },
    {
     "data": {
      "text/plain": [
       "'./CNN/model/model_iter-178'"
      ]
     },
     "execution_count": 20,
     "metadata": {},
     "output_type": "execute_result"
    },
    {
     "name": "stdout",
     "output_type": "stream",
     "text": [
      "Step 179: training accuracy 0.5000\n",
      "Step 179: training loss 2.0625\n",
      "Step 179: val accuracy 0.0600\n",
      "Step 179: val loss 2.4271\n"
     ]
    },
    {
     "data": {
      "text/plain": [
       "'./CNN/model/model_iter-179'"
      ]
     },
     "execution_count": 20,
     "metadata": {},
     "output_type": "execute_result"
    },
    {
     "name": "stdout",
     "output_type": "stream",
     "text": [
      "Step 180: training accuracy 0.2000\n",
      "Step 180: training loss 2.2668\n",
      "Step 180: val accuracy 0.0600\n",
      "Step 180: val loss 2.4140\n"
     ]
    },
    {
     "data": {
      "text/plain": [
       "'./CNN/model/model_iter-180'"
      ]
     },
     "execution_count": 20,
     "metadata": {},
     "output_type": "execute_result"
    },
    {
     "name": "stdout",
     "output_type": "stream",
     "text": [
      "Step 181: training accuracy 0.0000\n",
      "Step 181: training loss 2.3137\n",
      "Step 181: val accuracy 0.0600\n",
      "Step 181: val loss 2.4214\n"
     ]
    },
    {
     "data": {
      "text/plain": [
       "'./CNN/model/model_iter-181'"
      ]
     },
     "execution_count": 20,
     "metadata": {},
     "output_type": "execute_result"
    },
    {
     "name": "stdout",
     "output_type": "stream",
     "text": [
      "Step 182: training accuracy 0.1000\n",
      "Step 182: training loss 2.3068\n",
      "Step 182: val accuracy 0.0600\n",
      "Step 182: val loss 2.4211\n"
     ]
    },
    {
     "data": {
      "text/plain": [
       "'./CNN/model/model_iter-182'"
      ]
     },
     "execution_count": 20,
     "metadata": {},
     "output_type": "execute_result"
    },
    {
     "name": "stdout",
     "output_type": "stream",
     "text": [
      "Step 183: training accuracy 0.1000\n",
      "Step 183: training loss 2.2329\n",
      "Step 183: val accuracy 0.0600\n",
      "Step 183: val loss 2.4236\n"
     ]
    },
    {
     "data": {
      "text/plain": [
       "'./CNN/model/model_iter-183'"
      ]
     },
     "execution_count": 20,
     "metadata": {},
     "output_type": "execute_result"
    },
    {
     "name": "stdout",
     "output_type": "stream",
     "text": [
      "Step 184: training accuracy 0.3000\n",
      "Step 184: training loss 2.1657\n",
      "Step 184: val accuracy 0.0600\n",
      "Step 184: val loss 2.4136\n"
     ]
    },
    {
     "data": {
      "text/plain": [
       "'./CNN/model/model_iter-184'"
      ]
     },
     "execution_count": 20,
     "metadata": {},
     "output_type": "execute_result"
    },
    {
     "name": "stdout",
     "output_type": "stream",
     "text": [
      "Step 185: training accuracy 0.0000\n",
      "Step 185: training loss 2.3802\n",
      "Step 185: val accuracy 0.0600\n",
      "Step 185: val loss 2.4153\n"
     ]
    },
    {
     "data": {
      "text/plain": [
       "'./CNN/model/model_iter-185'"
      ]
     },
     "execution_count": 20,
     "metadata": {},
     "output_type": "execute_result"
    },
    {
     "name": "stdout",
     "output_type": "stream",
     "text": [
      "Step 186: training accuracy 0.1000\n",
      "Step 186: training loss 2.2763\n",
      "Step 186: val accuracy 0.0600\n",
      "Step 186: val loss 2.4064\n"
     ]
    },
    {
     "data": {
      "text/plain": [
       "'./CNN/model/model_iter-186'"
      ]
     },
     "execution_count": 20,
     "metadata": {},
     "output_type": "execute_result"
    },
    {
     "name": "stdout",
     "output_type": "stream",
     "text": [
      "Step 187: training accuracy 0.3000\n",
      "Step 187: training loss 2.1966\n",
      "Step 187: val accuracy 0.0600\n",
      "Step 187: val loss 2.4095\n"
     ]
    },
    {
     "data": {
      "text/plain": [
       "'./CNN/model/model_iter-187'"
      ]
     },
     "execution_count": 20,
     "metadata": {},
     "output_type": "execute_result"
    },
    {
     "name": "stdout",
     "output_type": "stream",
     "text": [
      "Step 188: training accuracy 0.2000\n",
      "Step 188: training loss 2.2274\n",
      "Step 188: val accuracy 0.0600\n",
      "Step 188: val loss 2.4166\n"
     ]
    },
    {
     "data": {
      "text/plain": [
       "'./CNN/model/model_iter-188'"
      ]
     },
     "execution_count": 20,
     "metadata": {},
     "output_type": "execute_result"
    },
    {
     "name": "stdout",
     "output_type": "stream",
     "text": [
      "Step 189: training accuracy 0.2000\n",
      "Step 189: training loss 2.2186\n",
      "Step 189: val accuracy 0.0600\n",
      "Step 189: val loss 2.4148\n"
     ]
    },
    {
     "data": {
      "text/plain": [
       "'./CNN/model/model_iter-189'"
      ]
     },
     "execution_count": 20,
     "metadata": {},
     "output_type": "execute_result"
    },
    {
     "name": "stdout",
     "output_type": "stream",
     "text": [
      "Step 190: training accuracy 0.4000\n",
      "Step 190: training loss 2.0432\n",
      "Step 190: val accuracy 0.0600\n",
      "Step 190: val loss 2.4206\n"
     ]
    },
    {
     "data": {
      "text/plain": [
       "'./CNN/model/model_iter-190'"
      ]
     },
     "execution_count": 20,
     "metadata": {},
     "output_type": "execute_result"
    },
    {
     "name": "stdout",
     "output_type": "stream",
     "text": [
      "Step 191: training accuracy 0.2000\n",
      "Step 191: training loss 2.1261\n",
      "Step 191: val accuracy 0.0600\n",
      "Step 191: val loss 2.4267\n"
     ]
    },
    {
     "data": {
      "text/plain": [
       "'./CNN/model/model_iter-191'"
      ]
     },
     "execution_count": 20,
     "metadata": {},
     "output_type": "execute_result"
    },
    {
     "name": "stdout",
     "output_type": "stream",
     "text": [
      "Step 192: training accuracy 0.3000\n",
      "Step 192: training loss 2.1933\n",
      "Step 192: val accuracy 0.0600\n",
      "Step 192: val loss 2.4335\n"
     ]
    },
    {
     "data": {
      "text/plain": [
       "'./CNN/model/model_iter-192'"
      ]
     },
     "execution_count": 20,
     "metadata": {},
     "output_type": "execute_result"
    },
    {
     "name": "stdout",
     "output_type": "stream",
     "text": [
      "Step 193: training accuracy 0.1000\n",
      "Step 193: training loss 2.2037\n",
      "Step 193: val accuracy 0.0600\n",
      "Step 193: val loss 2.4376\n"
     ]
    },
    {
     "data": {
      "text/plain": [
       "'./CNN/model/model_iter-193'"
      ]
     },
     "execution_count": 20,
     "metadata": {},
     "output_type": "execute_result"
    },
    {
     "name": "stdout",
     "output_type": "stream",
     "text": [
      "Step 194: training accuracy 0.1000\n",
      "Step 194: training loss 2.2058\n",
      "Step 194: val accuracy 0.0600\n",
      "Step 194: val loss 2.4325\n"
     ]
    },
    {
     "data": {
      "text/plain": [
       "'./CNN/model/model_iter-194'"
      ]
     },
     "execution_count": 20,
     "metadata": {},
     "output_type": "execute_result"
    },
    {
     "name": "stdout",
     "output_type": "stream",
     "text": [
      "Step 195: training accuracy 0.0000\n",
      "Step 195: training loss 2.3232\n",
      "Step 195: val accuracy 0.0600\n",
      "Step 195: val loss 2.4417\n"
     ]
    },
    {
     "data": {
      "text/plain": [
       "'./CNN/model/model_iter-195'"
      ]
     },
     "execution_count": 20,
     "metadata": {},
     "output_type": "execute_result"
    },
    {
     "name": "stdout",
     "output_type": "stream",
     "text": [
      "Step 196: training accuracy 0.2000\n",
      "Step 196: training loss 2.1993\n",
      "Step 196: val accuracy 0.0600\n",
      "Step 196: val loss 2.4453\n"
     ]
    },
    {
     "data": {
      "text/plain": [
       "'./CNN/model/model_iter-196'"
      ]
     },
     "execution_count": 20,
     "metadata": {},
     "output_type": "execute_result"
    },
    {
     "name": "stdout",
     "output_type": "stream",
     "text": [
      "Step 197: training accuracy 0.2000\n",
      "Step 197: training loss 2.2207\n",
      "Step 197: val accuracy 0.0600\n",
      "Step 197: val loss 2.4621\n"
     ]
    },
    {
     "data": {
      "text/plain": [
       "'./CNN/model/model_iter-197'"
      ]
     },
     "execution_count": 20,
     "metadata": {},
     "output_type": "execute_result"
    },
    {
     "name": "stdout",
     "output_type": "stream",
     "text": [
      "Step 198: training accuracy 0.1000\n",
      "Step 198: training loss 2.3771\n",
      "Step 198: val accuracy 0.0600\n",
      "Step 198: val loss 2.4619\n"
     ]
    },
    {
     "data": {
      "text/plain": [
       "'./CNN/model/model_iter-198'"
      ]
     },
     "execution_count": 20,
     "metadata": {},
     "output_type": "execute_result"
    },
    {
     "name": "stdout",
     "output_type": "stream",
     "text": [
      "Step 199: training accuracy 0.2000\n",
      "Step 199: training loss 2.3941\n",
      "Step 199: val accuracy 0.0600\n",
      "Step 199: val loss 2.4538\n"
     ]
    },
    {
     "data": {
      "text/plain": [
       "'./CNN/model/model_iter-199'"
      ]
     },
     "execution_count": 20,
     "metadata": {},
     "output_type": "execute_result"
    },
    {
     "name": "stdout",
     "output_type": "stream",
     "text": [
      "INFO:tensorflow:No assets to save.\n",
      "INFO:tensorflow:No assets to write.\n",
      "INFO:tensorflow:SavedModel written to: b'./CNN/savedmodel_12_14_15_16\\\\saved_model.pb'\n"
     ]
    },
    {
     "data": {
      "text/plain": [
       "b'./CNN/savedmodel_12_14_15_16\\\\saved_model.pb'"
      ]
     },
     "execution_count": 20,
     "metadata": {},
     "output_type": "execute_result"
    }
   ],
   "source": [
    "builder = tf.saved_model.builder.SavedModelBuilder(export_dir)\n",
    "with tf.Graph().as_default():\n",
    "    global_step = tf.train.get_or_create_global_step()\n",
    "\n",
    "    with tf.device('/cpu:0'):\n",
    "        x = tf.placeholder(tf.float32, shape=[None, 32, 32, num_channels], name='x')\n",
    "        y_true = tf.placeholder(tf.float32, shape=[None, num_classes], name='y_true')\n",
    "\n",
    "        images = pre_process(images=x, training=True)\n",
    "\n",
    "        with tf.name_scope('model'):\n",
    "            logits, pool1_cnn, pool2_cnn = compute_logits_cnn(images)\n",
    "\n",
    "        with tf.name_scope('loss'):\n",
    "            loss = compute_cross_entropy(logits=logits, y=y_true)\n",
    "\n",
    "        with tf.name_scope('accuracy'):\n",
    "            prediction,accuracy = compute_accuracy(logits=logits, y=y_true)\n",
    "\n",
    "        with tf.name_scope('opt'):\n",
    "            opt = tf.train.AdamOptimizer(learning_rate)\n",
    "            train_step = opt.minimize(loss)\n",
    "\n",
    "        with tf.name_scope('summaries'):\n",
    "            tf.summary.scalar('loss', loss)\n",
    "            tf.summary.scalar('accuracy', accuracy)\n",
    "            tf.summary.histogram('logit', logits)\n",
    "            tf.summary.image('input', tf.reshape(images, [-1, img_size_cropped, img_size_cropped, num_channels]))\n",
    "            summary_op = tf.summary.merge_all()\n",
    "\n",
    "        saver = tf.train.Saver()\n",
    "\n",
    "        sess2 = tf.Session()\n",
    "        summary_writer = tf.summary.FileWriter(dir_name, sess2.graph)\n",
    "        summary_writer_train = tf.summary.FileWriter(dir_name+'/train', sess2.graph)\n",
    "        summary_writer_val = tf.summary.FileWriter(dir_name+'/val')\n",
    "\n",
    "        try:\n",
    "            print(\"Trying to restore last checkpoint ...\")\n",
    "\n",
    "            # Use TensorFlow to find the latest checkpoint - if any.\n",
    "            last_chk_path = tf.train.latest_checkpoint(checkpoint_dir='./CNN/model/')\n",
    "\n",
    "            # Try and load the data in the checkpoint.\n",
    "            saver.restore(sess2, save_path=last_chk_path)\n",
    "\n",
    "            # If we get to this point, the checkpoint was successfully loaded.\n",
    "            print(\"Restored checkpoint from:\", last_chk_path)\n",
    "        except:\n",
    "            # If the above failed for some reason, simply\n",
    "            # initialize all the variables for the TensorFlow graph.\n",
    "            print(\"Failed to restore checkpoint. Initializing variables instead.\")\n",
    "            sess2.run(tf.global_variables_initializer())\n",
    "\n",
    "        for i in range(num_iterations):\n",
    "\n",
    "            X_batch, y_batch = random_batch()\n",
    "\n",
    "            _, summary = sess2.run((train_step, summary_op),\n",
    "                                    feed_dict={x: X_batch, y_true: y_batch})\n",
    "\n",
    "            if i%print_unit==0:\n",
    "                summary_writer_train.add_summary(summary, i)\n",
    "\n",
    "                (train_error, train_accuracy, train_logits) = sess2.run((loss, accuracy, logits), {x: X_batch, y_true: y_batch})\n",
    "                print(\"\\rStep {0:3d}: training accuracy {1:0.4f}\".format(i, train_accuracy), flush=True)\n",
    "                print(\"\\rStep {0:3d}: training loss {1:0.4f}\".format(i, train_error), flush=True)\n",
    "\n",
    "                (val_error, val_accuracy, summary) = sess2.run((loss, accuracy,summary_op), {x:images_test, y_true:labels_test})\n",
    "                print(\"\\rStep {0:3d}: val accuracy {1:0.4f}\".format(i, val_accuracy), flush=True)\n",
    "                print(\"\\rStep {0:3d}: val loss {1:0.4f}\".format(i, val_error), flush=True)\n",
    "                summary_writer_val.add_summary(summary, i)\n",
    "                saver.save(sess2, './CNN/model/model_iter', global_step=i)\n",
    "\n",
    "        save_path = saver.save(sess2, \"./CNN/model/final_model.ckpt\")\n",
    "        builder.add_meta_graph_and_variables(sess2, [\"foo-tag\"])\n",
    "\n",
    "builder.save()"
   ]
  },
  {
   "cell_type": "markdown",
   "metadata": {},
   "source": [
    "## 4. Evaluate the CNN Graph"
   ]
  },
  {
   "cell_type": "code",
   "execution_count": 21,
   "metadata": {},
   "outputs": [
    {
     "data": {
      "text/plain": [
       "(<tf.Tensor 'model/pool1:0' shape=(?, 12, 12, 64) dtype=float32>,\n",
       " <tf.Tensor 'model/pool1_1:0' shape=(?, 6, 6, 64) dtype=float32>)"
      ]
     },
     "execution_count": 21,
     "metadata": {},
     "output_type": "execute_result"
    }
   ],
   "source": [
    "pool1_cnn, pool2_cnn "
   ]
  },
  {
   "cell_type": "code",
   "execution_count": 22,
   "metadata": {},
   "outputs": [
    {
     "data": {
      "image/png": "[encoded data removed]",
      "text/plain": [
       "<matplotlib.figure.Figure at 0x2468568ffd0>"
      ]
     },
     "metadata": {},
     "output_type": "display_data"
    }
   ],
   "source": [
    "getActivations(sess2,pool1_cnn,images_test)"
   ]
  },
  {
   "cell_type": "code",
   "execution_count": 23,
   "metadata": {},
   "outputs": [
    {
     "name": "stdout",
     "output_type": "stream",
     "text": [
      "Confusion Matrix as numbers:\n",
      "[ 0 10  0  0  0  0  0  0  0  0] (0) airplane\n",
      "[0 6 0 0 0 0 0 0 0 0] (1) automobile\n",
      "[0 8 0 0 0 0 0 0 0 0] (2) bird\n",
      "[ 0 10  0  0  0  0  0  0  0  0] (3) cat\n",
      "[0 7 0 0 0 0 0 0 0 0] (4) deer\n",
      "[0 8 0 0 0 0 0 0 0 0] (5) dog\n",
      "[ 0 16  0  0  0  0  0  0  0  0] (6) frog\n",
      "[ 0 11  0  0  0  0  0  0  0  0] (7) horse\n",
      "[ 0 13  0  0  0  0  0  0  0  0] (8) ship\n",
      "[ 0 11  0  0  0  0  0  0  0  0] (9) truck\n",
      "Plot Confusion Matrix:\n"
     ]
    },
    {
     "data": {
      "image/png": "[encoded data removed]",
      "text/plain": [
       "<matplotlib.figure.Figure at 0x24686962208>"
      ]
     },
     "metadata": {},
     "output_type": "display_data"
    }
   ],
   "source": [
    "Test_Anlaysis(sess2,images_test, labels_test, cls_test[0:100])"
   ]
  },
  {
   "cell_type": "markdown",
   "metadata": {},
   "source": [
    "## 5. Train the NIN Graph"
   ]
  },
  {
   "cell_type": "code",
   "execution_count": 26,
   "metadata": {},
   "outputs": [],
   "source": [
    "now = datetime.now()\n",
    "\n",
    "#dir_name = 'log_{0}_{1}'.format(now.month,now.day)\n",
    "dir_name = './NIN/log_{0}_{1}'.format(now.month,now.day)\n",
    "export_dir = './NIN/savedmodel_{0}_{1}_{2}_{3}'.format(now.month,now.day,now.hour,now.second)\n",
    "\n",
    "img_size_cropped = 24\n",
    "batch_size = 10\n",
    "num_iterations = 100\n",
    "print_unit = 100\n",
    "opt_method = 'adam'"
   ]
  },
  {
   "cell_type": "code",
   "execution_count": 27,
   "metadata": {},
   "outputs": [
    {
     "name": "stdout",
     "output_type": "stream",
     "text": [
      "conv1: (?, 24, 24, 192) cccp1: (?, 24, 24, 160) cccp2: (?, 24, 24, 96) pool1: (?, 12, 12, 96) conv2: (?, 12, 12, 192) pool2: (?, 6, 6, 192) conv3: (?, 6, 6, 192) cccp5: (?, 6, 6, 192)\n"
     ]
    },
    {
     "data": {
      "text/plain": [
       "<tf.Tensor 'summaries/loss:0' shape=() dtype=string>"
      ]
     },
     "execution_count": 27,
     "metadata": {},
     "output_type": "execute_result"
    },
    {
     "data": {
      "text/plain": [
       "<tf.Tensor 'summaries/accuracy:0' shape=() dtype=string>"
      ]
     },
     "execution_count": 27,
     "metadata": {},
     "output_type": "execute_result"
    },
    {
     "data": {
      "text/plain": [
       "<tf.Tensor 'summaries/logits:0' shape=() dtype=string>"
      ]
     },
     "execution_count": 27,
     "metadata": {},
     "output_type": "execute_result"
    },
    {
     "data": {
      "text/plain": [
       "<tf.Tensor 'summaries/input:0' shape=() dtype=string>"
      ]
     },
     "execution_count": 27,
     "metadata": {},
     "output_type": "execute_result"
    },
    {
     "name": "stdout",
     "output_type": "stream",
     "text": [
      "Step   0: training accuracy 0.1000\n",
      "Step   0: val accuracy 0.1000\n"
     ]
    },
    {
     "data": {
      "text/plain": [
       "'./model/model_iter-0'"
      ]
     },
     "execution_count": 27,
     "metadata": {},
     "output_type": "execute_result"
    },
    {
     "name": "stdout",
     "output_type": "stream",
     "text": [
      "INFO:tensorflow:No assets to save.\n",
      "INFO:tensorflow:No assets to write.\n",
      "INFO:tensorflow:SavedModel written to: b'./NIN/savedmodel_12_14_14_29\\\\saved_model.pb'\n"
     ]
    },
    {
     "data": {
      "text/plain": [
       "b'./NIN/savedmodel_12_14_14_29\\\\saved_model.pb'"
      ]
     },
     "execution_count": 27,
     "metadata": {},
     "output_type": "execute_result"
    }
   ],
   "source": [
    "builder = tf.saved_model.builder.SavedModelBuilder(export_dir)\n",
    "reset_default_graph()\n",
    "with tf.Graph().as_default():\n",
    "    \n",
    "    global_step = tf.train.get_or_create_global_step()\n",
    "\n",
    "    # Get images and labels for CIFAR-10.\n",
    "    # Force input pipeline to CPU:0 to avoid operations sometimes ending up on\n",
    "    # GPU and resulting in a slow down.\n",
    "    \n",
    "    with tf.device('/cpu:0'):\n",
    "        # We build the model here as before\n",
    "        x= tf.placeholder(tf.float32, shape=[None,32,32, num_channels], name='x')\n",
    "        y_true = tf.placeholder(tf.float32, shape=[None, num_classes], name='y_true')\n",
    "        \n",
    "        images = pre_process(images=x, training=True)\n",
    "        \n",
    "        with tf.name_scope('model'):\n",
    "            logits,conv1,cccp1,cccp2,pool1,conv2,pool2,cccp3,cccp4,conv3,cccp5,cccp6,pool3 = compute_logits_NIN(images)\n",
    "\n",
    "            print('conv1:',conv1.shape,\n",
    "                  'cccp1:',cccp1.shape,\n",
    "                  'cccp2:',cccp2.shape,\n",
    "                  'pool1:',pool1.shape,\n",
    "                  'conv2:',conv2.shape,\n",
    "                  'pool2:',pool2.shape,\n",
    "                  'conv3:',conv3.shape,\n",
    "                  'cccp5:',cccp5.shape)\n",
    "            \n",
    "        with tf.name_scope('loss'):\n",
    "            loss = compute_cross_entropy(logits=logits, y=y_true)\n",
    "        with tf.name_scope('accuracy'):\n",
    "            prediction,accuracy = compute_accuracy(logits=logits, y=y_true)\n",
    "            \n",
    "        \n",
    "        with tf.name_scope('opt'):   \n",
    "            if opt_method == 'sgd':\n",
    "                opt = tf.train.GradientDescentOptimizer(0.5)\n",
    "            elif opt_method == 'rms':\n",
    "                opt = tf.train.RMSPropOptimizer(.001)\n",
    "            elif opt_method == 'adam':\n",
    "                opt = tf.train.AdamOptimizer(1e-4)\n",
    "            train_step = opt.minimize(loss)\n",
    "                \n",
    "        with tf.name_scope('summaries'):\n",
    "            # create summary for loss and accuracy\n",
    "            tf.summary.scalar('loss', loss) \n",
    "            tf.summary.scalar('accuracy', accuracy)\n",
    "            # create summary for logits\n",
    "            tf.summary.histogram('logits', logits)\n",
    "            # create summary for input image\n",
    "            tf.summary.image('input', tf.reshape(images, [-1,img_size_cropped,img_size_cropped, num_channels]))\n",
    "            summary_op = tf.summary.merge_all()\n",
    "    \n",
    "        saver = tf.train.Saver()    ##Save the model\n",
    "        \n",
    "        sess = tf.Session()\n",
    "    \n",
    "        summary_writer = tf.summary.FileWriter(dir_name, sess.graph)\n",
    "        summary_writer_train = tf.summary.FileWriter(dir_name+'/train', sess.graph)\n",
    "        summary_writer_val = tf.summary.FileWriter(dir_name+'/val')\n",
    "    \n",
    "        try:\n",
    "            print(\"Trying to restore last checkpoint ...\")\n",
    "\n",
    "            # Use TensorFlow to find the latest checkpoint - if any.\n",
    "            last_chk_path = tf.train.latest_checkpoint(checkpoint_dir='./NIN/model/')\n",
    "\n",
    "            # Try and load the data in the checkpoint.\n",
    "            saver.restore(sess, save_path=last_chk_path)\n",
    "\n",
    "            # If we get to this point, the checkpoint was successfully loaded.\n",
    "            print(\"Restored checkpoint from:\", last_chk_path)\n",
    "            \n",
    "        except:\n",
    "            # If the above failed for some reason, simply\n",
    "            # initialize all the variables for the TensorFlow graph.\n",
    "            print(\"Failed to restore checkpoint. Initializing variables instead.\")\n",
    "            sess.run(tf.global_variables_initializer())\n",
    "    \n",
    "        for i in range(num_iterations):\n",
    "            X_batch, y_batch = random_batch()\n",
    "            \n",
    "            # now run\n",
    "            _ , summary = sess.run((train_step, summary_op),\n",
    "                                      feed_dict={x: X_batch, y_true: y_batch})\n",
    "            \n",
    "                \n",
    "                # write the summary output to file\n",
    "            if i%print_unit==0:\n",
    "                \n",
    "                summary_writer_train.add_summary(summary, i)                    \n",
    "                (train_error,train_logits) = sess.run((accuracy,logits), {x: X_batch, y_true: y_batch})\n",
    "                print(\"\\rStep {0:3d}: training accuracy {1:0.4f}\".forat(i, train_error), flush=True)\n",
    "                \n",
    "                X_batch2 = images_test\n",
    "                y_batch2 = labels_test\n",
    "                (val_error, summary) = sess.run((accuracy,summary_op), {x:X_batch2, y_true:y_batch2})\n",
    "                print(\"\\rStep {0:3d}: val accuracy {1:0.4f}\".format(i, val_error), flush=True)\n",
    "                \n",
    "                summary_writer_val.add_summary(summary, i)\n",
    "                saver.save(sess, './NIN/model/model_iter', global_step=i)\n",
    "                \n",
    "        # Save the final model\n",
    "        save_path = saver.save(sess, \"./NIN/model/model.ckpt\")\n",
    "        builder.add_meta_graph_and_variables(sess,[\"foo-tag\"])\n",
    "builder.save()"
   ]
  },
  {
   "cell_type": "markdown",
   "metadata": {},
   "source": [
    "## 6. Evaluate the CNN Graph"
   ]
  },
  {
   "cell_type": "markdown",
   "metadata": {},
   "source": [
    "### 1. Show the shape of different layers"
   ]
  },
  {
   "cell_type": "code",
   "execution_count": 28,
   "metadata": {},
   "outputs": [
    {
     "data": {
      "text/plain": [
       "(<tf.Tensor 'model/Relu:0' shape=(?, 24, 24, 192) dtype=float32>,\n",
       " <tf.Tensor 'model/Relu_1:0' shape=(?, 24, 24, 160) dtype=float32>,\n",
       " <tf.Tensor 'model/Relu_2:0' shape=(?, 24, 24, 96) dtype=float32>,\n",
       " <tf.Tensor 'model/MaxPool:0' shape=(?, 12, 12, 96) dtype=float32>,\n",
       " <tf.Tensor 'model/Relu_3:0' shape=(?, 12, 12, 192) dtype=float32>,\n",
       " <tf.Tensor 'model/AvgPool:0' shape=(?, 6, 6, 192) dtype=float32>,\n",
       " <tf.Tensor 'model/Relu_4:0' shape=(?, 12, 12, 192) dtype=float32>,\n",
       " <tf.Tensor 'model/Relu_5:0' shape=(?, 12, 12, 192) dtype=float32>,\n",
       " <tf.Tensor 'model/Relu_6:0' shape=(?, 6, 6, 192) dtype=float32>,\n",
       " <tf.Tensor 'model/Relu_7:0' shape=(?, 6, 6, 192) dtype=float32>,\n",
       " <tf.Tensor 'model/Relu_8:0' shape=(?, 6, 6, 10) dtype=float32>,\n",
       " <tf.Tensor 'model/AvgPool_1:0' shape=(?, 1, 1, 10) dtype=float32>)"
      ]
     },
     "execution_count": 28,
     "metadata": {},
     "output_type": "execute_result"
    }
   ],
   "source": [
    "conv1,cccp1,cccp2,pool1,conv2,pool2,cccp3,cccp4,conv3,cccp5,cccp6,pool3"
   ]
  },
  {
   "cell_type": "markdown",
   "metadata": {},
   "source": [
    "### 2. Visualize the Conv Layers"
   ]
  },
  {
   "cell_type": "code",
   "execution_count": 29,
   "metadata": {},
   "outputs": [
    {
     "data": {
      "image/png": "[encoded data removed]",
      "text/plain": [
       "<matplotlib.figure.Figure at 0x28a54c625c0>"
      ]
     },
     "metadata": {},
     "output_type": "display_data"
    }
   ],
   "source": [
    "getActivations(sess,pool1,images_test)"
   ]
  },
  {
   "cell_type": "code",
   "execution_count": 30,
   "metadata": {},
   "outputs": [
    {
     "data": {
      "image/png": "[encoded data removed]",
      "text/plain": [
       "<matplotlib.figure.Figure at 0x28a0494dd68>"
      ]
     },
     "metadata": {},
     "output_type": "display_data"
    }
   ],
   "source": [
    "getActivations(sess,pool2,images_test)"
   ]
  },
  {
   "cell_type": "markdown",
   "metadata": {},
   "source": [
    "### 3. Plot the confusion Matrix"
   ]
  },
  {
   "cell_type": "code",
   "execution_count": 65,
   "metadata": {},
   "outputs": [
    {
     "name": "stdout",
     "output_type": "stream",
     "text": [
      "Confusion Matrix as numbers:\n",
      "[ 0 10  0  0  0  0  0  0  0  0] (0) airplane\n",
      "[0 6 0 0 0 0 0 0 0 0] (1) automobile\n",
      "[0 8 0 0 0 0 0 0 0 0] (2) bird\n",
      "[ 0 10  0  0  0  0  0  0  0  0] (3) cat\n",
      "[0 7 0 0 0 0 0 0 0 0] (4) deer\n",
      "[0 8 0 0 0 0 0 0 0 0] (5) dog\n",
      "[ 0 16  0  0  0  0  0  0  0  0] (6) frog\n",
      "[ 0 11  0  0  0  0  0  0  0  0] (7) horse\n",
      "[ 0 13  0  0  0  0  0  0  0  0] (8) ship\n",
      "[ 0 11  0  0  0  0  0  0  0  0] (9) truck\n",
      "Plot Confusion Matrix:\n"
     ]
    },
    {
     "data": {
      "image/png": "[encoded data removed]",
      "text/plain": [
       "<matplotlib.figure.Figure at 0x28a09a81940>"
      ]
     },
     "metadata": {},
     "output_type": "display_data"
    }
   ],
   "source": [
    "Test_Anlaysis(sess,images_test, labels_test, cls_test[0:100])"
   ]
  },
  {
   "cell_type": "code",
   "execution_count": null,
   "metadata": {},
   "outputs": [],
   "source": []
  }
 ],
 "metadata": {
  "kernelspec": {
   "display_name": "Python 3",
   "language": "python",
   "name": "python3"
  },
  "language_info": {
   "codemirror_mode": {
    "name": "ipython",
    "version": 3
   },
   "file_extension": ".py",
   "mimetype": "text/x-python",
   "name": "python",
   "nbconvert_exporter": "python",
   "pygments_lexer": "ipython3",
   "version": "3.6.2"
  }
 },
 "nbformat": 4,
 "nbformat_minor": 2
}
