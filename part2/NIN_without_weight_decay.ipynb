{
 "cells": [
  {
   "cell_type": "code",
   "execution_count": 1,
   "metadata": {},
   "outputs": [],
   "source": [
    "%matplotlib inline\n",
    "import matplotlib.pyplot as plt\n",
    "import tensorflow as tf\n",
    "import numpy as np\n",
    "from sklearn.metrics import confusion_matrix\n",
    "import time\n",
    "from datetime import timedelta\n",
    "import math\n",
    "import os \n",
    "from datetime import datetime\n",
    "\n",
    "# show all the output \n",
    "from IPython.core.interactiveshell import InteractiveShell\n",
    "InteractiveShell.ast_node_interactivity = \"all\""
   ]
  },
  {
   "cell_type": "markdown",
   "metadata": {},
   "source": [
    "## Step1: Define Help Functions:"
   ]
  },
  {
   "cell_type": "markdown",
   "metadata": {},
   "source": [
    "### 1. Help Fucntions for Downloading and Importing Data"
   ]
  },
  {
   "cell_type": "code",
   "execution_count": 2,
   "metadata": {},
   "outputs": [],
   "source": [
    "# %load ./cifar10.py\n",
    "########################################################################\n",
    "#\n",
    "# Functions for downloading the CIFAR-10 data-set from the internet\n",
    "# and loading it into memory.\n",
    "#\n",
    "# Implemented in Python 3.5\n",
    "#\n",
    "# Usage:\n",
    "# 1) Set the variable data_path with the desired storage path.\n",
    "# 2) Call maybe_download_and_extract() to download the data-set\n",
    "#    if it is not already located in the given data_path.\n",
    "# 3) Call load_class_names() to get an array of the class-names.\n",
    "# 4) Call load_training_data() and load_test_data() to get\n",
    "#    the images, class-numbers and one-hot encoded class-labels\n",
    "#    for the training-set and test-set.\n",
    "# 5) Use the returned data in your own program.\n",
    "#\n",
    "# Format:\n",
    "# The images for the training- and test-sets are returned as 4-dim numpy\n",
    "# arrays each with the shape: [image_number, height, width, channel]\n",
    "# where the individual pixels are floats between 0.0 and 1.0.\n",
    "#\n",
    "########################################################################\n",
    "#\n",
    "# This file is part of the TensorFlow Tutorials available at:\n",
    "#\n",
    "# https://github.com/Hvass-Labs/TensorFlow-Tutorials\n",
    "#\n",
    "# Published under the MIT License. See the file LICENSE for details.\n",
    "#\n",
    "# Copyright 2016 by Magnus Erik Hvass Pedersen\n",
    "#\n",
    "########################################################################\n",
    "\n",
    "import numpy as np\n",
    "import pickle\n",
    "import os\n",
    "import urllib.request\n",
    "import tarfile\n",
    "import zipfile\n",
    "\n",
    "########################################################################\n",
    "\n",
    "# Directory where you want to download and save the data-set.\n",
    "# Set this before you start calling any of the functions below.\n",
    "data_path = \"data/CIFAR-10/\"\n",
    "\n",
    "# URL for the data-set on the internet.\n",
    "data_url = \"https://www.cs.toronto.edu/~kriz/cifar-10-python.tar.gz\"\n",
    "\n",
    "########################################################################\n",
    "# Various constants for the size of the images.\n",
    "# Use these constants in your own program.\n",
    "\n",
    "# Width and height of each image.\n",
    "img_size = 32\n",
    "\n",
    "# Number of channels in each image, 3 channels: Red, Green, Blue.\n",
    "num_channels = 3\n",
    "\n",
    "# Length of an image when flattened to a 1-dim array.\n",
    "img_size_flat = img_size * img_size * num_channels\n",
    "\n",
    "# Number of classes.\n",
    "num_classes = 10\n",
    "\n",
    "########################################################################\n",
    "# Various constants used to allocate arrays of the correct size.\n",
    "\n",
    "# Number of files for the training-set.\n",
    "_num_files_train = 5\n",
    "\n",
    "# Number of images for each batch-file in the training-set.\n",
    "_images_per_file = 10000\n",
    "\n",
    "# Total number of images in the training-set.\n",
    "# This is used to pre-allocate arrays for efficiency.\n",
    "_num_images_train = _num_files_train * _images_per_file\n",
    "\n",
    "########################################################################\n",
    "# Private functions for downloading, unpacking and loading data-files.\n",
    "\n",
    "\n",
    "def _get_file_path(filename=\"\"):\n",
    "    \"\"\"\n",
    "    Return the full path of a data-file for the data-set.\n",
    "    If filename==\"\" then return the directory of the files.\n",
    "    \"\"\"\n",
    "\n",
    "    return os.path.join(data_path, \"cifar-10-batches-py/\", filename)\n",
    "\n",
    "\n",
    "def _unpickle(filename):\n",
    "    \"\"\"\n",
    "    Unpickle the given file and return the data.\n",
    "    Note that the appropriate dir-name is prepended the filename.\n",
    "    \"\"\"\n",
    "\n",
    "    # Create full path for the file.\n",
    "    file_path = _get_file_path(filename)\n",
    "\n",
    "    print(\"Loading data: \" + file_path)\n",
    "\n",
    "    with open(file_path, mode='rb') as file:\n",
    "        # In Python 3.X it is important to set the encoding,\n",
    "        # otherwise an exception is raised here.\n",
    "        data = pickle.load(file, encoding='bytes')\n",
    "\n",
    "    return data\n",
    "\n",
    "def ZCAtrans(raw):\n",
    "    xm = np.mean(raw, axis = 0)\n",
    "    raw= raw- xm\n",
    "    raw2 = raw.reshape((raw.shape[0], -1))\n",
    "    # raw is assumed to be zero-mean\n",
    "    C = np.dot( raw2.T, raw2 )/raw2.shape[0]\n",
    "    U, eva, V = np.linalg.svd(C)  # U[:, i] is the i-th eigenvector\n",
    "    sqeva = np.sqrt(eva + 0.001)\n",
    "    Uzca = np.dot(U/sqeva[np.newaxis, :], U.T)\n",
    "    X = np.dot(raw2, Uzca)\n",
    "    return X\n",
    "\n",
    "def _convert_images(raw):\n",
    "    \"\"\"\n",
    "    Convert images from the CIFAR-10 format and\n",
    "    return a 4-dim array with shape: [image_number, height, width, channel]\n",
    "    where the pixels are floats between 0.0 and 1.0.\n",
    "    \"\"\"\n",
    "\n",
    "    # Convert the raw images from the data-files to floating-points.\n",
    "    raw_float = np.array(raw, dtype=float) / 255.0\n",
    "    raw_float = ZCAtrans(raw_float)\n",
    "\n",
    "    # Reshape the array to 4-dimensions.\n",
    "    images = raw_float.reshape([-1, num_channels, img_size, img_size])\n",
    "\n",
    "    # Reorder the indices of the array.\n",
    "    images = images.transpose([0, 2, 3, 1])\n",
    "    \n",
    "    # normailze each image\n",
    "    for i in range(images.shape[0]):\n",
    "        m,M = images[i].min(), images[i].max()\n",
    "        images[i]=(images[i] - m) / (M - m)\n",
    "\n",
    "    return images\n",
    "\n",
    "\n",
    "def _load_data(filename):\n",
    "    \"\"\"\n",
    "    Load a pickled data-file from the CIFAR-10 data-set\n",
    "    and return the converted images (see above) and the class-number\n",
    "    for each image.\n",
    "    \"\"\"\n",
    "\n",
    "    # Load the pickled data-file.\n",
    "    data = _unpickle(filename)\n",
    "\n",
    "    # Get the raw images.\n",
    "    raw_images = data[b'data']\n",
    "\n",
    "    # Get the class-numbers for each image. Convert to numpy-array.\n",
    "    cls = np.array(data[b'labels'])\n",
    "\n",
    "    # Convert the images.\n",
    "    images = _convert_images(raw_images)\n",
    "\n",
    "    return images, cls\n",
    "\n",
    "\n",
    "########################################################################\n",
    "# Public functions that you may call to download the data-set from\n",
    "# the internet and load the data into memory.\n",
    "\n",
    "\n",
    "def maybe_download_and_extract(url, download_dir):\n",
    "    \"\"\"\n",
    "    Download and extract the data if it doesn't already exist.\n",
    "    Assumes the url is a tar-ball file.\n",
    "\n",
    "    :param url:\n",
    "        Internet URL for the tar-file to download.\n",
    "        Example: \"https://www.cs.toronto.edu/~kriz/cifar-10-python.tar.gz\"\n",
    "\n",
    "    :param download_dir:\n",
    "        Directory where the downloaded file is saved.\n",
    "        Example: \"data/CIFAR-10/\"\n",
    "\n",
    "    :return:\n",
    "        Nothing.\n",
    "    \"\"\"\n",
    "\n",
    "    # Filename for saving the file downloaded from the internet.\n",
    "    # Use the filename from the URL and add it to the download_dir.\n",
    "    filename = url.split('/')[-1]\n",
    "    file_path = os.path.join(download_dir, filename)\n",
    "\n",
    "    # Check if the file already exists.\n",
    "    # If it exists then we assume it has also been extracted,\n",
    "    # otherwise we need to download and extract it now.\n",
    "    if not os.path.exists(file_path):\n",
    "        # Check if the download directory exists, otherwise create it.\n",
    "        if not os.path.exists(download_dir):\n",
    "            os.makedirs(download_dir)\n",
    "\n",
    "        # Download the file from the internet.\n",
    "        file_path, _ = urllib.request.urlretrieve(url=url,\n",
    "                                                  filename=file_path,\n",
    "                                                  reporthook=_print_download_progress)\n",
    "\n",
    "        print()\n",
    "        print(\"Download finished. Extracting files.\")\n",
    "\n",
    "        if file_path.endswith(\".zip\"):\n",
    "            # Unpack the zip-file.\n",
    "            zipfile.ZipFile(file=file_path, mode=\"r\").extractall(download_dir)\n",
    "        elif file_path.endswith((\".tar.gz\", \".tgz\")):\n",
    "            # Unpack the tar-ball.\n",
    "            tarfile.open(name=file_path, mode=\"r:gz\").extractall(download_dir)\n",
    "\n",
    "        print(\"Done.\")\n",
    "    else:\n",
    "        print(\"Data has apparently already been downloaded and unpacked.\")\n",
    "\n",
    "\n",
    "\n",
    "def load_class_names():\n",
    "    \"\"\"\n",
    "    Load the names for the classes in the CIFAR-10 data-set.\n",
    "    Returns a list with the names. Example: names[3] is the name\n",
    "    associated with class-number 3.\n",
    "    \"\"\"\n",
    "\n",
    "    # Load the class-names from the pickled file.\n",
    "    raw = _unpickle(filename=\"batches.meta\")[b'label_names']\n",
    "\n",
    "    # Convert from binary strings.\n",
    "    names = [x.decode('utf-8') for x in raw]\n",
    "\n",
    "    return names\n",
    "\n",
    "def one_hot_encoded(class_numbers, num_classes=None):\n",
    "    \"\"\"\n",
    "    Generate the One-Hot encoded class-labels from an array of integers.\n",
    "    For example, if class_number=2 and num_classes=4 then\n",
    "    the one-hot encoded label is the float array: [0. 0. 1. 0.]\n",
    "    :param class_numbers:\n",
    "        Array of integers with class-numbers.\n",
    "        Assume the integers are from zero to num_classes-1 inclusive.\n",
    "    :param num_classes:\n",
    "        Number of classes. If None then use max(class_numbers)+1.\n",
    "    :return:\n",
    "        2-dim array of shape: [len(class_numbers), num_classes]\n",
    "    \"\"\"\n",
    "\n",
    "    # Find the number of classes if None is provided.\n",
    "    # Assumes the lowest class-number is zero.\n",
    "    if num_classes is None:\n",
    "        num_classes = np.max(class_numbers) + 1\n",
    "\n",
    "    return np.eye(num_classes, dtype=float)[class_numbers]\n",
    "\n",
    "def load_training_data():\n",
    "    \"\"\"\n",
    "    Load all the training-data for the CIFAR-10 data-set.\n",
    "    The data-set is split into 5 data-files which are merged here.\n",
    "    Returns the images, class-numbers and one-hot encoded class-labels.\n",
    "    \"\"\"\n",
    "\n",
    "    # Pre-allocate the arrays for the images and class-numbers for efficiency.\n",
    "    images = np.zeros(shape=[_num_images_train, img_size, img_size, num_channels], dtype=float)\n",
    "    cls = np.zeros(shape=[_num_images_train], dtype=int)\n",
    "\n",
    "    # Begin-index for the current batch.\n",
    "    begin = 0\n",
    "\n",
    "    # For each data-file.\n",
    "    for i in range(_num_files_train):\n",
    "        # Load the images and class-numbers from the data-file.\n",
    "        images_batch, cls_batch = _load_data(filename=\"data_batch_\" + str(i + 1))\n",
    "\n",
    "        # Number of images in this batch.\n",
    "        num_images = len(images_batch)\n",
    "\n",
    "        # End-index for the current batch.\n",
    "        end = begin + num_images\n",
    "\n",
    "        # Store the images into the array.\n",
    "        images[begin:end, :] = images_batch\n",
    "\n",
    "        # Store the class-numbers into the array.\n",
    "        cls[begin:end] = cls_batch\n",
    "\n",
    "        # The begin-index for the next batch is the current end-index.\n",
    "        begin = end\n",
    "\n",
    "    return images, cls, one_hot_encoded(class_numbers=cls, num_classes=num_classes)\n",
    "\n",
    "\n",
    "def load_test_data():\n",
    "    \"\"\"\n",
    "    Load all the test-data for the CIFAR-10 data-set.\n",
    "    Returns the images, class-numbers and one-hot encoded class-labels.\n",
    "    \"\"\"\n",
    "\n",
    "    images, cls = _load_data(filename=\"test_batch\")\n",
    "\n",
    "    return images, cls, one_hot_encoded(class_numbers=cls, num_classes=num_classes)\n",
    "\n",
    "########################################################################\n",
    "## The following is for loading testing data to show the original images\n",
    "#######################################################################\n",
    "\n",
    "def _convert_images_for_print(raw):\n",
    "    \"\"\"\n",
    "    Convert images from the CIFAR-10 format and\n",
    "    return a 4-dim array with shape: [image_number, height, width, channel]\n",
    "    where the pixels are floats between 0.0 and 1.0.\n",
    "    \"\"\"\n",
    "\n",
    "    # Convert the raw images from the data-files to floating-points.\n",
    "    raw_float = np.array(raw, dtype=float) / 255.0\n",
    "\n",
    "    # Reshape the array to 4-dimensions.\n",
    "    images = raw_float.reshape([-1, num_channels, img_size, img_size])\n",
    "\n",
    "    # Reorder the indices of the array.\n",
    "    images = images.transpose([0, 2, 3, 1])\n",
    "\n",
    "    return images\n",
    "\n",
    "\n",
    "def _load_data_for_print(filename):\n",
    "    \"\"\"\n",
    "    Load a pickled data-file from the CIFAR-10 data-set\n",
    "    and return the converted images (see above) and the class-number\n",
    "    for each image.\n",
    "    \"\"\"\n",
    "\n",
    "    # Load the pickled data-file.\n",
    "    data = _unpickle(filename)\n",
    "\n",
    "    # Get the raw images.\n",
    "    raw_images = data[b'data']\n",
    "\n",
    "    # Get the class-numbers for each image. Convert to numpy-array.\n",
    "    cls = np.array(data[b'labels'])\n",
    "\n",
    "    # Convert the images.\n",
    "    images = _convert_images_for_print(raw_images)\n",
    "\n",
    "    return images, cls\n",
    "\n",
    "def load_test_data_for_print():\n",
    "    \"\"\"\n",
    "    Load all the test-data for the CIFAR-10 data-set.\n",
    "\n",
    "    Returns the images, class-numbers and one-hot encoded class-labels.\n",
    "    \"\"\"\n",
    "\n",
    "    images, cls = _load_data_for_print(filename=\"test_batch\")\n",
    "\n",
    "    return images, cls, one_hot_encoded(class_numbers=cls, num_classes=num_classes)\n"
   ]
  },
  {
   "cell_type": "markdown",
   "metadata": {},
   "source": [
    "### 2. Help Fucntions for Data Augmentation"
   ]
  },
  {
   "cell_type": "code",
   "execution_count": 3,
   "metadata": {},
   "outputs": [],
   "source": [
    "# %load ./Augmentation.py\n",
    "########################################################################\n",
    "## The function is for data Augmentation:\n",
    "########################################################################\n",
    "def pre_process_image(image, training):\n",
    "    # This function takes a single image as input,\n",
    "    # and a boolean whether to build the training or testing graph.\n",
    "    \n",
    "    if training:\n",
    "        # For training, add the following to the TensorFlow graph.\n",
    "\n",
    "        # Randomly crop the input image.\n",
    "        image = tf.random_crop(image, size=[img_size_cropped, img_size_cropped, num_channels])\n",
    "\n",
    "        # Randomly flip the image horizontally.\n",
    "        image = tf.image.random_flip_left_right(image)\n",
    "        \n",
    "        # Randomly adjust hue, contrast and saturation.\n",
    "        image = tf.image.random_hue(image, max_delta=0.05)\n",
    "        image = tf.image.random_contrast(image, lower=0.3, upper=1.0)\n",
    "        image = tf.image.random_brightness(image, max_delta=0.2)\n",
    "        image = tf.image.random_saturation(image, lower=0.0, upper=2.0)\n",
    "\n",
    "        # Some of these functions may overflow and result in pixel\n",
    "        # values beyond the [0, 1] range. It is unclear from the\n",
    "        # documentation of TensorFlow 0.10.0rc0 whether this is\n",
    "        # intended. A simple solution is to limit the range.\n",
    "\n",
    "        # Limit the image pixels between [0, 1] in case of overflow.\n",
    "        image = tf.minimum(image, 1.0)\n",
    "        image = tf.maximum(image, 0.0)\n",
    "    else:\n",
    "        # For training, add the following to the TensorFlow graph.\n",
    "\n",
    "        # Crop the input image around the centre so it is the same\n",
    "        # size as images that are randomly cropped during training.\n",
    "        image = tf.image.resize_image_with_crop_or_pad(image,\n",
    "                                                       target_height=img_size_cropped,\n",
    "                                                       target_width=img_size_cropped)\n",
    "\n",
    "    return image\n",
    "\n",
    "##########################################################\n",
    "## The function is for apply preprocessiong for all images:\n",
    "##########################################################\n",
    "def pre_process(images, training):\n",
    "    # Use TensorFlow to loop over all the input images and call\n",
    "    # the function above which takes a single image as input.\n",
    "    images = tf.map_fn(lambda image: pre_process_image(image, training), images)\n",
    "\n",
    "    return images"
   ]
  },
  {
   "cell_type": "markdown",
   "metadata": {},
   "source": [
    "### 3. Help Function for Bulding CNN"
   ]
  },
  {
   "cell_type": "code",
   "execution_count": 24,
   "metadata": {},
   "outputs": [],
   "source": [
    "# %load ./CNN.py\n",
    "#######################################################\n",
    "# The function is for compute the cross entropy\n",
    "#######################################################\n",
    "def compute_cross_entropy(logits, y):\n",
    "    sm_ce = tf.nn.softmax_cross_entropy_with_logits(labels=y,logits=logits, name='cross_ent_terms')\n",
    "    cross_ent = tf.reduce_mean(sm_ce, name='cross_ent')\n",
    "    return cross_ent\n",
    "\n",
    "\n",
    "#######################################################\n",
    "# The function is for compute the cross entropy\n",
    "#######################################################\n",
    "def compute_accuracy(logits, y):\n",
    "    prediction = tf.argmax(logits, 1, name='pred_class')\n",
    "    true_label = tf.argmax(y, 1, name='true_class')\n",
    "    accuracy = tf.reduce_mean(tf.cast(tf.equal(prediction, true_label), tf.float32))\n",
    "    return accuracy\n",
    "\n",
    "#######################################################\n",
    "# The function is for geting random batch for training the network\n",
    "#######################################################\n",
    "def random_batch():\n",
    "    # Number of images in the training-set.\n",
    "    num_images = len(images_train)\n",
    "    \n",
    "    # Create a random index.\n",
    "    idx = np.random.choice(num_images,\n",
    "                           size=batch_size,\n",
    "                           replace=False)\n",
    "\n",
    "    # Use the random index to select random images and labels.\n",
    "    x_batch = images_train[idx,:,:,:]\n",
    "    y_batch = labels_train[idx, :]\n",
    "\n",
    "    return x_batch, y_batch\n",
    "\n",
    "######################################################\n",
    "# The Function for defineing the CNN Network\n",
    "######################################################"
   ]
  },
  {
   "cell_type": "markdown",
   "metadata": {},
   "source": [
    "### 4. Help Function for Building Network in Network"
   ]
  },
  {
   "cell_type": "code",
   "execution_count": 5,
   "metadata": {},
   "outputs": [],
   "source": [
    "# %load ./NIN.py\n",
    "#######################################################\n",
    "# The funciton is for building Network in Network.\n",
    "#######################################################\n",
    "def conv(x, W):\n",
    "    \"\"\"simple wrapper for tf.nn.conv2d\"\"\"\n",
    "    return tf.nn.conv2d(x, W, strides=[1, 1, 1, 1], padding='SAME')\n",
    "\n",
    "def maxpool(x):\n",
    "    \"\"\"simple wrapper for tf.nn.max_pool with kernel size 3, stride size 2\"\"\"\n",
    "    return tf.nn.max_pool(x, ksize=[1, 3, 3, 1], strides=[1, 2, 2, 1], padding='SAME')\n",
    "\n",
    "def avgpool(x, k = 3, s = 2, p = 'SAME'):\n",
    "    \"\"\"simple wrapper for tf.nn.max_pool with kernel size 3, stride size 2\"\"\"\n",
    "    return tf.nn.avg_pool(x, ksize=[1, k, k, 1], strides=[1, s, s, 1], padding= p)\n",
    "\n",
    "def dropout(x):\n",
    "    \"\"\"simple wrapper for tf.nn.dropout with dropout ratio 0.5\"\"\"\n",
    "    return tf.nn.dropout(x, 0.5)\n",
    "\n",
    "## Define the Network\n",
    "def compute_logits_NIN(x):\n",
    "    x_image = tf.reshape(x, [-1, img_size_cropped, img_size_cropped, 3])\n",
    "    # conv1 / relu1\n",
    "    W_conv1 = tf.get_variable('W_conv1', shape = [5, 5, 3, 192])\n",
    "    b_conv1 = tf.get_variable('b_conv1', shape = [192],)\n",
    "    h_conv1 = tf.nn.relu(tf.add(conv(x_image, W_conv1), b_conv1))\n",
    "    \n",
    "    # cccp1 / relu_cccp1\n",
    "    W_cccp1 = tf.get_variable('W_cccp1', shape = [1, 1, 192, 160])\n",
    "    b_cccp1 = tf.get_variable('b_cccp1', shape = [160])\n",
    "    h_cccp1 = tf.nn.relu(tf.add(conv(h_conv1, W_cccp1), b_cccp1))\n",
    "    \n",
    "    # cccp2 / relu_cccp2\n",
    "    W_cccp2 = tf.get_variable('W_cccp2', shape = [1, 1, 160, 96])\n",
    "    b_cccp2 = tf.get_variable('b_cccp2', shape = [96])\n",
    "    h_cccp2 = tf.nn.relu(tf.add(conv(h_cccp1, W_cccp2), b_cccp2))\n",
    "    \n",
    "    #print(h_cccp2)\n",
    "    h_pool1 = maxpool(h_cccp2)\n",
    "    # drop3\n",
    "    h_drop3 = dropout(h_pool1)\n",
    "    # conv2 / relu2\n",
    "    W_conv2 = tf.get_variable('W_conv2', shape = [5, 5, 96, 192])\n",
    "    b_conv2 = tf.get_variable('b_conv2',shape = [192])\n",
    "    h_conv2 = tf.nn.relu(tf.add(conv(h_drop3, W_conv2), b_conv2))\n",
    "    \n",
    "    # cccp3 / relu_cccp3\n",
    "    W_cccp3 = tf.get_variable('W_cccp3', shape = [1, 1, 192, 192])\n",
    "    b_cccp3 = tf.get_variable('b_cccp3', shape = [192])\n",
    "    h_cccp3 = tf.nn.relu(tf.add(conv(h_conv2, W_cccp3), b_cccp3))\n",
    "    \n",
    "    # cccp4 / relu_cccp4\n",
    "    W_cccp4 = tf.get_variable('W_cccp4', shape = [1, 1, 192, 192])\n",
    "    b_cccp4 = tf.get_variable('b_cccp4',shape = [192])\n",
    "    h_cccp4 = tf.nn.relu(tf.add(conv(h_cccp3, W_cccp4), b_cccp4))\n",
    "    # poo2\n",
    "    h_pool2 = avgpool(h_cccp4)\n",
    "    # drop6\n",
    "    h_drop6 = dropout(h_pool2)\n",
    "    \n",
    "    # conv3 / relu3\n",
    "    W_conv3 = tf.get_variable('W_conv3', shape = [3, 3, 192, 192])\n",
    "    b_conv3 = tf.get_variable('b_conv3',shape = [192],)\n",
    "    h_conv3 = tf.nn.relu(tf.add(conv(h_drop6, W_conv3), b_conv3))\n",
    "    \n",
    "    # cccp5 / relu_cccp5\n",
    "    W_cccp5 = tf.get_variable('W_cccp5', shape = [1, 1, 192, 192])\n",
    "    b_cccp5 = tf.get_variable('b_cccp5', shape = [192])\n",
    "    h_cccp5 = tf.nn.relu(tf.add(conv(h_conv3, W_cccp5), b_cccp5))\n",
    "    \n",
    "    # cccp6 / relu_cccp6\n",
    "    W_cccp6 = tf.get_variable('W_cccp6', shape = [1, 1, 192, 10])\n",
    "    b_cccp6 = tf.get_variable('b_cccp6',shape = [10])\n",
    "    h_cccp6 = tf.nn.relu(tf.nn.bias_add(conv(h_cccp5, W_cccp6), b_cccp6))\n",
    "    \n",
    "    # pool3\n",
    "    h_pool3 = avgpool(h_cccp6, 6, 1, 'VALID')\n",
    "    output_reshaped = tf.reshape(h_pool3, [-1,10])\n",
    "\n",
    "    return output_reshaped,h_conv1,h_cccp1,h_cccp2,h_pool1,h_conv2,h_pool2,h_cccp3,h_cccp4,h_conv3,h_cccp5,h_cccp6,h_pool3\n",
    "\n",
    "###########################################################\n",
    "#############################################################"
   ]
  },
  {
   "cell_type": "markdown",
   "metadata": {},
   "source": [
    "### 5. Help Function for Network Visulization and Model Evaluation"
   ]
  },
  {
   "cell_type": "code",
   "execution_count": 6,
   "metadata": {},
   "outputs": [],
   "source": [
    "# %load ./Visulization.py\n",
    "########################################################################\n",
    "# The functions are for showing the original images\n",
    "########################################################################\n",
    "def plot_images(images, cls_true, cls_pred=None, smooth=True):\n",
    "\n",
    "    assert len(images) == len(cls_true) == 9\n",
    "    fig, axes = plt.subplots(3, 3)\n",
    "\n",
    "    # Adjust vertical spacing if we need to print ensemble and best-net.\n",
    "    if cls_pred is None:\n",
    "        hspace = 0.3\n",
    "    else:\n",
    "        hspace = 0.6\n",
    "    fig.subplots_adjust(hspace=hspace, wspace=0.3)\n",
    "\n",
    "    for i, ax in enumerate(axes.flat):\n",
    "        # Interpolation type.\n",
    "        if smooth:\n",
    "            interpolation = 'spline16'\n",
    "        else:\n",
    "            interpolation = 'nearest'\n",
    "\n",
    "        # Plot image.\n",
    "        ax.imshow(images[i, :, :, :],\n",
    "                  interpolation=interpolation)\n",
    "            \n",
    "        # Name of the true class.\n",
    "        cls_true_name = class_names[cls_true[i]]\n",
    "\n",
    "        # Show true and predicted classes.\n",
    "        if cls_pred is None:\n",
    "            xlabel = \"True: {0}\".format(cls_true_name)\n",
    "        else:\n",
    "            # Name of the predicted class.\n",
    "            cls_pred_name = class_names[cls_pred[i]]\n",
    "\n",
    "            xlabel = \"True: {0}\\nPred: {1}\".format(cls_true_name, cls_pred_name)\n",
    "\n",
    "        # Show the classes as the label on the x-axis.\n",
    "        ax.set_xlabel(xlabel)\n",
    "        \n",
    "        # Remove ticks from the plot.\n",
    "        ax.set_xticks([])\n",
    "        ax.set_yticks([])\n",
    "\n",
    "    plt.show()\n",
    "\n",
    "\n",
    "\n",
    "\n",
    "########################################################################\n",
    "# The functions are for showing different layer for the networks\n",
    "########################################################################\n",
    "def getActivations(sess,layer_name,image_name):\n",
    "    units = sess.run(layer_name,feed_dict={x:image_name})\n",
    "    plotNNFilter(units)\n",
    "    \n",
    "    \n",
    "def plotNNFilter(units):\n",
    "    filters = units.shape[3]\n",
    "    plt.figure(1, figsize=(20,20))\n",
    "    n_columns = 6\n",
    "    n_rows = math.ceil(filters / n_columns) + 1\n",
    "    for i in range(filters):\n",
    "        plt.subplot(n_rows, n_columns, i+1)\n",
    "        plt.title('Filter ' + str(i))\n",
    "        plt.imshow(units[0,:,:,i], interpolation=\"nearest\", cmap=\"gray\")\n"
   ]
  },
  {
   "cell_type": "markdown",
   "metadata": {},
   "source": [
    "## 2. Download and Import Data"
   ]
  },
  {
   "cell_type": "code",
   "execution_count": 7,
   "metadata": {},
   "outputs": [
    {
     "name": "stdout",
     "output_type": "stream",
     "text": [
      "Data has apparently already been downloaded and unpacked.\n"
     ]
    }
   ],
   "source": [
    "maybe_download_and_extract(url=data_url, download_dir=data_path)"
   ]
  },
  {
   "cell_type": "code",
   "execution_count": 8,
   "metadata": {},
   "outputs": [
    {
     "name": "stdout",
     "output_type": "stream",
     "text": [
      "Loading data: data/CIFAR-10/cifar-10-batches-py/batches.meta\n"
     ]
    },
    {
     "data": {
      "text/plain": [
       "['airplane',\n",
       " 'automobile',\n",
       " 'bird',\n",
       " 'cat',\n",
       " 'deer',\n",
       " 'dog',\n",
       " 'frog',\n",
       " 'horse',\n",
       " 'ship',\n",
       " 'truck']"
      ]
     },
     "execution_count": 8,
     "metadata": {},
     "output_type": "execute_result"
    },
    {
     "data": {
      "text/plain": [
       "32"
      ]
     },
     "execution_count": 8,
     "metadata": {},
     "output_type": "execute_result"
    },
    {
     "data": {
      "text/plain": [
       "3"
      ]
     },
     "execution_count": 8,
     "metadata": {},
     "output_type": "execute_result"
    },
    {
     "data": {
      "text/plain": [
       "10"
      ]
     },
     "execution_count": 8,
     "metadata": {},
     "output_type": "execute_result"
    }
   ],
   "source": [
    "# show the labels\n",
    "class_names = load_class_names()\n",
    "class_names\n",
    "# show bisic property of the dta set\n",
    "img_size\n",
    "num_channels\n",
    "num_classes"
   ]
  },
  {
   "cell_type": "code",
   "execution_count": 9,
   "metadata": {},
   "outputs": [
    {
     "name": "stdout",
     "output_type": "stream",
     "text": [
      "Loading data: data/CIFAR-10/cifar-10-batches-py/test_batch\n"
     ]
    }
   ],
   "source": [
    "# Load Data to see the original images\n",
    "images_test_for_print, cls_test_for_print, labels_test_for_print = load_test_data_for_print()"
   ]
  },
  {
   "cell_type": "markdown",
   "metadata": {},
   "source": [
    "**Show the original image**"
   ]
  },
  {
   "cell_type": "code",
   "execution_count": 10,
   "metadata": {},
   "outputs": [
    {
     "data": {
      "image/png": "[encoded data removed]",
      "text/plain": [
       "<matplotlib.figure.Figure at 0x1e8bccbf0f0>"
      ]
     },
     "metadata": {},
     "output_type": "display_data"
    }
   ],
   "source": [
    "plot_images(images_test_for_print[1:10,:,:,:],cls_test_for_print[1:10], cls_pred=None, smooth=False)"
   ]
  },
  {
   "cell_type": "code",
   "execution_count": 11,
   "metadata": {},
   "outputs": [
    {
     "name": "stdout",
     "output_type": "stream",
     "text": [
      "Loading data: data/CIFAR-10/cifar-10-batches-py/data_batch_1\n",
      "Loading data: data/CIFAR-10/cifar-10-batches-py/data_batch_2\n",
      "Loading data: data/CIFAR-10/cifar-10-batches-py/data_batch_3\n",
      "Loading data: data/CIFAR-10/cifar-10-batches-py/data_batch_4\n",
      "Loading data: data/CIFAR-10/cifar-10-batches-py/data_batch_5\n",
      "Loading data: data/CIFAR-10/cifar-10-batches-py/test_batch\n"
     ]
    }
   ],
   "source": [
    "images_train, cls_train, labels_train = load_training_data()\n",
    "images_test, cls_test, labels_test = load_test_data()"
   ]
  },
  {
   "cell_type": "code",
   "execution_count": 13,
   "metadata": {},
   "outputs": [],
   "source": [
    "images_train = images_train[0:100,:,:,:]\n",
    "images_test = images_test[0:100,:,:,:]\n",
    "labels_train = labels_train[0:100,:]\n",
    "labels_test = labels_test[0:100,:]"
   ]
  },
  {
   "cell_type": "code",
   "execution_count": 14,
   "metadata": {},
   "outputs": [
    {
     "data": {
      "text/plain": [
       "(100, 32, 32, 3)"
      ]
     },
     "execution_count": 14,
     "metadata": {},
     "output_type": "execute_result"
    },
    {
     "data": {
      "text/plain": [
       "(100, 32, 32, 3)"
      ]
     },
     "execution_count": 14,
     "metadata": {},
     "output_type": "execute_result"
    },
    {
     "data": {
      "text/plain": [
       "(100, 10)"
      ]
     },
     "execution_count": 14,
     "metadata": {},
     "output_type": "execute_result"
    },
    {
     "data": {
      "text/plain": [
       "(100, 10)"
      ]
     },
     "execution_count": 14,
     "metadata": {},
     "output_type": "execute_result"
    }
   ],
   "source": [
    "# Check the data shape \n",
    "images_train.shape\n",
    "images_test.shape\n",
    "labels_train.shape   ##label_train and test_train is the one-hot coded label \n",
    "labels_test.shape"
   ]
  },
  {
   "cell_type": "markdown",
   "metadata": {},
   "source": [
    "**Show the images after preprocessing**"
   ]
  },
  {
   "cell_type": "code",
   "execution_count": 15,
   "metadata": {},
   "outputs": [
    {
     "data": {
      "image/png": "[encoded data removed]",
      "text/plain": [
       "<matplotlib.figure.Figure at 0x1e8c2639be0>"
      ]
     },
     "metadata": {},
     "output_type": "display_data"
    }
   ],
   "source": [
    "plot_images(images_train[1:10,:,:,:], cls_train[1:10], cls_pred=None, smooth=False)"
   ]
  },
  {
   "cell_type": "markdown",
   "metadata": {},
   "source": [
    "## 3. Train the CNN Garph"
   ]
  },
  {
   "cell_type": "code",
   "execution_count": 16,
   "metadata": {},
   "outputs": [],
   "source": [
    "now = datetime.now()\n",
    "\n",
    "dir_name = './CNN/log_{0}_{1}'.format(now.month,now.day)\n",
    "export_dir = './CNN/savedmodel_{0}_{1}_{2}_{3}'.format(now.month,now.day,now.hour,now.second)\n",
    "img_size_cropped = 24\n",
    "\n",
    "batch_size = 128\n",
    "num_iterations = 20000\n",
    "opt_method = 'adam'"
   ]
  },
  {
   "cell_type": "markdown",
   "metadata": {},
   "source": [
    "## 4. Evaluate the CNN Graph"
   ]
  },
  {
   "cell_type": "markdown",
   "metadata": {},
   "source": [
    "## 5. Train the NIN Graph"
   ]
  },
  {
   "cell_type": "code",
   "execution_count": 25,
   "metadata": {},
   "outputs": [],
   "source": [
    "now = datetime.now()\n",
    "\n",
    "#dir_name = 'log_{0}_{1}'.format(now.month,now.day)\n",
    "dir_name = './NIN/log'\n",
    "export_dir = './NIN/savedmodel_{0}_{1}_{2}_{3}'.format(now.month,now.day,now.hour,now.second)\n",
    "img_size_cropped = 24\n",
    "\n",
    "batch_size = 10\n",
    "num_iterations = 100\n",
    "opt_method = 'adam'"
   ]
  },
  {
   "cell_type": "code",
   "execution_count": 26,
   "metadata": {},
   "outputs": [
    {
     "name": "stdout",
     "output_type": "stream",
     "text": [
      "conv1: (?, 24, 24, 192) cccp1: (?, 24, 24, 160) cccp2: (?, 24, 24, 96) pool1: (?, 12, 12, 96) conv2: (?, 12, 12, 192) pool2: (?, 6, 6, 192) conv3: (?, 6, 6, 192) cccp5: (?, 6, 6, 192)\n"
     ]
    },
    {
     "data": {
      "text/plain": [
       "<tf.Tensor 'summaries/loss:0' shape=() dtype=string>"
      ]
     },
     "execution_count": 26,
     "metadata": {},
     "output_type": "execute_result"
    },
    {
     "data": {
      "text/plain": [
       "<tf.Tensor 'summaries/accuracy:0' shape=() dtype=string>"
      ]
     },
     "execution_count": 26,
     "metadata": {},
     "output_type": "execute_result"
    },
    {
     "data": {
      "text/plain": [
       "<tf.Tensor 'summaries/logits:0' shape=() dtype=string>"
      ]
     },
     "execution_count": 26,
     "metadata": {},
     "output_type": "execute_result"
    },
    {
     "data": {
      "text/plain": [
       "<tf.Tensor 'summaries/input:0' shape=() dtype=string>"
      ]
     },
     "execution_count": 26,
     "metadata": {},
     "output_type": "execute_result"
    },
    {
     "name": "stdout",
     "output_type": "stream",
     "text": [
      "Step   0: training accuracy 0.1000\n",
      "Step   0: val accuracy 0.1600\n"
     ]
    },
    {
     "data": {
      "text/plain": [
       "'./model/model_iter-0'"
      ]
     },
     "execution_count": 26,
     "metadata": {},
     "output_type": "execute_result"
    },
    {
     "name": "stdout",
     "output_type": "stream",
     "text": [
      "Step  20: training accuracy 0.0000\n",
      "Step  20: val accuracy 0.0700\n"
     ]
    },
    {
     "data": {
      "text/plain": [
       "'./model/model_iter-20'"
      ]
     },
     "execution_count": 26,
     "metadata": {},
     "output_type": "execute_result"
    },
    {
     "name": "stdout",
     "output_type": "stream",
     "text": [
      "Step  40: training accuracy 0.0000\n",
      "Step  40: val accuracy 0.1000\n"
     ]
    },
    {
     "data": {
      "text/plain": [
       "'./model/model_iter-40'"
      ]
     },
     "execution_count": 26,
     "metadata": {},
     "output_type": "execute_result"
    },
    {
     "name": "stdout",
     "output_type": "stream",
     "text": [
      "Step  60: training accuracy 0.1000\n",
      "Step  60: val accuracy 0.1100\n"
     ]
    },
    {
     "data": {
      "text/plain": [
       "'./model/model_iter-60'"
      ]
     },
     "execution_count": 26,
     "metadata": {},
     "output_type": "execute_result"
    },
    {
     "name": "stdout",
     "output_type": "stream",
     "text": [
      "Step  80: training accuracy 0.2000\n",
      "Step  80: val accuracy 0.0800\n"
     ]
    },
    {
     "data": {
      "text/plain": [
       "'./model/model_iter-80'"
      ]
     },
     "execution_count": 26,
     "metadata": {},
     "output_type": "execute_result"
    },
    {
     "name": "stdout",
     "output_type": "stream",
     "text": [
      "INFO:tensorflow:No assets to save.\n",
      "INFO:tensorflow:No assets to write.\n",
      "INFO:tensorflow:SavedModel written to: b'./NIN/savedmodel_12_14_12_24\\\\saved_model.pb'\n"
     ]
    },
    {
     "data": {
      "text/plain": [
       "b'./NIN/savedmodel_12_14_12_24\\\\saved_model.pb'"
      ]
     },
     "execution_count": 26,
     "metadata": {},
     "output_type": "execute_result"
    }
   ],
   "source": [
    "builder = tf.saved_model.builder.SavedModelBuilder(export_dir)\n",
    "\n",
    "with tf.Graph().as_default():\n",
    "    \n",
    "    global_step = tf.train.get_or_create_global_step()\n",
    "\n",
    "    # Get images and labels for CIFAR-10.\n",
    "    # Force input pipeline to CPU:0 to avoid operations sometimes ending up on\n",
    "    # GPU and resulting in a slow down.\n",
    "    \n",
    "    with tf.device('/cpu:0'):\n",
    "        # We build the model here as before\n",
    "        x= tf.placeholder(tf.float32, shape=[None,32,32, num_channels], name='x')\n",
    "        y_true = tf.placeholder(tf.float32, shape=[None, num_classes], name='y_true')\n",
    "        \n",
    "        images = x\n",
    "        images = pre_process(images=images, training=True)\n",
    "        \n",
    "        with tf.name_scope('model'):\n",
    "            logits,conv1,cccp1,cccp2,pool1,conv2,pool2,cccp3,cccp4,conv3,cccp5,cccp6,pool3 = compute_logits_NIN(images)\n",
    "\n",
    "            print('conv1:',conv1.shape,\n",
    "                  'cccp1:',cccp1.shape,\n",
    "                  'cccp2:',cccp2.shape,\n",
    "                  'pool1:',pool1.shape,\n",
    "                  'conv2:',conv2.shape,\n",
    "                  'pool2:',pool2.shape,\n",
    "                  'conv3:',conv3.shape,\n",
    "                  'cccp5:',cccp5.shape)\n",
    "            \n",
    "        with tf.name_scope('loss'):\n",
    "            loss = compute_cross_entropy(logits=logits, y=y_true)\n",
    "        with tf.name_scope('accuracy'):\n",
    "            accuracy = compute_accuracy(logits=logits, y=y_true)\n",
    "            \n",
    "        \n",
    "        with tf.name_scope('opt'):   \n",
    "            if opt_method == 'sgd':\n",
    "                opt = tf.train.GradientDescentOptimizer(0.5)\n",
    "            elif opt_method == 'rms':\n",
    "                opt = tf.train.RMSPropOptimizer(.001)\n",
    "            elif opt_method == 'adam':\n",
    "                opt = tf.train.AdamOptimizer(1e-4)\n",
    "            train_step = opt.minimize(loss)\n",
    "                \n",
    "        with tf.name_scope('summaries'):\n",
    "            # create summary for loss and accuracy\n",
    "            tf.summary.scalar('loss', loss) \n",
    "            tf.summary.scalar('accuracy', accuracy)\n",
    "            # create summary for logits\n",
    "            tf.summary.histogram('logits', logits)\n",
    "            # create summary for input image\n",
    "            tf.summary.image('input', tf.reshape(images, [-1,img_size_cropped,img_size_cropped, num_channels]))\n",
    "            summary_op = tf.summary.merge_all()\n",
    "    \n",
    "        saver = tf.train.Saver()    ##Save the model\n",
    "        \n",
    "        sess = tf.Session()\n",
    "    \n",
    "        summary_writer = tf.summary.FileWriter(dir_name, sess.graph)\n",
    "        summary_writer_train = tf.summary.FileWriter(dir_name+'/train', sess.graph)\n",
    "        summary_writer_val = tf.summary.FileWriter(dir_name+'/val')\n",
    "        \n",
    "        sess.run(tf.global_variables_initializer())\n",
    "    \n",
    "        for i in range(num_iterations):\n",
    "            X_batch, y_batch = random_batch()\n",
    "            \n",
    "            # now run\n",
    "            _ , summary = sess.run((train_step, summary_op),\n",
    "                                      feed_dict={x: X_batch, y_true: y_batch})\n",
    "            \n",
    "                \n",
    "                # write the summary output to file\n",
    "            if i%200==0:\n",
    "                \n",
    "                summary_writer_train.add_summary(summary, i)                    \n",
    "                (train_error,train_logits) = sess.run((accuracy,logits), {x: X_batch, y_true: y_batch})\n",
    "                print(\"\\rStep {0:3d}: training accuracy {1:0.4f}\".format(i, train_error), flush=True)\n",
    "                \n",
    "                X_batch2 = images_test\n",
    "                y_batch2 = labels_test\n",
    "                (val_error, summary) = sess.run((accuracy,summary_op), {x:X_batch2, y_true:y_batch2})\n",
    "                print(\"\\rStep {0:3d}: val accuracy {1:0.4f}\".format(i, val_error), flush=True)\n",
    "                \n",
    "                summary_writer_val.add_summary(summary, i)\n",
    "                saver.save(sess, './model/model_iter', global_step=i)\n",
    "                \n",
    "        # Save the final model\n",
    "        save_path = saver.save(sess, \"./model/model.ckpt\")\n",
    "        builder.add_meta_graph_and_variables(sess,[\"foo-tag\"])\n",
    "builder.save()"
   ]
  },
  {
   "cell_type": "markdown",
   "metadata": {},
   "source": [
    "## 6. Evaluate the CNN Graph"
   ]
  },
  {
   "cell_type": "markdown",
   "metadata": {},
   "source": [
    "### 1. Show the shape of different layers"
   ]
  },
  {
   "cell_type": "code",
   "execution_count": 27,
   "metadata": {},
   "outputs": [
    {
     "data": {
      "text/plain": [
       "(<tf.Tensor 'model/Relu:0' shape=(?, 24, 24, 192) dtype=float32>,\n",
       " <tf.Tensor 'model/Relu_1:0' shape=(?, 24, 24, 160) dtype=float32>,\n",
       " <tf.Tensor 'model/Relu_2:0' shape=(?, 24, 24, 96) dtype=float32>,\n",
       " <tf.Tensor 'model/MaxPool:0' shape=(?, 12, 12, 96) dtype=float32>,\n",
       " <tf.Tensor 'model/Relu_3:0' shape=(?, 12, 12, 192) dtype=float32>,\n",
       " <tf.Tensor 'model/AvgPool:0' shape=(?, 6, 6, 192) dtype=float32>,\n",
       " <tf.Tensor 'model/Relu_4:0' shape=(?, 12, 12, 192) dtype=float32>,\n",
       " <tf.Tensor 'model/Relu_5:0' shape=(?, 12, 12, 192) dtype=float32>,\n",
       " <tf.Tensor 'model/Relu_6:0' shape=(?, 6, 6, 192) dtype=float32>,\n",
       " <tf.Tensor 'model/Relu_7:0' shape=(?, 6, 6, 192) dtype=float32>,\n",
       " <tf.Tensor 'model/Relu_8:0' shape=(?, 6, 6, 10) dtype=float32>,\n",
       " <tf.Tensor 'model/AvgPool_1:0' shape=(?, 1, 1, 10) dtype=float32>)"
      ]
     },
     "execution_count": 27,
     "metadata": {},
     "output_type": "execute_result"
    }
   ],
   "source": [
    "conv1,cccp1,cccp2,pool1,conv2,pool2,cccp3,cccp4,conv3,cccp5,cccp6,pool3"
   ]
  },
  {
   "cell_type": "markdown",
   "metadata": {},
   "source": [
    "### 2. Visualize the Conv Layers"
   ]
  },
  {
   "cell_type": "code",
   "execution_count": 28,
   "metadata": {},
   "outputs": [
    {
     "data": {
      "image/png": "[encoded data removed]",
      "text/plain": [
       "<matplotlib.figure.Figure at 0x1e8804f9978>"
      ]
     },
     "metadata": {},
     "output_type": "display_data"
    }
   ],
   "source": [
    "getActivations(sess,pool1,images_test)"
   ]
  },
  {
   "cell_type": "code",
   "execution_count": 36,
   "metadata": {},
   "outputs": [],
   "source": [
    "getActivations(sess,pool2,images_test)"
   ]
  },
  {
   "cell_type": "markdown",
   "metadata": {},
   "source": [
    "### 3. Plot the confusion Matrix"
   ]
  },
  {
   "cell_type": "code",
   "execution_count": null,
   "metadata": {},
   "outputs": [],
   "source": []
  }
 ],
 "metadata": {
  "kernelspec": {
   "display_name": "Python 3",
   "language": "python",
   "name": "python3"
  },
  "language_info": {
   "codemirror_mode": {
    "name": "ipython",
    "version": 3
   },
   "file_extension": ".py",
   "mimetype": "text/x-python",
   "name": "python",
   "nbconvert_exporter": "python",
   "pygments_lexer": "ipython3",
   "version": "3.6.2"
  }
 },
 "nbformat": 4,
 "nbformat_minor": 2
}
